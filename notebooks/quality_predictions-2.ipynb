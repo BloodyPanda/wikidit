{
 "cells": [
  {
   "cell_type": "markdown",
   "metadata": {},
   "source": [
    "# Ordinal model"
   ]
  },
  {
   "cell_type": "markdown",
   "metadata": {},
   "source": [
    "This messy notebook trains the XGboost model used in wikidit."
   ]
  },
  {
   "cell_type": "code",
   "execution_count": 1,
   "metadata": {},
   "outputs": [],
   "source": [
    "import sys\n",
    "sys.path.append(\"..\")\n",
    "%load_ext autoreload\n",
    "%autoreload 2\n",
    "import wikidit"
   ]
  },
  {
   "cell_type": "code",
   "execution_count": 2,
   "metadata": {},
   "outputs": [],
   "source": [
    "from wikidit.preprocessing import _load_backlog, WP10_LABELS\n",
    "from wikidit.io import read_labeled\n",
    "from wikidit.ordinal import SequentialClassifier\n",
    "\n",
    "from sklearn.model_selection import RandomizedSearchCV\n",
    "from sklearn.model_selection import cross_validate, train_test_split\n",
    "from sklearn.metrics import (f1_score, roc_auc_score, accuracy_score, \n",
    "                             precision_score, recall_score, log_loss, \n",
    "                             confusion_matrix)\n",
    "from sklearn.base import clone"
   ]
  },
  {
   "cell_type": "markdown",
   "metadata": {},
   "source": [
    "# Train Model"
   ]
  },
  {
   "cell_type": "code",
   "execution_count": 3,
   "metadata": {},
   "outputs": [],
   "source": [
    "output_dir = \"../data/enwiki-labeling_revisions-w_features/\"\n",
    "revisions = read_labeled(output_dir)"
   ]
  },
  {
   "cell_type": "code",
   "execution_count": 4,
   "metadata": {},
   "outputs": [],
   "source": [
    "from sklearn.model_selection import train_test_split"
   ]
  },
  {
   "cell_type": "code",
   "execution_count": 5,
   "metadata": {},
   "outputs": [],
   "source": [
    "import pandas as pd\n",
    "import numpy as np\n",
    "from sklearn.pipeline import Pipeline\n",
    "from sklearn_pandas import DataFrameMapper\n",
    "import xgboost as xgb\n",
    "import dill\n",
    "import itertools\n",
    "\n",
    "from sklearn.preprocessing import FunctionTransformer, Binarizer\n",
    "\n",
    "count_cols = ['words',\n",
    "             # infobox as a binary\n",
    "             'backlog_accuracy',\n",
    "             'backlog_content',\n",
    "             'backlog_other',\n",
    "             'backlog_style',\n",
    "             'backlog_links']\n",
    "\n",
    "per_word_cols = [\n",
    "             'headings_per_word',\n",
    "             'sub_headings_per_word',\n",
    "             # links\n",
    "             'images_per_word',\n",
    "             'categories_per_word',\n",
    "             'wikilinks_per_word',\n",
    "             'external_links_per_word',\n",
    "             # templates\n",
    "             'main_templates_per_word',\n",
    "             'cite_templates_per_word',\n",
    "             'ref_per_word'    \n",
    "]\n",
    "\n",
    "binarized_cols = ['coordinates', 'infoboxes']\n",
    "\n",
    "response_col = ['wp10']\n",
    "\n",
    "def create_features(df):\n",
    "    df = df.copy()\n",
    "    for c in count_cols:\n",
    "        df[c] = np.sqrt(df[c])\n",
    "    for c in binarized_cols:\n",
    "        df[c] = df[c].astype(bool)\n",
    "    allcols = list(itertools.chain(per_word_cols, count_cols, binarized_cols))\n",
    "    return df.loc[:, allcols]\n",
    "\n",
    "mapper = DataFrameMapper([\n",
    "    (count_cols, FunctionTransformer(func=np.sqrt, validate=False)),\n",
    "    (binarized_cols, Binarizer()),\n",
    "    (per_word_cols, None)\n",
    "])\n",
    "\n",
    "xgb_params = {\n",
    "  'silent': True,\n",
    "  'booster': 'gbtree',\n",
    "  'objective': 'binary:logistic',\n",
    "  'random_state': 12345,\n",
    "  'learning_rate': 0.1,\n",
    "  'n_estimators': 100,\n",
    "  'min_child_weight': 1,\n",
    "  'gamma': 0,\n",
    "  'subsample': 1,\n",
    "  'colsample_bytree': 1,\n",
    "  'max_depth': 3,\n",
    "  'nthread': 4\n",
    "}\n",
    "\n",
    "clf = xgb.XGBClassifier(**xgb_params)\n",
    "\n",
    "X = mapper.fit_transform(revisions)\n",
    "y = revisions['wp10'].values.codes"
   ]
  },
  {
   "cell_type": "markdown",
   "metadata": {},
   "source": [
    "# Parameter Tuning"
   ]
  },
  {
   "cell_type": "code",
   "execution_count": 6,
   "metadata": {},
   "outputs": [],
   "source": [
    "X_train, X_test, y_train, y_test = train_test_split(X, y, train_size=0.8, test_size=0.2, stratify=y)"
   ]
  },
  {
   "cell_type": "code",
   "execution_count": 8,
   "metadata": {},
   "outputs": [],
   "source": [
    "from scipy.stats.distributions import randint\n",
    "\n",
    "rnd_search_pars = {'n_iter': 20, 'n_jobs': 4, 'cv': 5}\n",
    "\n",
    "xgb_param_grid = {\n",
    "    'n_estimators': [50, 100, 200],\n",
    "    'learning_rate': [0.1, 0.05, 0.2],\n",
    "    'min_child_weight': randint(1, 5),\n",
    "    'gamma': [0, 0.125, 0.25, 0.5, 1, 2],\n",
    "    'subsample': [0.8, 0.9, 0.95, 0.99, 1],\n",
    "    'colsample_bytree': [0.8, 0.9, 0.95, 0.99, 1],\n",
    "    'max_depth': randint(2, 8)\n",
    "}\n",
    "\n",
    "rnd_search = RandomizedSearchCV(clf, xgb_param_grid, scoring='neg_log_loss',\n",
    "                                random_state=1234,\n",
    "                                **rnd_search_pars)\n",
    "rnd_results = rnd_search.fit(X_train, y_train)"
   ]
  },
  {
   "cell_type": "code",
   "execution_count": 9,
   "metadata": {},
   "outputs": [],
   "source": [
    "y_pred = rnd_results.predict(X_test)\n",
    "prob_pred = rnd_results.predict_proba(X_test)"
   ]
  },
  {
   "cell_type": "markdown",
   "metadata": {},
   "source": [
    "To account for the accuracy, average the number of correct binary classifications each observation, then average over all observations."
   ]
  },
  {
   "cell_type": "code",
   "execution_count": 10,
   "metadata": {},
   "outputs": [
    {
     "data": {
      "text/plain": [
       "0.8966538164996145"
      ]
     },
     "execution_count": 10,
     "metadata": {},
     "output_type": "execute_result"
    }
   ],
   "source": [
    "1 - np.mean(np.abs(y_pred - y_test) / 5)"
   ]
  },
  {
   "cell_type": "code",
   "execution_count": 11,
   "metadata": {},
   "outputs": [],
   "source": [
    "predictions = pd.DataFrame({'actual': y_test, 'pred': y_pred})\n",
    "for c in ('actual', 'pred'):\n",
    "    predictions[c] = pd.Categorical.from_codes(predictions[c], WP10_LABELS)"
   ]
  },
  {
   "cell_type": "code",
   "execution_count": 12,
   "metadata": {},
   "outputs": [],
   "source": [
    "import seaborn as sns\n",
    "import matplotlib.pyplot as plt"
   ]
  },
  {
   "cell_type": "code",
   "execution_count": 13,
   "metadata": {},
   "outputs": [],
   "source": [
    "confusion = predictions.groupby(['actual', 'pred']).aggregate(len).reset_index()\n",
    "confusion = confusion.rename(columns={0: 'n'})\n",
    "confusion['p'] = confusion['n'] / confusion['n'].sum()\n",
    "actual_totals = confusion.groupby(['actual'])['n'].transform('sum')\n",
    "confusion['p_actual'] = confusion['n'] / actual_totals"
   ]
  },
  {
   "cell_type": "code",
   "execution_count": 14,
   "metadata": {},
   "outputs": [],
   "source": [
    "confusion_table = confusion.pivot(index='actual', columns='pred', values='p_actual').fillna(0)"
   ]
  },
  {
   "cell_type": "code",
   "execution_count": 15,
   "metadata": {},
   "outputs": [
    {
     "data": {
      "image/png": "[encoded data removed]",
      "text/plain": [
       "<Figure size 432x288 with 2 Axes>"
      ]
     },
     "metadata": {
      "needs_background": "light"
     },
     "output_type": "display_data"
    }
   ],
   "source": [
    "sns.heatmap(confusion_table, vmin=0, vmax=1)\n",
    "plt.ylabel('Actual')\n",
    "plt.xlabel('Predicted')\n",
    "plt.savefig('confusion-matrix.png')\n",
    "plt.show()"
   ]
  },
  {
   "cell_type": "markdown",
   "metadata": {},
   "source": [
    "# Fit Final model"
   ]
  },
  {
   "cell_type": "code",
   "execution_count": 16,
   "metadata": {},
   "outputs": [],
   "source": [
    "pipeline = Pipeline([('mapper', mapper), ('clf', clone(rnd_results.best_estimator_))])"
   ]
  },
  {
   "cell_type": "code",
   "execution_count": 17,
   "metadata": {},
   "outputs": [
    {
     "data": {
      "text/plain": [
       "Pipeline(memory=None,\n",
       "     steps=[('mapper', DataFrameMapper(default=False, df_out=False,\n",
       "        features=[(['words', 'backlog_accuracy', 'backlog_content', 'backlog_other', 'backlog_style', 'backlog_links'], FunctionTransformer(accept_sparse=False, check_inverse=True,\n",
       "          func=<ufunc 'sqrt'>, inv_kw_args=None, inverse...345, reg_alpha=0, reg_lambda=1, scale_pos_weight=1,\n",
       "       seed=None, silent=True, subsample=0.99))])"
      ]
     },
     "execution_count": 17,
     "metadata": {},
     "output_type": "execute_result"
    }
   ],
   "source": [
    "pipeline.fit(revisions, y)"
   ]
  },
  {
   "cell_type": "code",
   "execution_count": 18,
   "metadata": {},
   "outputs": [],
   "source": [
    "with open(\"../models/xgboost-sequential.pkl\", \"wb\") as f:\n",
    "    dill.dump(pipeline, f)"
   ]
  },
  {
   "cell_type": "markdown",
   "metadata": {},
   "source": [
    "# Tree of the Ordinal Model"
   ]
  },
  {
   "cell_type": "markdown",
   "metadata": {},
   "source": [
    "Graphic of the tree of the ordinal model used in training."
   ]
  },
  {
   "cell_type": "code",
   "execution_count": null,
   "metadata": {},
   "outputs": [],
   "source": [
    "from graphviz import Digraph"
   ]
  },
  {
   "cell_type": "code",
   "execution_count": null,
   "metadata": {},
   "outputs": [],
   "source": [
    "dot = Digraph(format='png')\n",
    "dot.node('root', \"\")\n",
    "dot.node('stub', 'P(Stub)', shape=\"rectangle\")\n",
    "dot.node('gtstub', \"\")\n",
    "dot.node('start', \"P(Start)\", shape=\"rectangle\")\n",
    "dot.node('gtstart', \"\", )\n",
    "dot.node('c', 'P(C)', shape=\"rectangle\")\n",
    "dot.node('gtc', \"\")\n",
    "dot.node('b', 'P(B)', shape=\"rectangle\")\n",
    "dot.node('gtb', \"\")\n",
    "dot.node('ga', 'P(GA)', shape=\"rectangle\")\n",
    "dot.node('fa', 'P(FA)', shape=\"rectangle\")\n",
    "dot.edge(\"root\", \"stub\", label=\"P(Stub)\")\n",
    "dot.edge(\"root\", \"gtstub\", label=\"P(X > Stub)\")\n",
    "dot.edge('gtstub', 'start', label=\"P(Start)\")\n",
    "dot.edge('gtstub', 'gtstart', label=\"P(X > Start | X > Stub)\")\n",
    "dot.edge('gtstart', 'c', label=\"P(X = C | X > Start)\")\n",
    "dot.edge('gtstart', 'gtc', label=\"P(X > C | X > Start)\")\n",
    "dot.edge('gtc', 'b', label=\"P(X > Start | X > C)\")\n",
    "dot.edge('gtc', 'gtb', label=\"P(X > Start | X > C)\")\n",
    "dot.edge('gtb', 'ga', label=\"P(X = GA | X > B)\")\n",
    "dot.edge('gtb', 'fa', label=\"P(X = FA | X > B)\")\n",
    "print(dot.source)"
   ]
  },
  {
   "cell_type": "code",
   "execution_count": null,
   "metadata": {},
   "outputs": [],
   "source": [
    "dot.render('model.gv', view=True)"
   ]
  },
  {
   "cell_type": "markdown",
   "metadata": {},
   "source": [
    "# Information on Training Set"
   ]
  },
  {
   "cell_type": "code",
   "execution_count": null,
   "metadata": {},
   "outputs": [],
   "source": [
    "revisions.groupby('wp10')['wp10'].count()"
   ]
  },
  {
   "cell_type": "code",
   "execution_count": null,
   "metadata": {},
   "outputs": [],
   "source": [
    "foo.score(revisions_test, y_test)"
   ]
  },
  {
   "cell_type": "markdown",
   "metadata": {},
   "source": [
    "# Feature Importances"
   ]
  },
  {
   "cell_type": "code",
   "execution_count": null,
   "metadata": {},
   "outputs": [],
   "source": [
    "import matplotlib.pyplot as plt\n",
    "for cat, model in model.named_steps['clf'].named_estimators_.items():\n",
    "    xgb.plot_importance(model)\n",
    "    plt.title(f\"Feature importance for {cat}\")\n",
    "    plt.show()"
   ]
  },
  {
   "cell_type": "code",
   "execution_count": null,
   "metadata": {},
   "outputs": [],
   "source": [
    "model"
   ]
  },
  {
   "cell_type": "markdown",
   "metadata": {},
   "source": [
    "# Check one page"
   ]
  },
  {
   "cell_type": "code",
   "execution_count": null,
   "metadata": {},
   "outputs": [],
   "source": [
    "from wikidit.mw import get_page, Session"
   ]
  },
  {
   "cell_type": "code",
   "execution_count": null,
   "metadata": {},
   "outputs": [],
   "source": [
    "session = Session()\n",
    "page = get_page(session, \"Data science\")"
   ]
  },
  {
   "cell_type": "code",
   "execution_count": null,
   "metadata": {},
   "outputs": [],
   "source": [
    "from wikidit.preprocessing import Featurizer\n",
    "featurizer = Featurizer()"
   ]
  },
  {
   "cell_type": "code",
   "execution_count": null,
   "metadata": {},
   "outputs": [],
   "source": [
    "featurized = featurizer.featurize(page)"
   ]
  },
  {
   "cell_type": "code",
   "execution_count": null,
   "metadata": {},
   "outputs": [],
   "source": [
    "from wikidit.models import predict_page_edits"
   ]
  },
  {
   "cell_type": "code",
   "execution_count": null,
   "metadata": {},
   "outputs": [],
   "source": [
    "import dill\n",
    "with open(\"../models/xgboost-sequential.pkl\", \"rb\") as f:\n",
    "    MODEL = dill.load(f) "
   ]
  }
 ],
 "metadata": {
  "kernelspec": {
   "display_name": "Python [default]",
   "language": "python",
   "name": "python3"
  },
  "language_info": {
   "codemirror_mode": {
    "name": "ipython",
    "version": 3
   },
   "file_extension": ".py",
   "mimetype": "text/x-python",
   "name": "python",
   "nbconvert_exporter": "python",
   "pygments_lexer": "ipython3",
   "version": "3.6.6"
  }
 },
 "nbformat": 4,
 "nbformat_minor": 2
}
