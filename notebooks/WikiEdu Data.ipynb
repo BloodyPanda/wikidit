{
 "cells": [
  {
   "cell_type": "markdown",
   "metadata": {},
   "source": [
    "# Get Course Information"
   ]
  },
  {
   "cell_type": "code",
   "execution_count": 41,
   "metadata": {},
   "outputs": [],
   "source": [
    "import requests\n",
    "import lxml.etree as ET\n",
    "import lxml.html\n",
    "import cssselect\n",
    "import yarl\n",
    "import io\n",
    "import csv"
   ]
  },
  {
   "cell_type": "code",
   "execution_count": 42,
   "metadata": {},
   "outputs": [],
   "source": [
    "def csv_from_url(url, fieldnames=None):\n",
    "    \"\"\"Get a csv from a URL\"\"\"\n",
    "    r = requests.get(url)\n",
    "    reader = csv.DictReader(io.StringIO(r.text), fieldnames=fieldnames)\n",
    "    return [dict(x) for x in reader]"
   ]
  },
  {
   "cell_type": "code",
   "execution_count": 59,
   "metadata": {},
   "outputs": [],
   "source": [
    "class WikiEduDashboard:\n",
    "    \n",
    "    URL_BASE = \"https://dashboard.wikiedu.org\"\n",
    "    \n",
    "    def __init__(self):\n",
    "        self._session = requests.Session()\n",
    "        \n",
    "    def _get_campaign_page(self):\n",
    "        url = self.URL_BASE + '/campaigns'\n",
    "        return self._session.get(url)\n",
    "        \n",
    "    def campaigns(self):\n",
    "        r = self._get_campaign_page()\n",
    "        html = lxml.html.fromstring(r.text)\n",
    "        table = html.find('.//*[@id=\"js-campaigns\"]/table')\n",
    "        rows = table.findall('./tbody/tr')\n",
    "        colnames = ['title', 'students', 'students_by_course', 'instructors_by_course', 'course_data', 'pages_edited']\n",
    "        data = {}\n",
    "        for row in rows:\n",
    "            links = [self.URL_BASE + x.attrib['href'] for x in row.findall('./td/a')]\n",
    "            name = links[0].split('/')[-2]\n",
    "            data[name] = dict(zip(colnames, links))\n",
    "        return data\n",
    "    \n",
    "    def get_campaign_overview(self, campaign):\n",
    "        url = f'{self.URL_BASE}/campaigns/{campaign}/overview'\n",
    "        r = self._session.get(url)\n",
    "        html = lxml.html.fromstring(r.text)\n",
    "        description_path = \".//*[@class=\\\"module campaign-description rails_editable\\\"]/div[2]\"\n",
    "        description = html.find(description_path).text_content().strip()\n",
    "        name = html.find(\".//h2[@class=\\\"title\\\"]\").text_content().strip()\n",
    "        return {'description': description, 'name': name}\n",
    "    \n",
    "    def get_course(self, slug):\n",
    "        baseurl = f\"{self.URL_BASE}/courses/{slug}\"\n",
    "        out = {}\n",
    "        out['users'] = self._session.get(f'{baseurl}/users.json').json()\n",
    "        out['course'] = self._session.get(f'{baseurl}/course.json').json()\n",
    "        out['tags'] = self._session.get(f'{baseurl}/tags.json').json()\n",
    "        out['timeline'] = self._session.get(f'{baseurl}/timeline.json').json()\n",
    "        out['campaigns'] = self._session.get(f'{baseurl}/campaigns.json').json()\n",
    "        return out\n",
    "\n",
    "    def get_campaign(self, campaign):\n",
    "        out = self.get_campaign_overview(campaign)\n",
    "        out['students'] = csv_from_url(f\"{self.URL_BASE}/campaigns/{campaign}/students.csv\", ('student',))\n",
    "        out['students_by_course'] = csv_from_url(f\"{self.URL_BASE}/campaigns/{campaign}/students.csv?course=true\", ('student', 'course'))\n",
    "        out['instructors'] = csv_from_url(f\"{self.URL_BASE}/campaigns/{campaign}/instructors.csv?course=true\", ('instructor', 'course'))\n",
    "        out['course_data'] = csv_from_url(f\"{self.URL_BASE}/campaigns/{campaign}/courses.csv\")\n",
    "        out['pages_edited'] = csv_from_url(f\"{self.URL_BASE}/campaigns/{campaign}/articles_csv.csv\")\n",
    "        return out"
   ]
  },
  {
   "cell_type": "markdown",
   "metadata": {},
   "source": [
    "- `users.json`\n",
    "- `campaigns.json`\n",
    "- `course.json`\n",
    "- `tags.json`\n",
    "- `timeline.json`"
   ]
  },
  {
   "cell_type": "code",
   "execution_count": 60,
   "metadata": {},
   "outputs": [],
   "source": [
    "wikiedu = WikiEduDashboard()"
   ]
  },
  {
   "cell_type": "code",
   "execution_count": 61,
   "metadata": {},
   "outputs": [],
   "source": [
    "campaigns = wikiedu.campaigns()"
   ]
  },
  {
   "cell_type": "code",
   "execution_count": 62,
   "metadata": {},
   "outputs": [
    {
     "name": "stdout",
     "output_type": "stream",
     "text": [
      "summer_2015\n",
      "Student_Groups_Pilot\n"
     ]
    },
    {
     "ename": "KeyboardInterrupt",
     "evalue": "",
     "output_type": "error",
     "traceback": [
      "\u001b[0;31m---------------------------------------------------------------------------\u001b[0m",
      "\u001b[0;31mKeyboardInterrupt\u001b[0m                         Traceback (most recent call last)",
      "\u001b[0;32m<ipython-input-62-cd2bab288bbe>\u001b[0m in \u001b[0;36m<module>\u001b[0;34m()\u001b[0m\n\u001b[1;32m      1\u001b[0m \u001b[0;32mfor\u001b[0m \u001b[0mcampaign\u001b[0m \u001b[0;32min\u001b[0m \u001b[0mcampaigns\u001b[0m\u001b[0;34m:\u001b[0m\u001b[0;34m\u001b[0m\u001b[0m\n\u001b[1;32m      2\u001b[0m     \u001b[0mprint\u001b[0m\u001b[0;34m(\u001b[0m\u001b[0mcampaign\u001b[0m\u001b[0;34m)\u001b[0m\u001b[0;34m\u001b[0m\u001b[0m\n\u001b[0;32m----> 3\u001b[0;31m     \u001b[0mcampaigns\u001b[0m\u001b[0;34m[\u001b[0m\u001b[0mcampaign\u001b[0m\u001b[0;34m]\u001b[0m \u001b[0;34m=\u001b[0m \u001b[0mwikiedu\u001b[0m\u001b[0;34m.\u001b[0m\u001b[0mget_campaign\u001b[0m\u001b[0;34m(\u001b[0m\u001b[0mcampaign\u001b[0m\u001b[0;34m)\u001b[0m\u001b[0;34m\u001b[0m\u001b[0m\n\u001b[0m",
      "\u001b[0;32m<ipython-input-59-57fc8fcf72be>\u001b[0m in \u001b[0;36mget_campaign\u001b[0;34m(self, campaign)\u001b[0m\n\u001b[1;32m     47\u001b[0m         \u001b[0mout\u001b[0m\u001b[0;34m[\u001b[0m\u001b[0;34m'students_by_course'\u001b[0m\u001b[0;34m]\u001b[0m \u001b[0;34m=\u001b[0m \u001b[0mcsv_from_url\u001b[0m\u001b[0;34m(\u001b[0m\u001b[0;34mf\"{self.URL_BASE}/campaigns/{campaign}/students.csv?course=true\"\u001b[0m\u001b[0;34m,\u001b[0m \u001b[0;34m(\u001b[0m\u001b[0;34m'student'\u001b[0m\u001b[0;34m,\u001b[0m \u001b[0;34m'course'\u001b[0m\u001b[0;34m)\u001b[0m\u001b[0;34m)\u001b[0m\u001b[0;34m\u001b[0m\u001b[0m\n\u001b[1;32m     48\u001b[0m         \u001b[0mout\u001b[0m\u001b[0;34m[\u001b[0m\u001b[0;34m'instructors'\u001b[0m\u001b[0;34m]\u001b[0m \u001b[0;34m=\u001b[0m \u001b[0mcsv_from_url\u001b[0m\u001b[0;34m(\u001b[0m\u001b[0;34mf\"{self.URL_BASE}/campaigns/{campaign}/instructors.csv?course=true\"\u001b[0m\u001b[0;34m,\u001b[0m \u001b[0;34m(\u001b[0m\u001b[0;34m'instructor'\u001b[0m\u001b[0;34m,\u001b[0m \u001b[0;34m'course'\u001b[0m\u001b[0;34m)\u001b[0m\u001b[0;34m)\u001b[0m\u001b[0;34m\u001b[0m\u001b[0m\n\u001b[0;32m---> 49\u001b[0;31m         \u001b[0mout\u001b[0m\u001b[0;34m[\u001b[0m\u001b[0;34m'course_data'\u001b[0m\u001b[0;34m]\u001b[0m \u001b[0;34m=\u001b[0m \u001b[0mcsv_from_url\u001b[0m\u001b[0;34m(\u001b[0m\u001b[0;34mf\"{self.URL_BASE}/campaigns/{campaign}/courses.csv\"\u001b[0m\u001b[0;34m)\u001b[0m\u001b[0;34m\u001b[0m\u001b[0m\n\u001b[0m\u001b[1;32m     50\u001b[0m         \u001b[0mout\u001b[0m\u001b[0;34m[\u001b[0m\u001b[0;34m'pages_edited'\u001b[0m\u001b[0;34m]\u001b[0m \u001b[0;34m=\u001b[0m \u001b[0mcsv_from_url\u001b[0m\u001b[0;34m(\u001b[0m\u001b[0;34mf\"{self.URL_BASE}/campaigns/{campaign}/articles_csv.csv\"\u001b[0m\u001b[0;34m)\u001b[0m\u001b[0;34m\u001b[0m\u001b[0m\n\u001b[1;32m     51\u001b[0m         \u001b[0;32mreturn\u001b[0m \u001b[0mout\u001b[0m\u001b[0;34m\u001b[0m\u001b[0m\n",
      "\u001b[0;32m<ipython-input-42-a55f5dd78e69>\u001b[0m in \u001b[0;36mcsv_from_url\u001b[0;34m(url, fieldnames)\u001b[0m\n\u001b[1;32m      1\u001b[0m \u001b[0;32mdef\u001b[0m \u001b[0mcsv_from_url\u001b[0m\u001b[0;34m(\u001b[0m\u001b[0murl\u001b[0m\u001b[0;34m,\u001b[0m \u001b[0mfieldnames\u001b[0m\u001b[0;34m=\u001b[0m\u001b[0;32mNone\u001b[0m\u001b[0;34m)\u001b[0m\u001b[0;34m:\u001b[0m\u001b[0;34m\u001b[0m\u001b[0m\n\u001b[1;32m      2\u001b[0m     \u001b[0;34m\"\"\"Get a csv from a URL\"\"\"\u001b[0m\u001b[0;34m\u001b[0m\u001b[0m\n\u001b[0;32m----> 3\u001b[0;31m     \u001b[0mr\u001b[0m \u001b[0;34m=\u001b[0m \u001b[0mrequests\u001b[0m\u001b[0;34m.\u001b[0m\u001b[0mget\u001b[0m\u001b[0;34m(\u001b[0m\u001b[0murl\u001b[0m\u001b[0;34m)\u001b[0m\u001b[0;34m\u001b[0m\u001b[0m\n\u001b[0m\u001b[1;32m      4\u001b[0m     \u001b[0mreader\u001b[0m \u001b[0;34m=\u001b[0m \u001b[0mcsv\u001b[0m\u001b[0;34m.\u001b[0m\u001b[0mDictReader\u001b[0m\u001b[0;34m(\u001b[0m\u001b[0mio\u001b[0m\u001b[0;34m.\u001b[0m\u001b[0mStringIO\u001b[0m\u001b[0;34m(\u001b[0m\u001b[0mr\u001b[0m\u001b[0;34m.\u001b[0m\u001b[0mtext\u001b[0m\u001b[0;34m)\u001b[0m\u001b[0;34m,\u001b[0m \u001b[0mfieldnames\u001b[0m\u001b[0;34m=\u001b[0m\u001b[0mfieldnames\u001b[0m\u001b[0;34m)\u001b[0m\u001b[0;34m\u001b[0m\u001b[0m\n\u001b[1;32m      5\u001b[0m     \u001b[0;32mreturn\u001b[0m \u001b[0;34m[\u001b[0m\u001b[0mdict\u001b[0m\u001b[0;34m(\u001b[0m\u001b[0mx\u001b[0m\u001b[0;34m)\u001b[0m \u001b[0;32mfor\u001b[0m \u001b[0mx\u001b[0m \u001b[0;32min\u001b[0m \u001b[0mreader\u001b[0m\u001b[0;34m]\u001b[0m\u001b[0;34m\u001b[0m\u001b[0m\n",
      "\u001b[0;32m~/anaconda3/lib/python3.6/site-packages/requests/api.py\u001b[0m in \u001b[0;36mget\u001b[0;34m(url, params, **kwargs)\u001b[0m\n\u001b[1;32m     70\u001b[0m \u001b[0;34m\u001b[0m\u001b[0m\n\u001b[1;32m     71\u001b[0m     \u001b[0mkwargs\u001b[0m\u001b[0;34m.\u001b[0m\u001b[0msetdefault\u001b[0m\u001b[0;34m(\u001b[0m\u001b[0;34m'allow_redirects'\u001b[0m\u001b[0;34m,\u001b[0m \u001b[0;32mTrue\u001b[0m\u001b[0;34m)\u001b[0m\u001b[0;34m\u001b[0m\u001b[0m\n\u001b[0;32m---> 72\u001b[0;31m     \u001b[0;32mreturn\u001b[0m \u001b[0mrequest\u001b[0m\u001b[0;34m(\u001b[0m\u001b[0;34m'get'\u001b[0m\u001b[0;34m,\u001b[0m \u001b[0murl\u001b[0m\u001b[0;34m,\u001b[0m \u001b[0mparams\u001b[0m\u001b[0;34m=\u001b[0m\u001b[0mparams\u001b[0m\u001b[0;34m,\u001b[0m \u001b[0;34m**\u001b[0m\u001b[0mkwargs\u001b[0m\u001b[0;34m)\u001b[0m\u001b[0;34m\u001b[0m\u001b[0m\n\u001b[0m\u001b[1;32m     73\u001b[0m \u001b[0;34m\u001b[0m\u001b[0m\n\u001b[1;32m     74\u001b[0m \u001b[0;34m\u001b[0m\u001b[0m\n",
      "\u001b[0;32m~/anaconda3/lib/python3.6/site-packages/requests/api.py\u001b[0m in \u001b[0;36mrequest\u001b[0;34m(method, url, **kwargs)\u001b[0m\n\u001b[1;32m     56\u001b[0m     \u001b[0;31m# cases, and look like a memory leak in others.\u001b[0m\u001b[0;34m\u001b[0m\u001b[0;34m\u001b[0m\u001b[0m\n\u001b[1;32m     57\u001b[0m     \u001b[0;32mwith\u001b[0m \u001b[0msessions\u001b[0m\u001b[0;34m.\u001b[0m\u001b[0mSession\u001b[0m\u001b[0;34m(\u001b[0m\u001b[0;34m)\u001b[0m \u001b[0;32mas\u001b[0m \u001b[0msession\u001b[0m\u001b[0;34m:\u001b[0m\u001b[0;34m\u001b[0m\u001b[0m\n\u001b[0;32m---> 58\u001b[0;31m         \u001b[0;32mreturn\u001b[0m \u001b[0msession\u001b[0m\u001b[0;34m.\u001b[0m\u001b[0mrequest\u001b[0m\u001b[0;34m(\u001b[0m\u001b[0mmethod\u001b[0m\u001b[0;34m=\u001b[0m\u001b[0mmethod\u001b[0m\u001b[0;34m,\u001b[0m \u001b[0murl\u001b[0m\u001b[0;34m=\u001b[0m\u001b[0murl\u001b[0m\u001b[0;34m,\u001b[0m \u001b[0;34m**\u001b[0m\u001b[0mkwargs\u001b[0m\u001b[0;34m)\u001b[0m\u001b[0;34m\u001b[0m\u001b[0m\n\u001b[0m\u001b[1;32m     59\u001b[0m \u001b[0;34m\u001b[0m\u001b[0m\n\u001b[1;32m     60\u001b[0m \u001b[0;34m\u001b[0m\u001b[0m\n",
      "\u001b[0;32m~/anaconda3/lib/python3.6/site-packages/requests/sessions.py\u001b[0m in \u001b[0;36mrequest\u001b[0;34m(self, method, url, params, data, headers, cookies, files, auth, timeout, allow_redirects, proxies, hooks, stream, verify, cert, json)\u001b[0m\n\u001b[1;32m    510\u001b[0m         }\n\u001b[1;32m    511\u001b[0m         \u001b[0msend_kwargs\u001b[0m\u001b[0;34m.\u001b[0m\u001b[0mupdate\u001b[0m\u001b[0;34m(\u001b[0m\u001b[0msettings\u001b[0m\u001b[0;34m)\u001b[0m\u001b[0;34m\u001b[0m\u001b[0m\n\u001b[0;32m--> 512\u001b[0;31m         \u001b[0mresp\u001b[0m \u001b[0;34m=\u001b[0m \u001b[0mself\u001b[0m\u001b[0;34m.\u001b[0m\u001b[0msend\u001b[0m\u001b[0;34m(\u001b[0m\u001b[0mprep\u001b[0m\u001b[0;34m,\u001b[0m \u001b[0;34m**\u001b[0m\u001b[0msend_kwargs\u001b[0m\u001b[0;34m)\u001b[0m\u001b[0;34m\u001b[0m\u001b[0m\n\u001b[0m\u001b[1;32m    513\u001b[0m \u001b[0;34m\u001b[0m\u001b[0m\n\u001b[1;32m    514\u001b[0m         \u001b[0;32mreturn\u001b[0m \u001b[0mresp\u001b[0m\u001b[0;34m\u001b[0m\u001b[0m\n",
      "\u001b[0;32m~/anaconda3/lib/python3.6/site-packages/requests/sessions.py\u001b[0m in \u001b[0;36msend\u001b[0;34m(self, request, **kwargs)\u001b[0m\n\u001b[1;32m    620\u001b[0m \u001b[0;34m\u001b[0m\u001b[0m\n\u001b[1;32m    621\u001b[0m         \u001b[0;31m# Send the request\u001b[0m\u001b[0;34m\u001b[0m\u001b[0;34m\u001b[0m\u001b[0m\n\u001b[0;32m--> 622\u001b[0;31m         \u001b[0mr\u001b[0m \u001b[0;34m=\u001b[0m \u001b[0madapter\u001b[0m\u001b[0;34m.\u001b[0m\u001b[0msend\u001b[0m\u001b[0;34m(\u001b[0m\u001b[0mrequest\u001b[0m\u001b[0;34m,\u001b[0m \u001b[0;34m**\u001b[0m\u001b[0mkwargs\u001b[0m\u001b[0;34m)\u001b[0m\u001b[0;34m\u001b[0m\u001b[0m\n\u001b[0m\u001b[1;32m    623\u001b[0m \u001b[0;34m\u001b[0m\u001b[0m\n\u001b[1;32m    624\u001b[0m         \u001b[0;31m# Total elapsed time of the request (approximately)\u001b[0m\u001b[0;34m\u001b[0m\u001b[0;34m\u001b[0m\u001b[0m\n",
      "\u001b[0;32m~/anaconda3/lib/python3.6/site-packages/requests/adapters.py\u001b[0m in \u001b[0;36msend\u001b[0;34m(self, request, stream, timeout, verify, cert, proxies)\u001b[0m\n\u001b[1;32m    443\u001b[0m                     \u001b[0mdecode_content\u001b[0m\u001b[0;34m=\u001b[0m\u001b[0;32mFalse\u001b[0m\u001b[0;34m,\u001b[0m\u001b[0;34m\u001b[0m\u001b[0m\n\u001b[1;32m    444\u001b[0m                     \u001b[0mretries\u001b[0m\u001b[0;34m=\u001b[0m\u001b[0mself\u001b[0m\u001b[0;34m.\u001b[0m\u001b[0mmax_retries\u001b[0m\u001b[0;34m,\u001b[0m\u001b[0;34m\u001b[0m\u001b[0m\n\u001b[0;32m--> 445\u001b[0;31m                     \u001b[0mtimeout\u001b[0m\u001b[0;34m=\u001b[0m\u001b[0mtimeout\u001b[0m\u001b[0;34m\u001b[0m\u001b[0m\n\u001b[0m\u001b[1;32m    446\u001b[0m                 )\n\u001b[1;32m    447\u001b[0m \u001b[0;34m\u001b[0m\u001b[0m\n",
      "\u001b[0;32m~/anaconda3/lib/python3.6/site-packages/urllib3/connectionpool.py\u001b[0m in \u001b[0;36murlopen\u001b[0;34m(self, method, url, body, headers, retries, redirect, assert_same_host, timeout, pool_timeout, release_conn, chunked, body_pos, **response_kw)\u001b[0m\n\u001b[1;32m    598\u001b[0m                                                   \u001b[0mtimeout\u001b[0m\u001b[0;34m=\u001b[0m\u001b[0mtimeout_obj\u001b[0m\u001b[0;34m,\u001b[0m\u001b[0;34m\u001b[0m\u001b[0m\n\u001b[1;32m    599\u001b[0m                                                   \u001b[0mbody\u001b[0m\u001b[0;34m=\u001b[0m\u001b[0mbody\u001b[0m\u001b[0;34m,\u001b[0m \u001b[0mheaders\u001b[0m\u001b[0;34m=\u001b[0m\u001b[0mheaders\u001b[0m\u001b[0;34m,\u001b[0m\u001b[0;34m\u001b[0m\u001b[0m\n\u001b[0;32m--> 600\u001b[0;31m                                                   chunked=chunked)\n\u001b[0m\u001b[1;32m    601\u001b[0m \u001b[0;34m\u001b[0m\u001b[0m\n\u001b[1;32m    602\u001b[0m             \u001b[0;31m# If we're going to release the connection in ``finally:``, then\u001b[0m\u001b[0;34m\u001b[0m\u001b[0;34m\u001b[0m\u001b[0m\n",
      "\u001b[0;32m~/anaconda3/lib/python3.6/site-packages/urllib3/connectionpool.py\u001b[0m in \u001b[0;36m_make_request\u001b[0;34m(self, conn, method, url, timeout, chunked, **httplib_request_kw)\u001b[0m\n\u001b[1;32m    341\u001b[0m         \u001b[0;31m# Trigger any extra validation we need to do.\u001b[0m\u001b[0;34m\u001b[0m\u001b[0;34m\u001b[0m\u001b[0m\n\u001b[1;32m    342\u001b[0m         \u001b[0;32mtry\u001b[0m\u001b[0;34m:\u001b[0m\u001b[0;34m\u001b[0m\u001b[0m\n\u001b[0;32m--> 343\u001b[0;31m             \u001b[0mself\u001b[0m\u001b[0;34m.\u001b[0m\u001b[0m_validate_conn\u001b[0m\u001b[0;34m(\u001b[0m\u001b[0mconn\u001b[0m\u001b[0;34m)\u001b[0m\u001b[0;34m\u001b[0m\u001b[0m\n\u001b[0m\u001b[1;32m    344\u001b[0m         \u001b[0;32mexcept\u001b[0m \u001b[0;34m(\u001b[0m\u001b[0mSocketTimeout\u001b[0m\u001b[0;34m,\u001b[0m \u001b[0mBaseSSLError\u001b[0m\u001b[0;34m)\u001b[0m \u001b[0;32mas\u001b[0m \u001b[0me\u001b[0m\u001b[0;34m:\u001b[0m\u001b[0;34m\u001b[0m\u001b[0m\n\u001b[1;32m    345\u001b[0m             \u001b[0;31m# Py2 raises this as a BaseSSLError, Py3 raises it as socket timeout.\u001b[0m\u001b[0;34m\u001b[0m\u001b[0;34m\u001b[0m\u001b[0m\n",
      "\u001b[0;32m~/anaconda3/lib/python3.6/site-packages/urllib3/connectionpool.py\u001b[0m in \u001b[0;36m_validate_conn\u001b[0;34m(self, conn)\u001b[0m\n\u001b[1;32m    847\u001b[0m         \u001b[0;31m# Force connect early to allow us to validate the connection.\u001b[0m\u001b[0;34m\u001b[0m\u001b[0;34m\u001b[0m\u001b[0m\n\u001b[1;32m    848\u001b[0m         \u001b[0;32mif\u001b[0m \u001b[0;32mnot\u001b[0m \u001b[0mgetattr\u001b[0m\u001b[0;34m(\u001b[0m\u001b[0mconn\u001b[0m\u001b[0;34m,\u001b[0m \u001b[0;34m'sock'\u001b[0m\u001b[0;34m,\u001b[0m \u001b[0;32mNone\u001b[0m\u001b[0;34m)\u001b[0m\u001b[0;34m:\u001b[0m  \u001b[0;31m# AppEngine might not have  `.sock`\u001b[0m\u001b[0;34m\u001b[0m\u001b[0m\n\u001b[0;32m--> 849\u001b[0;31m             \u001b[0mconn\u001b[0m\u001b[0;34m.\u001b[0m\u001b[0mconnect\u001b[0m\u001b[0;34m(\u001b[0m\u001b[0;34m)\u001b[0m\u001b[0;34m\u001b[0m\u001b[0m\n\u001b[0m\u001b[1;32m    850\u001b[0m \u001b[0;34m\u001b[0m\u001b[0m\n\u001b[1;32m    851\u001b[0m         \u001b[0;32mif\u001b[0m \u001b[0;32mnot\u001b[0m \u001b[0mconn\u001b[0m\u001b[0;34m.\u001b[0m\u001b[0mis_verified\u001b[0m\u001b[0;34m:\u001b[0m\u001b[0;34m\u001b[0m\u001b[0m\n",
      "\u001b[0;32m~/anaconda3/lib/python3.6/site-packages/urllib3/connection.py\u001b[0m in \u001b[0;36mconnect\u001b[0;34m(self)\u001b[0m\n\u001b[1;32m    354\u001b[0m             \u001b[0mca_cert_dir\u001b[0m\u001b[0;34m=\u001b[0m\u001b[0mself\u001b[0m\u001b[0;34m.\u001b[0m\u001b[0mca_cert_dir\u001b[0m\u001b[0;34m,\u001b[0m\u001b[0;34m\u001b[0m\u001b[0m\n\u001b[1;32m    355\u001b[0m             \u001b[0mserver_hostname\u001b[0m\u001b[0;34m=\u001b[0m\u001b[0mhostname\u001b[0m\u001b[0;34m,\u001b[0m\u001b[0;34m\u001b[0m\u001b[0m\n\u001b[0;32m--> 356\u001b[0;31m             ssl_context=context)\n\u001b[0m\u001b[1;32m    357\u001b[0m \u001b[0;34m\u001b[0m\u001b[0m\n\u001b[1;32m    358\u001b[0m         \u001b[0;32mif\u001b[0m \u001b[0mself\u001b[0m\u001b[0;34m.\u001b[0m\u001b[0massert_fingerprint\u001b[0m\u001b[0;34m:\u001b[0m\u001b[0;34m\u001b[0m\u001b[0m\n",
      "\u001b[0;32m~/anaconda3/lib/python3.6/site-packages/urllib3/util/ssl_.py\u001b[0m in \u001b[0;36mssl_wrap_socket\u001b[0;34m(sock, keyfile, certfile, cert_reqs, ca_certs, server_hostname, ssl_version, ciphers, ssl_context, ca_cert_dir)\u001b[0m\n\u001b[1;32m    357\u001b[0m             or IS_SECURETRANSPORT):\n\u001b[1;32m    358\u001b[0m         \u001b[0;32mif\u001b[0m \u001b[0mHAS_SNI\u001b[0m \u001b[0;32mand\u001b[0m \u001b[0mserver_hostname\u001b[0m \u001b[0;32mis\u001b[0m \u001b[0;32mnot\u001b[0m \u001b[0;32mNone\u001b[0m\u001b[0;34m:\u001b[0m\u001b[0;34m\u001b[0m\u001b[0m\n\u001b[0;32m--> 359\u001b[0;31m             \u001b[0;32mreturn\u001b[0m \u001b[0mcontext\u001b[0m\u001b[0;34m.\u001b[0m\u001b[0mwrap_socket\u001b[0m\u001b[0;34m(\u001b[0m\u001b[0msock\u001b[0m\u001b[0;34m,\u001b[0m \u001b[0mserver_hostname\u001b[0m\u001b[0;34m=\u001b[0m\u001b[0mserver_hostname\u001b[0m\u001b[0;34m)\u001b[0m\u001b[0;34m\u001b[0m\u001b[0m\n\u001b[0m\u001b[1;32m    360\u001b[0m \u001b[0;34m\u001b[0m\u001b[0m\n\u001b[1;32m    361\u001b[0m         warnings.warn(\n",
      "\u001b[0;32m~/anaconda3/lib/python3.6/site-packages/urllib3/contrib/pyopenssl.py\u001b[0m in \u001b[0;36mwrap_socket\u001b[0;34m(self, sock, server_side, do_handshake_on_connect, suppress_ragged_eofs, server_hostname)\u001b[0m\n\u001b[1;32m    442\u001b[0m         \u001b[0;32mwhile\u001b[0m \u001b[0;32mTrue\u001b[0m\u001b[0;34m:\u001b[0m\u001b[0;34m\u001b[0m\u001b[0m\n\u001b[1;32m    443\u001b[0m             \u001b[0;32mtry\u001b[0m\u001b[0;34m:\u001b[0m\u001b[0;34m\u001b[0m\u001b[0m\n\u001b[0;32m--> 444\u001b[0;31m                 \u001b[0mcnx\u001b[0m\u001b[0;34m.\u001b[0m\u001b[0mdo_handshake\u001b[0m\u001b[0;34m(\u001b[0m\u001b[0;34m)\u001b[0m\u001b[0;34m\u001b[0m\u001b[0m\n\u001b[0m\u001b[1;32m    445\u001b[0m             \u001b[0;32mexcept\u001b[0m \u001b[0mOpenSSL\u001b[0m\u001b[0;34m.\u001b[0m\u001b[0mSSL\u001b[0m\u001b[0;34m.\u001b[0m\u001b[0mWantReadError\u001b[0m\u001b[0;34m:\u001b[0m\u001b[0;34m\u001b[0m\u001b[0m\n\u001b[1;32m    446\u001b[0m                 \u001b[0;32mif\u001b[0m \u001b[0;32mnot\u001b[0m \u001b[0mutil\u001b[0m\u001b[0;34m.\u001b[0m\u001b[0mwait_for_read\u001b[0m\u001b[0;34m(\u001b[0m\u001b[0msock\u001b[0m\u001b[0;34m,\u001b[0m \u001b[0msock\u001b[0m\u001b[0;34m.\u001b[0m\u001b[0mgettimeout\u001b[0m\u001b[0;34m(\u001b[0m\u001b[0;34m)\u001b[0m\u001b[0;34m)\u001b[0m\u001b[0;34m:\u001b[0m\u001b[0;34m\u001b[0m\u001b[0m\n",
      "\u001b[0;32m~/anaconda3/lib/python3.6/site-packages/OpenSSL/SSL.py\u001b[0m in \u001b[0;36mdo_handshake\u001b[0;34m(self)\u001b[0m\n\u001b[1;32m   1904\u001b[0m         \u001b[0;34m:\u001b[0m\u001b[0;32mreturn\u001b[0m\u001b[0;34m:\u001b[0m \u001b[0;32mNone\u001b[0m\u001b[0;34m.\u001b[0m\u001b[0;34m\u001b[0m\u001b[0m\n\u001b[1;32m   1905\u001b[0m         \"\"\"\n\u001b[0;32m-> 1906\u001b[0;31m         \u001b[0mresult\u001b[0m \u001b[0;34m=\u001b[0m \u001b[0m_lib\u001b[0m\u001b[0;34m.\u001b[0m\u001b[0mSSL_do_handshake\u001b[0m\u001b[0;34m(\u001b[0m\u001b[0mself\u001b[0m\u001b[0;34m.\u001b[0m\u001b[0m_ssl\u001b[0m\u001b[0;34m)\u001b[0m\u001b[0;34m\u001b[0m\u001b[0m\n\u001b[0m\u001b[1;32m   1907\u001b[0m         \u001b[0mself\u001b[0m\u001b[0;34m.\u001b[0m\u001b[0m_raise_ssl_error\u001b[0m\u001b[0;34m(\u001b[0m\u001b[0mself\u001b[0m\u001b[0;34m.\u001b[0m\u001b[0m_ssl\u001b[0m\u001b[0;34m,\u001b[0m \u001b[0mresult\u001b[0m\u001b[0;34m)\u001b[0m\u001b[0;34m\u001b[0m\u001b[0m\n\u001b[1;32m   1908\u001b[0m \u001b[0;34m\u001b[0m\u001b[0m\n",
      "\u001b[0;31mKeyboardInterrupt\u001b[0m: "
     ]
    }
   ],
   "source": [
    "for campaign in campaigns:\n",
    "    print(campaign)\n",
    "    campaigns[campaign] = wikiedu.get_campaign(campaign)"
   ]
  },
  {
   "cell_type": "code",
   "execution_count": null,
   "metadata": {},
   "outputs": [],
   "source": [
    "import json\n",
    "with open('campaigns.json', 'w') as f:\n",
    "    json.dump(campaigns, f)"
   ]
  },
  {
   "cell_type": "code",
   "execution_count": 76,
   "metadata": {},
   "outputs": [
    {
     "name": "stdout",
     "output_type": "stream",
     "text": [
      "{'course_slug': 'North_Dakota_State_University/English_325:_Writing_in_the_Health_Professions_(Summer_2015)', 'title': 'English 325: Writing in the Health Professions', 'institution': 'North Dakota State University', 'term': 'Summer 2015', 'home_wiki': 'en.wikipedia.org', 'created_at': '2015-05-15 15:15:14 UTC', 'start_date': '2015-07-14 00:00:00 UTC', 'end_date': '2015-08-14 23:59:59 UTC', 'new_or_returning': 'first_time_instructor', 'editors': '14', 'new_editors': '12', 'articles_edited': '21', 'articles_created': '0', 'bytes_added': '7509', 'total_edits': '158', 'mainspace_edits': '55', 'article_talk_edits': '21', 'userspace_edits': '49', 'article_views': '415726', 'upload_count': '0', 'uploads_used_in_articles': '0', 'upload_usage_count_across_all_wikis': '0', 'training_completion_rate': '0.9285714285714286'}\n",
      "North_Dakota_State_University/English_325:_Writing_in_the_Health_Professions_(Summer_2015)\n",
      "courses/North_Dakota_State_University/English_325:_Writing_in_the_Health_Professions_(Summer_2015).json exists\n",
      "{'course_slug': 'University_of_Detroit,_Mercy/Social_Psychology_(Summer_2015)', 'title': 'Social Psychology', 'institution': 'University of Detroit, Mercy', 'term': 'Summer 2015', 'home_wiki': 'en.wikipedia.org', 'created_at': '2015-05-15 15:15:14 UTC', 'start_date': '2015-05-07 00:00:00 UTC', 'end_date': '2015-07-31 23:59:59 UTC', 'new_or_returning': 'first_time_instructor', 'editors': '13', 'new_editors': '13', 'articles_edited': '35', 'articles_created': '4', 'bytes_added': '111058', 'total_edits': '593', 'mainspace_edits': '336', 'article_talk_edits': '126', 'userspace_edits': '94', 'article_views': '285275', 'upload_count': '0', 'uploads_used_in_articles': '0', 'upload_usage_count_across_all_wikis': '0', 'training_completion_rate': '0.9230769230769231'}\n",
      "University_of_Detroit,_Mercy/Social_Psychology_(Summer_2015)\n",
      "courses/University_of_Detroit,_Mercy/Social_Psychology_(Summer_2015).json exists\n",
      "{'course_slug': 'Auburn_University_at_Montgomery/ENGL_1020D,_CRN_3372_(Summer_2015)', 'title': 'ENGL 1020D, CRN 3372', 'institution': 'Auburn University at Montgomery', 'term': 'Summer 2015', 'home_wiki': 'en.wikipedia.org', 'created_at': '2015-05-15 15:15:14 UTC', 'start_date': '2015-06-02 00:00:00 UTC', 'end_date': '2015-06-30 23:59:59 UTC', 'new_or_returning': 'first_time_instructor', 'editors': '1', 'new_editors': '1', 'articles_edited': '0', 'articles_created': '0', 'bytes_added': '0', 'total_edits': '4', 'mainspace_edits': '0', 'article_talk_edits': '0', 'userspace_edits': '2', 'article_views': '0', 'upload_count': '0', 'uploads_used_in_articles': '0', 'upload_usage_count_across_all_wikis': '0', 'training_completion_rate': '0.0'}\n",
      "Auburn_University_at_Montgomery/ENGL_1020D,_CRN_3372_(Summer_2015)\n",
      "courses/Auburn_University_at_Montgomery/ENGL_1020D,_CRN_3372_(Summer_2015).json exists\n",
      "{'course_slug': 'Louisiana_State_University_Shreveport/Principles_and_Theories_of_Learning_(PSYC_706)_(Summer_2015)', 'title': 'Principles and Theories of Learning (PSYC 706)', 'institution': 'Louisiana State University Shreveport', 'term': 'Summer 2015', 'home_wiki': 'en.wikipedia.org', 'created_at': '2015-05-15 17:30:24 UTC', 'start_date': '2015-06-01 00:00:00 UTC', 'end_date': '2015-07-27 23:59:59 UTC', 'new_or_returning': 'first_time_instructor', 'editors': '10', 'new_editors': '8', 'articles_edited': '11', 'articles_created': '0', 'bytes_added': '63733', 'total_edits': '677', 'mainspace_edits': '34', 'article_talk_edits': '75', 'userspace_edits': '328', 'article_views': '110406', 'upload_count': '1', 'uploads_used_in_articles': '0', 'upload_usage_count_across_all_wikis': '0', 'training_completion_rate': '1.0'}\n",
      "Louisiana_State_University_Shreveport/Principles_and_Theories_of_Learning_(PSYC_706)_(Summer_2015)\n",
      "courses/Louisiana_State_University_Shreveport/Principles_and_Theories_of_Learning_(PSYC_706)_(Summer_2015).json exists\n",
      "{'course_slug': 'Carleton_University/Positive_Psychology_(Summer_2015)', 'title': 'Positive Psychology', 'institution': 'Carleton University', 'term': 'Summer 2015', 'home_wiki': 'en.wikipedia.org', 'created_at': '2015-05-19 21:00:15 UTC', 'start_date': '2015-07-02 00:00:00 UTC', 'end_date': '2015-08-06 23:59:59 UTC', 'new_or_returning': 'first_time_instructor', 'editors': '38', 'new_editors': '37', 'articles_edited': '6', 'articles_created': '0', 'bytes_added': '7487', 'total_edits': '403', 'mainspace_edits': '34', 'article_talk_edits': '22', 'userspace_edits': '292', 'article_views': '57036', 'upload_count': '0', 'uploads_used_in_articles': '0', 'upload_usage_count_across_all_wikis': '0', 'training_completion_rate': '0.8157894736842105'}\n",
      "Carleton_University/Positive_Psychology_(Summer_2015)\n",
      "courses/Carleton_University/Positive_Psychology_(Summer_2015).json exists\n",
      "{'course_slug': 'North_Dakota_State_University/PSYC_680,_History_and_Systems_of_Psychology_(Summer_2015)', 'title': 'PSYC 680, History and Systems of Psychology', 'institution': 'North Dakota State University', 'term': 'Summer 2015', 'home_wiki': 'en.wikipedia.org', 'created_at': '2015-06-02 21:00:14 UTC', 'start_date': '2015-05-19 00:00:00 UTC', 'end_date': '2015-06-12 23:59:59 UTC', 'new_or_returning': 'returning_instructor', 'editors': '5', 'new_editors': '4', 'articles_edited': '6', 'articles_created': '1', 'bytes_added': '67941', 'total_edits': '369', 'mainspace_edits': '261', 'article_talk_edits': '9', 'userspace_edits': '85', 'article_views': '114192', 'upload_count': '0', 'uploads_used_in_articles': '0', 'upload_usage_count_across_all_wikis': '0', 'training_completion_rate': '1.0'}\n",
      "North_Dakota_State_University/PSYC_680,_History_and_Systems_of_Psychology_(Summer_2015)\n",
      "courses/North_Dakota_State_University/PSYC_680,_History_and_Systems_of_Psychology_(Summer_2015).json exists\n",
      "{'course_slug': 'College_of_DuPage/ENGLI1102-055_(Summer_2015)', 'title': 'ENGLI1102-055', 'institution': 'College of DuPage', 'term': 'Summer 2015', 'home_wiki': 'en.wikipedia.org', 'created_at': '2015-06-05 22:45:11 UTC', 'start_date': '2015-06-08 00:00:00 UTC', 'end_date': '2015-08-02 23:59:59 UTC', 'new_or_returning': 'returning_instructor', 'editors': '18', 'new_editors': '18', 'articles_edited': '20', 'articles_created': '3', 'bytes_added': '49634', 'total_edits': '341', 'mainspace_edits': '115', 'article_talk_edits': '7', 'userspace_edits': '169', 'article_views': '417272', 'upload_count': '2', 'uploads_used_in_articles': '2', 'upload_usage_count_across_all_wikis': '3', 'training_completion_rate': '0.6666666666666666'}\n",
      "College_of_DuPage/ENGLI1102-055_(Summer_2015)\n",
      "courses/College_of_DuPage/ENGLI1102-055_(Summer_2015).json exists\n",
      "{'course_slug': 'Consumer_Reports/Choosing_Wisely_Canada_(summer_2015)', 'title': 'Choosing Wisely Canada', 'institution': 'Consumer Reports', 'term': 'summer 2015', 'home_wiki': 'en.wikipedia.org', 'created_at': '2015-07-09 19:15:15 UTC', 'start_date': '2015-06-17 00:00:00 UTC', 'end_date': '2015-12-17 23:59:59 UTC', 'new_or_returning': 'returning_instructor', 'editors': '7', 'new_editors': '7', 'articles_edited': '14', 'articles_created': '1', 'bytes_added': '58310', 'total_edits': '320', 'mainspace_edits': '124', 'article_talk_edits': '0', 'userspace_edits': '121', 'article_views': '308540', 'upload_count': '7', 'uploads_used_in_articles': '6', 'upload_usage_count_across_all_wikis': '6', 'training_completion_rate': '0.0'}\n",
      "Consumer_Reports/Choosing_Wisely_Canada_(summer_2015)\n",
      "courses/Consumer_Reports/Choosing_Wisely_Canada_(summer_2015).json exists\n",
      "{'course_slug': 'Murray_State_University/Conservation_Biology_(Summer_2015)', 'title': 'Conservation Biology', 'institution': 'Murray State University', 'term': 'Summer 2015', 'home_wiki': 'en.wikipedia.org', 'created_at': '2015-06-18 21:00:12 UTC', 'start_date': '2015-06-19 00:00:00 UTC', 'end_date': '2015-06-30 23:59:59 UTC', 'new_or_returning': 'first_time_instructor', 'editors': '9', 'new_editors': '9', 'articles_edited': '36', 'articles_created': '0', 'bytes_added': '11508', 'total_edits': '256', 'mainspace_edits': '87', 'article_talk_edits': '14', 'userspace_edits': '105', 'article_views': '284615', 'upload_count': '16', 'uploads_used_in_articles': '14', 'upload_usage_count_across_all_wikis': '19', 'training_completion_rate': '0.6666666666666666'}\n",
      "Murray_State_University/Conservation_Biology_(Summer_2015)\n",
      "courses/Murray_State_University/Conservation_Biology_(Summer_2015).json exists\n",
      "{'course_slug': 'University_of_North_Carolina,_Chapel_Hill/CCO_History_140_-_The_World_Since_1945_(Summer_2015)', 'title': 'CCO History 140 - The World Since 1945', 'institution': 'University of North Carolina, Chapel Hill', 'term': 'Summer 2015', 'home_wiki': 'en.wikipedia.org', 'created_at': '2015-06-22 18:00:12 UTC', 'start_date': '2015-06-22 00:00:00 UTC', 'end_date': '2015-07-28 23:59:59 UTC', 'new_or_returning': 'first_time_instructor', 'editors': '24', 'new_editors': '23', 'articles_edited': '29', 'articles_created': '0', 'bytes_added': '140706', 'total_edits': '648', 'mainspace_edits': '245', 'article_talk_edits': '74', 'userspace_edits': '258', 'article_views': '114919', 'upload_count': '1', 'uploads_used_in_articles': '1', 'upload_usage_count_across_all_wikis': '1', 'training_completion_rate': '0.9166666666666666'}\n",
      "University_of_North_Carolina,_Chapel_Hill/CCO_History_140_-_The_World_Since_1945_(Summer_2015)\n",
      "courses/University_of_North_Carolina,_Chapel_Hill/CCO_History_140_-_The_World_Since_1945_(Summer_2015).json exists\n",
      "{'course_slug': 'College_of_DuPage/ENGLI1102-025_(Summer_2015)', 'title': 'ENGLI1102-025', 'institution': 'College of DuPage', 'term': 'Summer 2015', 'home_wiki': 'en.wikipedia.org', 'created_at': '2015-06-25 18:00:14 UTC', 'start_date': '2015-06-29 00:00:00 UTC', 'end_date': '2015-07-13 23:59:59 UTC', 'new_or_returning': 'returning_instructor', 'editors': '19', 'new_editors': '19', 'articles_edited': '11', 'articles_created': '1', 'bytes_added': '16896', 'total_edits': '276', 'mainspace_edits': '33', 'article_talk_edits': '12', 'userspace_edits': '163', 'article_views': '40334', 'upload_count': '0', 'uploads_used_in_articles': '0', 'upload_usage_count_across_all_wikis': '0', 'training_completion_rate': '0.631578947368421'}\n",
      "College_of_DuPage/ENGLI1102-025_(Summer_2015)\n",
      "courses/College_of_DuPage/ENGLI1102-025_(Summer_2015).json exists\n",
      "{'course_slug': 'Mount_Saint_Vincent_University/LIBR_2100:_Introduction_to_Research_in_the_Information_Age_(Summer_2015)', 'title': 'LIBR 2100: Introduction to Research in the Information Age', 'institution': 'Mount Saint Vincent University', 'term': 'Summer 2015', 'home_wiki': 'en.wikipedia.org', 'created_at': '2015-06-26 17:30:13 UTC', 'start_date': '2015-07-08 00:00:00 UTC', 'end_date': '2015-08-19 23:59:59 UTC', 'new_or_returning': 'first_time_instructor', 'editors': '28', 'new_editors': '28', 'articles_edited': '8', 'articles_created': '0', 'bytes_added': '3859', 'total_edits': '1009', 'mainspace_edits': '27', 'article_talk_edits': '41', 'userspace_edits': '778', 'article_views': '991633', 'upload_count': '0', 'uploads_used_in_articles': '0', 'upload_usage_count_across_all_wikis': '0', 'training_completion_rate': '0.8928571428571429'}\n",
      "Mount_Saint_Vincent_University/LIBR_2100:_Introduction_to_Research_in_the_Information_Age_(Summer_2015)\n",
      "courses/Mount_Saint_Vincent_University/LIBR_2100:_Introduction_to_Research_in_the_Information_Age_(Summer_2015).json exists\n",
      "{'course_slug': \"Michigan_State_University/Growing_Up_Girl-Coming_of_Age_in_Women's_Literature_and_Film_(Summer_2015)\", 'title': \"Growing Up Girl-Coming of Age in Women's Literature and Film\", 'institution': 'Michigan State University', 'term': 'Summer 2015', 'home_wiki': 'en.wikipedia.org', 'created_at': '2015-07-01 15:15:16 UTC', 'start_date': '2015-07-07 00:00:00 UTC', 'end_date': '2015-08-20 23:59:59 UTC', 'new_or_returning': 'first_time_instructor', 'editors': '14', 'new_editors': '14', 'articles_edited': '15', 'articles_created': '2', 'bytes_added': '92369', 'total_edits': '752', 'mainspace_edits': '315', 'article_talk_edits': '116', 'userspace_edits': '244', 'article_views': '62953', 'upload_count': '0', 'uploads_used_in_articles': '0', 'upload_usage_count_across_all_wikis': '0', 'training_completion_rate': '0.9285714285714286'}\n",
      "Michigan_State_University/Growing_Up_Girl-Coming_of_Age_in_Women's_Literature_and_Film_(Summer_2015)\n",
      "courses/Michigan_State_University/Growing_Up_Girl-Coming_of_Age_in_Women's_Literature_and_Film_(Summer_2015).json exists\n",
      "{'course_slug': 'Amherst_College/Rotherwas_Fellows_(Summer_2015)', 'title': 'Rotherwas Fellows', 'institution': 'Amherst College', 'term': 'Summer 2015', 'home_wiki': 'en.wikipedia.org', 'created_at': '2015-07-20 19:30:16 UTC', 'start_date': '2015-07-01 00:00:00 UTC', 'end_date': '2015-08-07 23:59:59 UTC', 'new_or_returning': 'first_time_instructor', 'editors': '5', 'new_editors': '6', 'articles_edited': '2', 'articles_created': '1', 'bytes_added': '28041', 'total_edits': '267', 'mainspace_edits': '211', 'article_talk_edits': '2', 'userspace_edits': '30', 'article_views': '2858', 'upload_count': '18', 'uploads_used_in_articles': '11', 'upload_usage_count_across_all_wikis': '11', 'training_completion_rate': '0.4'}\n",
      "Amherst_College/Rotherwas_Fellows_(Summer_2015)\n",
      "courses/Amherst_College/Rotherwas_Fellows_(Summer_2015).json exists\n",
      "h\n"
     ]
    },
    {
     "ename": "TypeError",
     "evalue": "string indices must be integers",
     "output_type": "error",
     "traceback": [
      "\u001b[0;31m---------------------------------------------------------------------------\u001b[0m",
      "\u001b[0;31mTypeError\u001b[0m                                 Traceback (most recent call last)",
      "\u001b[0;32m<ipython-input-76-31a29e128175>\u001b[0m in \u001b[0;36m<module>\u001b[0;34m()\u001b[0m\n\u001b[1;32m      9\u001b[0m     \u001b[0;32mfor\u001b[0m \u001b[0mcoursedata\u001b[0m \u001b[0;32min\u001b[0m \u001b[0mcampaign\u001b[0m\u001b[0;34m[\u001b[0m\u001b[0;34m'course_data'\u001b[0m\u001b[0;34m]\u001b[0m\u001b[0;34m:\u001b[0m\u001b[0;34m\u001b[0m\u001b[0m\n\u001b[1;32m     10\u001b[0m         \u001b[0mprint\u001b[0m\u001b[0;34m(\u001b[0m\u001b[0mcoursedata\u001b[0m\u001b[0;34m)\u001b[0m\u001b[0;34m\u001b[0m\u001b[0m\n\u001b[0;32m---> 11\u001b[0;31m         \u001b[0mcoursedata\u001b[0m\u001b[0;34m[\u001b[0m\u001b[0;34m'course_slug'\u001b[0m\u001b[0;34m]\u001b[0m\u001b[0;34m\u001b[0m\u001b[0m\n\u001b[0m\u001b[1;32m     12\u001b[0m         \u001b[0mslug\u001b[0m \u001b[0;34m=\u001b[0m \u001b[0mcoursedata\u001b[0m\u001b[0;34m[\u001b[0m\u001b[0;34m'course_slug'\u001b[0m\u001b[0;34m]\u001b[0m\u001b[0;34m\u001b[0m\u001b[0m\n\u001b[1;32m     13\u001b[0m         \u001b[0mprint\u001b[0m\u001b[0;34m(\u001b[0m\u001b[0mslug\u001b[0m\u001b[0;34m)\u001b[0m\u001b[0;34m\u001b[0m\u001b[0m\n",
      "\u001b[0;31mTypeError\u001b[0m: string indices must be integers"
     ]
    }
   ],
   "source": [
    "import os\n",
    "import os.path\n",
    "import json\n",
    "\n",
    "outdir = \"courses\"\n",
    "os.makedirs(outdir, exist_ok=True)\n",
    "courses = {}\n",
    "for _, campaign in campaigns.items():\n",
    "    for coursedata in campaign['course_data']:\n",
    "        print(coursedata)\n",
    "        coursedata['course_slug']\n",
    "        slug = coursedata['course_slug']\n",
    "        print(slug)\n",
    "        school, course = slug.split('/')\n",
    "        filename = os.path.join(outdir, school, course + '.json')\n",
    "        if os.path.exists(filename):\n",
    "            print(f\"{filename} exists\")\n",
    "            continue\n",
    "        data = wikiedu.get_course(slug)\n",
    "        os.makedirs(os.path.dirname(filename), exist_ok=True)\n",
    "        with open(filename, 'w') as f:\n",
    "            print(f\"Writing {slug} to {filename}\")\n",
    "            json.dump(data, f)\n",
    "    "
   ]
  },
  {
   "cell_type": "code",
   "execution_count": 64,
   "metadata": {},
   "outputs": [
    {
     "data": {
      "text/plain": [
       "'Amherst_College/Rotherwas_Fellows_(Summer_2015)'"
      ]
     },
     "execution_count": 64,
     "metadata": {},
     "output_type": "execute_result"
    }
   ],
   "source": [
    "slug"
   ]
  },
  {
   "cell_type": "code",
   "execution_count": null,
   "metadata": {},
   "outputs": [],
   "source": []
  }
 ],
 "metadata": {
  "kernelspec": {
   "display_name": "Python 3",
   "language": "python",
   "name": "python3"
  },
  "language_info": {
   "codemirror_mode": {
    "name": "ipython",
    "version": 3
   },
   "file_extension": ".py",
   "mimetype": "text/x-python",
   "name": "python",
   "nbconvert_exporter": "python",
   "pygments_lexer": "ipython3",
   "version": "3.6.6"
  }
 },
 "nbformat": 4,
 "nbformat_minor": 2
}
