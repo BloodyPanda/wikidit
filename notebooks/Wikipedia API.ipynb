{
 "cells": [
  {
   "cell_type": "markdown",
   "metadata": {},
   "source": [
    "# Wikipedia API"
   ]
  },
  {
   "cell_type": "markdown",
   "metadata": {},
   "source": [
    "Experiments with the Wikipedia API"
   ]
  },
  {
   "cell_type": "code",
   "execution_count": 2,
   "metadata": {},
   "outputs": [],
   "source": [
    "import mwapi\n",
    "\n",
    "session = mwapi.Session('https://en.wikipedia.org', user_agent=\"<jeffrey.arnold@gmail.com>\")"
   ]
  },
  {
   "cell_type": "markdown",
   "metadata": {},
   "source": [
    "# Backlog \n",
    "\n",
    "The page https://en.wikipedia.org/wiki/Wikipedia:Backlog contains the cleanup templates and lists common styles."
   ]
  },
  {
   "cell_type": "markdown",
   "metadata": {},
   "source": [
    "# Article Message Templates\n",
    "\n",
    "Article message templates contain most cleanup templates that are large"
   ]
  },
  {
   "cell_type": "code",
   "execution_count": 12,
   "metadata": {},
   "outputs": [],
   "source": [
    "import re\n",
    "import requests\n",
    "import itertools\n",
    "\n",
    "def template_name(x):\n",
    "    return re.sub(\"^Template:\", \"\", x).strip()\n",
    "\n",
    "params = {\n",
    "      'action': 'query', \n",
    "      'generator': 'categorymembers', \n",
    "      'gcmtitle': None,\n",
    "      'gcmnamespace': 10,\n",
    "      'prop': 'redirects'\n",
    "    }\n",
    "\n",
    "def query(params):\n",
    "    params['action'] = 'query'\n",
    "    params['format'] = 'json'\n",
    "    lastContinue = {}\n",
    "    while True:\n",
    "        # Clone original request\n",
    "        req = params.copy()\n",
    "        # Modify it with the values returned in the 'continue' section of the last result.\n",
    "        req.update(lastContinue)\n",
    "        # Call API\n",
    "        result = requests.get('https://en.wikipedia.org/w/api.php', params=req).json()\n",
    "        if 'error' in result:\n",
    "            raise Error(result['error'])\n",
    "        if 'warnings' in result:\n",
    "            print(result['warnings'])\n",
    "        if 'query' in result:\n",
    "            yield result['query']\n",
    "        if 'continue' not in result:\n",
    "            break\n",
    "        lastContinue = result['continue']\n",
    "\n",
    "def get_pages(params, max_queries=None):\n",
    "    for result in itertools.islice(query(params), max_queries):\n",
    "        for page in result['pages'].items():\n",
    "            yield page\n",
    "\n"
   ]
  },
  {
   "cell_type": "markdown",
   "metadata": {},
   "source": [
    "Neutrality\n",
    "\n",
    "- https://en.wikipedia.org/wiki/Category:Neutrality_templates\n",
    "\n",
    "- https://en.wikipedia.org/wiki/Category:Inline_dispute_templates\n",
    "\n",
    "\n",
    "Non editedable\n",
    "\n",
    "- https://en.wikipedia.org/wiki/Category:Wikipedia_conflict_of_interest_templates\n",
    "- https://en.wikipedia.org/wiki/Category:Dispute_templates\n",
    "\n",
    "\n",
    "- https://en.wikipedia.org/wiki/Category:Coherency_templates\n",
    "- https://en.wikipedia.org/wiki/Category:Copyright_maintenance_templates\n",
    "\n",
    "- https://en.wikipedia.org/wiki/Category:Inline_cleanup_templates\n",
    "- https://en.wikipedia.org/wiki/Category:Inline_citation_cleanup_templates\n",
    "- https://en.wikipedia.org/wiki/Category:Inline_citation_and_verifiability_dispute_templates\n",
    "- https://en.wikipedia.org/wiki/Category:Inline_dispute_templates\n",
    "\n",
    "- https://en.wikipedia.org/wiki/Category:Dispute_templates\n",
    "- https://en.wikipedia.org/wiki/Category:Neutrality_templates\n",
    "- https://en.wikipedia.org/wiki/Category:Quotation_cleanup_templates\n",
    "- https://en.wikipedia.org/wiki/Category:Introduction_cleanup_maintenance_templates\n",
    "- https://en.wikipedia.org/wiki/Category:List_cleanup_maintenance_templates"
   ]
  },
  {
   "cell_type": "code",
   "execution_count": 10,
   "metadata": {},
   "outputs": [],
   "source": [
    "categories = [\"Neutrality templates\", \"Inline dispute templates\", \"Coherency templates\", \"\""
   ]
  },
  {
   "cell_type": "code",
   "execution_count": 79,
   "metadata": {},
   "outputs": [],
   "source": [
    "inline_cleanup_templates"
   ]
  },
  {
   "cell_type": "markdown",
   "metadata": {},
   "source": [
    "- https://en.wikipedia.org/wiki/Category:Inline_dispute_templates\n",
    "- https://en.wikipedia.org/wiki/Category:Dispute_templates\n",
    "- https://en.wikipedia.org/wiki/Category:Inline_citation_and_verifiability_dispute_templates\n",
    "- https://en.wikipedia.org/wiki/Category:Inline_dispute_templates\n",
    "- https://en.wikipedia.org/wiki/Category:Wikipedia_maintenance_templates"
   ]
  },
  {
   "cell_type": "code",
   "execution_count": 80,
   "metadata": {},
   "outputs": [
    {
     "data": {
      "text/plain": [
       "{'5632010': {'pageid': 5632010,\n",
       "  'ns': 10,\n",
       "  'title': 'Template:Fix',\n",
       "  'redirects': [{'pageid': 43931470, 'ns': 10, 'title': 'Template:Fake fix'}]},\n",
       " '6245183': {'pageid': 6245183, 'ns': 10, 'title': 'Template:Ambiguous'},\n",
       " '11446646': {'pageid': 11446646,\n",
       "  'ns': 10,\n",
       "  'title': 'Template:Anachronism inline'},\n",
       " '12503503': {'pageid': 12503503,\n",
       "  'ns': 10,\n",
       "  'title': 'Template:Attribution needed'},\n",
       " '25610087': {'pageid': 25610087, 'ns': 10, 'title': 'Template:Awkward'},\n",
       " '39275128': {'pageid': 39275128,\n",
       "  'ns': 10,\n",
       "  'title': 'Template:Bare URL inline'},\n",
       " '57798416': {'pageid': 57798416, 'ns': 10, 'title': 'Template:Brexit note'},\n",
       " '30304886': {'pageid': 30304886,\n",
       "  'ns': 10,\n",
       "  'title': 'Template:Buzzword inline'},\n",
       " '39643223': {'pageid': 39643223, 'ns': 10, 'title': 'Template:By how much'},\n",
       " '17004352': {'pageid': 17004352, 'ns': 10, 'title': 'Template:Called'},\n",
       " '34142075': {'pageid': 34142075,\n",
       "  'ns': 10,\n",
       "  'title': 'Template:Check quotation'},\n",
       " '42463713': {'pageid': 42463713,\n",
       "  'ns': 10,\n",
       "  'title': 'Template:Chinese script needed inline'},\n",
       " '7774601': {'pageid': 7774601, 'ns': 10, 'title': 'Template:Clarify'},\n",
       " '35250299': {'pageid': 35250299, 'ns': 10, 'title': 'Template:Clarify span'},\n",
       " '33522506': {'pageid': 33522506,\n",
       "  'ns': 10,\n",
       "  'title': 'Template:Clarify timeframe',\n",
       "  'redirects': [{'pageid': 53645297, 'ns': 10, 'title': 'Template:Timeframe'},\n",
       "   {'pageid': 53645299, 'ns': 10, 'title': 'Template:Timeframe?'}]},\n",
       " '24102852': {'pageid': 24102852, 'ns': 10, 'title': 'Template:COI source'},\n",
       " '33885234': {'pageid': 33885234,\n",
       "  'ns': 10,\n",
       "  'title': 'Template:Compared to?',\n",
       "  'redirects': [{'pageid': 33885266, 'ns': 10, 'title': 'Template:Than?'},\n",
       "   {'pageid': 38010341, 'ns': 10, 'title': 'Template:Than what?'}]},\n",
       " '50788645': {'pageid': 50788645,\n",
       "  'ns': 10,\n",
       "  'title': 'Template:Contentious label inline'},\n",
       " '55046087': {'pageid': 55046087,\n",
       "  'ns': 10,\n",
       "  'title': 'Template:Contentious label inline/sandbox'},\n",
       " '21333305': {'pageid': 21333305,\n",
       "  'ns': 10,\n",
       "  'title': 'Template:Context inline',\n",
       "  'redirects': [{'pageid': 21333322, 'ns': 10, 'title': 'Template:Context?'},\n",
       "   {'pageid': 36155273, 'ns': 10, 'title': 'Template:Inline-context'},\n",
       "   {'pageid': 49354156, 'ns': 10, 'title': 'Template:Context-inline'}]},\n",
       " '55468883': {'pageid': 55468883,\n",
       "  'ns': 10,\n",
       "  'title': 'Template:Context inline/sandbox'},\n",
       " '37667741': {'pageid': 37667741,\n",
       "  'ns': 10,\n",
       "  'title': 'Template:Copy edit inline'},\n",
       " '42489943': {'pageid': 42489943,\n",
       "  'ns': 10,\n",
       "  'title': 'Template:Copyright violation'},\n",
       " '21202877': {'pageid': 21202877,\n",
       "  'ns': 10,\n",
       "  'title': 'Template:Current event inline'},\n",
       " '18572021': {'pageid': 18572021, 'ns': 10, 'title': 'Template:Data missing'},\n",
       " '51641162': {'pageid': 51641162,\n",
       "  'ns': 10,\n",
       "  'title': 'Template:Data missing/sandbox'},\n",
       " '16912988': {'pageid': 16912988, 'ns': 10, 'title': 'Template:Dead link-now'},\n",
       " '16187564': {'pageid': 16187564, 'ns': 10, 'title': 'Template:Definition'},\n",
       " '47879561': {'pageid': 47879561,\n",
       "  'ns': 10,\n",
       "  'title': 'Template:Definition needed'},\n",
       " '8202524': {'pageid': 8202524,\n",
       "  'ns': 10,\n",
       "  'title': 'Template:Disambiguation needed',\n",
       "  'redirects': [{'pageid': 20848570,\n",
       "    'ns': 10,\n",
       "    'title': 'Template:Disambiguate'},\n",
       "   {'pageid': 21427932, 'ns': 10, 'title': 'Template:Ambiguous link'},\n",
       "   {'pageid': 24785359, 'ns': 10, 'title': 'Template:Amblink'},\n",
       "   {'pageid': 24785362, 'ns': 10, 'title': 'Template:Disamb-link'},\n",
       "   {'pageid': 29357928, 'ns': 10, 'title': 'Template:Dab needed'},\n",
       "   {'pageid': 32250910, 'ns': 10, 'title': 'Template:Dn'},\n",
       "   {'pageid': 57650981, 'ns': 10, 'title': 'Template:DN'}]},\n",
       " '692091': {'pageid': 692091, 'ns': 10, 'title': 'Template:Edit'},\n",
       " '58300175': {'pageid': 58300175, 'ns': 10, 'title': 'Template:Edit sub'},\n",
       " '58300173': {'pageid': 58300173, 'ns': 10, 'title': 'Template:Edit sub/doc'},\n",
       " '58300151': {'pageid': 58300151, 'ns': 10, 'title': 'Template:Edit sup'},\n",
       " '58300154': {'pageid': 58300154, 'ns': 10, 'title': 'Template:Edit sup/doc'},\n",
       " '9252684': {'pageid': 9252684, 'ns': 10, 'title': 'Template:Editlink'},\n",
       " '9310341': {'pageid': 9310341, 'ns': 10, 'title': 'Template:Editlink-right'},\n",
       " '17830414': {'pageid': 17830414,\n",
       "  'ns': 10,\n",
       "  'title': 'Template:Example needed'},\n",
       " '34631998': {'pageid': 34631998,\n",
       "  'ns': 10,\n",
       "  'title': 'Template:Example needed-span'},\n",
       " '28553597': {'pageid': 28553597,\n",
       "  'ns': 10,\n",
       "  'title': 'Template:Expand acronym',\n",
       "  'redirects': [{'pageid': 37843755,\n",
       "    'ns': 10,\n",
       "    'title': 'Template:Expand-acronym'},\n",
       "   {'pageid': 37843762, 'ns': 10, 'title': 'Template:Expand this acronym'},\n",
       "   {'pageid': 52048858, 'ns': 10, 'title': 'Template:Undefined acronym'},\n",
       "   {'pageid': 54537364, 'ns': 10, 'title': 'Template:Expand abbreviation'}]},\n",
       " '27932307': {'pageid': 27932307, 'ns': 10, 'title': 'Template:Explain'},\n",
       " '27159663': {'pageid': 27159663,\n",
       "  'ns': 10,\n",
       "  'title': 'Template:Fact or opinion'},\n",
       " '29459344': {'pageid': 29459344, 'ns': 10, 'title': 'Template:Fix-span'},\n",
       " '39147927': {'pageid': 39147927, 'ns': 10, 'title': 'Template:Fragment'},\n",
       " '33960451': {'pageid': 33960451, 'ns': 10, 'title': 'Template:How'},\n",
       " '26655530': {'pageid': 26655530, 'ns': 10, 'title': 'Template:How often'},\n",
       " '44367001': {'pageid': 44367001, 'ns': 10, 'title': 'Template:Huge file'},\n",
       " '27378487': {'pageid': 27378487, 'ns': 10, 'title': 'Template:Idetail'},\n",
       " '14450422': {'pageid': 14450422, 'ns': 10, 'title': 'Template:Imagefact'},\n",
       " '52055569': {'pageid': 52055569,\n",
       "  'ns': 10,\n",
       "  'title': 'Template:Importance example',\n",
       "  'redirects': [{'pageid': 52120555,\n",
       "    'ns': 10,\n",
       "    'title': 'Template:Importance-example'}]},\n",
       " '28112679': {'pageid': 28112679,\n",
       "  'ns': 10,\n",
       "  'title': 'Template:Importance inline'},\n",
       " '48435792': {'pageid': 48435792,\n",
       "  'ns': 10,\n",
       "  'title': 'Template:Incomprehensible inline'},\n",
       " '15176846': {'pageid': 15176846, 'ns': 10, 'title': 'Template:Inconsistent'},\n",
       " '38606275': {'pageid': 38606275, 'ns': 10, 'title': 'Template:Like whom?'},\n",
       " '47356406': {'pageid': 47356406, 'ns': 10, 'title': 'Template:Long quote'},\n",
       " '5980180': {'pageid': 5980180, 'ns': 10, 'title': 'Template:Lopsided'},\n",
       " '55046082': {'pageid': 55046082,\n",
       "  'ns': 10,\n",
       "  'title': 'Template:Lopsided/sandbox'},\n",
       " '19872116': {'pageid': 19872116,\n",
       "  'ns': 10,\n",
       "  'title': 'Template:MisleadingNameLink'},\n",
       " '10160967': {'pageid': 10160967,\n",
       "  'ns': 10,\n",
       "  'title': 'Template:More citations needed',\n",
       "  'redirects': [{'pageid': 56233158, 'ns': 10, 'title': 'Template:Refimprove'},\n",
       "   {'pageid': 56690880, 'ns': 10, 'title': 'Template:Needs more citations'}]},\n",
       " '22508869': {'pageid': 22508869,\n",
       "  'ns': 10,\n",
       "  'title': 'Template:Needs IPA',\n",
       "  'redirects': [{'pageid': 23545209, 'ns': 10, 'title': 'Template:Need IPA'},\n",
       "   {'pageid': 31694315, 'ns': 10, 'title': 'Template:Needs-IPA'},\n",
       "   {'pageid': 31694323, 'ns': 10, 'title': 'Template:IPA needed'},\n",
       "   {'pageid': 38529657, 'ns': 10, 'title': 'Template:Needs-ipa'},\n",
       "   {'pageid': 39580572, 'ns': 10, 'title': 'Template:Needs ipa'},\n",
       "   {'pageid': 49356960, 'ns': 10, 'title': 'Template:Need-IPA'}]},\n",
       " '49353759': {'pageid': 49353759, 'ns': 10, 'title': 'Template:Non sequitur'},\n",
       " '24559352': {'pageid': 24559352,\n",
       "  'ns': 10,\n",
       "  'title': 'Template:Not English inline'},\n",
       " '31593127': {'pageid': 31593127,\n",
       "  'ns': 10,\n",
       "  'title': 'Template:Off topic paragraph'},\n",
       " '31593119': {'pageid': 31593119,\n",
       "  'ns': 10,\n",
       "  'title': 'Template:Off topic sentence'},\n",
       " '22827969': {'pageid': 22827969, 'ns': 10, 'title': 'Template:Oldfact'},\n",
       " '24186536': {'pageid': 24186536, 'ns': 10, 'title': 'Template:Opinion'},\n",
       " '55152544': {'pageid': 55152544,\n",
       "  'ns': 10,\n",
       "  'title': 'Template:Opinion/sandbox'},\n",
       " '26804020': {'pageid': 26804020,\n",
       "  'ns': 10,\n",
       "  'title': 'Template:Over-explained'},\n",
       " '34217671': {'pageid': 34217671,\n",
       "  'ns': 10,\n",
       "  'title': 'Template:Overly detailed inline'},\n",
       " '19874610': {'pageid': 19874610,\n",
       "  'ns': 10,\n",
       "  'title': 'Template:Peacock term',\n",
       "  'redirects': [{'pageid': 26412043, 'ns': 10, 'title': 'Template:Hyperbole'},\n",
       "   {'pageid': 39408309, 'ns': 10, 'title': 'Template:Peacock terms'},\n",
       "   {'pageid': 49762972, 'ns': 10, 'title': 'Template:Peacock-statement'},\n",
       "   {'pageid': 49762975, 'ns': 10, 'title': 'Template:Peacock statement'},\n",
       "   {'pageid': 49763046, 'ns': 10, 'title': 'Template:Peacock-terms'},\n",
       "   {'pageid': 53626523, 'ns': 10, 'title': 'Template:Peacock term?'}]},\n",
       " '22418993': {'pageid': 22418993,\n",
       "  'ns': 10,\n",
       "  'title': 'Template:POV check inline'},\n",
       " '11196452': {'pageid': 11196452,\n",
       "  'ns': 10,\n",
       "  'title': 'Template:Pronunciation needed'},\n",
       " '12385017': {'pageid': 12385017, 'ns': 10, 'title': 'Template:Quantify'},\n",
       " '50909293': {'pageid': 50909293, 'ns': 10, 'title': 'Template:Refexample'},\n",
       " '50909684': {'pageid': 50909684,\n",
       "  'ns': 10,\n",
       "  'title': 'Template:Refexample section'},\n",
       " '55635117': {'pageid': 55635117,\n",
       "  'ns': 10,\n",
       "  'title': 'Template:Refexample/sandbox'},\n",
       " '16547656': {'pageid': 16547656,\n",
       "  'ns': 10,\n",
       "  'title': 'Template:Relevance inline',\n",
       "  'redirects': [{'pageid': 32148091,\n",
       "    'ns': 10,\n",
       "    'title': 'Template:Offtopic-inline'},\n",
       "   {'pageid': 34282427, 'ns': 10, 'title': 'Template:Inline relevance'},\n",
       "   {'pageid': 39155703, 'ns': 10, 'title': 'Template:Not relevant'},\n",
       "   {'pageid': 41994953, 'ns': 10, 'title': 'Template:Relevant-inline'},\n",
       "   {'pageid': 49354182, 'ns': 10, 'title': 'Template:Relevance-inline'},\n",
       "   {'pageid': 49357185, 'ns': 10, 'title': 'Template:Off-topic inline'},\n",
       "   {'pageid': 58011980, 'ns': 10, 'title': 'Template:Relevant inline'}]},\n",
       " '22581197': {'pageid': 22581197,\n",
       "  'ns': 10,\n",
       "  'title': 'Template:Romanization needed',\n",
       "  'redirects': [{'pageid': 22581263,\n",
       "    'ns': 10,\n",
       "    'title': 'Template:Transliteration needed'}]},\n",
       " '27998597': {'pageid': 27998597, 'ns': 10, 'title': 'Template:Sarcasm'},\n",
       " '43072736': {'pageid': 43072736, 'ns': 10, 'title': 'Template:Sarcasm/doc'},\n",
       " '29414831': {'pageid': 29414831,\n",
       "  'ns': 10,\n",
       "  'title': 'Template:Scientific citation needed'},\n",
       " '47604537': {'pageid': 47604537, 'ns': 10, 'title': 'Template:Siadn'},\n",
       " '10210379': {'pageid': 10210379,\n",
       "  'ns': 10,\n",
       "  'title': 'Template:Synthesis inline'},\n",
       " '55961853': {'pageid': 55961853,\n",
       "  'ns': 10,\n",
       "  'title': 'Template:Synthesis inline span'},\n",
       " '55961866': {'pageid': 55961866,\n",
       "  'ns': 10,\n",
       "  'title': 'Template:Synthesis inline span/doc'},\n",
       " '6617772': {'pageid': 6617772, 'ns': 10, 'title': 'Template:TBD'},\n",
       " '20638588': {'pageid': 20638588,\n",
       "  'ns': 10,\n",
       "  'title': 'Template:Technical statement'},\n",
       " '4078739': {'pageid': 4078739,\n",
       "  'ns': 10,\n",
       "  'title': 'Template:Unreliable source?'},\n",
       " '54061770': {'pageid': 54061770, 'ns': 10, 'title': 'Template:Until when'},\n",
       " '6179914': {'pageid': 6179914,\n",
       "  'ns': 10,\n",
       "  'title': 'Template:Update after',\n",
       "  'redirects': [{'pageid': 21426229,\n",
       "    'ns': 10,\n",
       "    'title': 'Template:Updateafter'},\n",
       "   {'pageid': 21866597, 'ns': 10, 'title': 'Template:Update-after'},\n",
       "   {'pageid': 22936734, 'ns': 10, 'title': 'Template:Update after start of'},\n",
       "   {'pageid': 32575586, 'ns': 10, 'title': 'Template:Update-statement'},\n",
       "   {'pageid': 38864725, 'ns': 10, 'title': 'Template:Update on'},\n",
       "   {'pageid': 54879407, 'ns': 10, 'title': 'Template:Zukunft'}]},\n",
       " '35595572': {'pageid': 35595572, 'ns': 10, 'title': 'Template:Update inline'},\n",
       " '57416401': {'pageid': 57416401,\n",
       "  'ns': 10,\n",
       "  'title': 'Template:Update inline span'},\n",
       " '9882353': {'pageid': 9882353, 'ns': 10, 'title': 'Template:Vague'},\n",
       " '44925071': {'pageid': 44925071, 'ns': 10, 'title': 'Template:Vedit'},\n",
       " '4838647': {'pageid': 4838647, 'ns': 10, 'title': 'Template:Weasel inline'},\n",
       " '11878717': {'pageid': 11878717, 'ns': 10, 'title': 'Template:When'},\n",
       " '13961363': {'pageid': 13961363, 'ns': 10, 'title': 'Template:Where'},\n",
       " '33033071': {'pageid': 33033071, 'ns': 10, 'title': 'Template:Where-geo'},\n",
       " '11572404': {'pageid': 11572404, 'ns': 10, 'title': 'Template:Which'},\n",
       " '5666292': {'pageid': 5666292,\n",
       "  'ns': 10,\n",
       "  'title': 'Template:Who',\n",
       "  'redirects': [{'pageid': 51780385, 'ns': 10, 'title': \"Template:Who's\"}]},\n",
       " '51041281': {'pageid': 51041281, 'ns': 10, 'title': 'Template:Who2'},\n",
       " '51041350': {'pageid': 51041350, 'ns': 10, 'title': 'Template:Who2/doc'},\n",
       " '58136351': {'pageid': 58136351, 'ns': 10, 'title': 'Template:Whose'},\n",
       " '19356570': {'pageid': 19356570,\n",
       "  'ns': 10,\n",
       "  'title': 'Template:Whose translation'},\n",
       " '21154602': {'pageid': 21154602,\n",
       "  'ns': 10,\n",
       "  'title': 'Template:Why',\n",
       "  'redirects': [{'pageid': 36859236, 'ns': 10, 'title': 'Template:Why?'},\n",
       "   {'pageid': 39890954, 'ns': 10, 'title': 'Template:Why ?'}]},\n",
       " '5959708': {'pageid': 5959708,\n",
       "  'ns': 10,\n",
       "  'title': 'Template:Year needed',\n",
       "  'redirects': [{'pageid': 25972352, 'ns': 10, 'title': 'Template:Year'},\n",
       "   {'pageid': 25987567, 'ns': 10, 'title': 'Template:Needs year'},\n",
       "   {'pageid': 25987570, 'ns': 10, 'title': 'Template:Need year'}]}}"
      ]
     },
     "execution_count": 80,
     "metadata": {},
     "output_type": "execute_result"
    }
   ],
   "source": [
    "inline_cleanup_templates"
   ]
  },
  {
   "cell_type": "code",
   "execution_count": 68,
   "metadata": {},
   "outputs": [],
   "source": [
    "def continuation(session, method, params=None, files=None, auth=None):\n",
    "    if 'continue' not in params:\n",
    "        params['continue'] = ''\n",
    "\n",
    "    while True:\n",
    "        try:\n",
    "            doc = session._request(method, params=params, files=files, auth=None)\n",
    "        except mwapi.errors.APIError:\n",
    "            print(params)\n",
    "            print(doc)\n",
    "            break\n",
    "        yield doc\n",
    "        if 'continue' not in doc:\n",
    "            break\n",
    "        # re-send all continue values in the next call\n",
    "        params.update(doc['continue'])\n",
    "        files = None  # Don't send files again\n"
   ]
  },
  {
   "cell_type": "code",
   "execution_count": 20,
   "metadata": {},
   "outputs": [
    {
     "data": {
      "text/plain": [
       "{'Clarify timeframe', 'Copy edit inline'}"
      ]
     },
     "execution_count": 20,
     "metadata": {},
     "output_type": "execute_result"
    }
   ],
   "source": []
  },
  {
   "cell_type": "code",
   "execution_count": 37,
   "metadata": {},
   "outputs": [
    {
     "data": {
      "text/plain": [
       "set()"
      ]
     },
     "execution_count": 37,
     "metadata": {},
     "output_type": "execute_result"
    }
   ],
   "source": [
    "inline_templates"
   ]
  },
  {
   "cell_type": "markdown",
   "metadata": {},
   "source": [
    "# Get Inline Cleanup Templates"
   ]
  },
  {
   "cell_type": "code",
   "execution_count": 40,
   "metadata": {},
   "outputs": [],
   "source": [
    "import itertools"
   ]
  },
  {
   "cell_type": "code",
   "execution_count": 13,
   "metadata": {},
   "outputs": [],
   "source": [
    "templates = session.request(method='GET',\n",
    "                                 params={\n",
    "                                      'action':'query', \n",
    "                                      'generator':'categorymembers', \n",
    "                                      'gcmtitle':'Category:Inline cleanup templates',\n",
    "                                      'prop': 'info|categories|redirects'\n",
    "                                    },\n",
    "                            continuation=True)"
   ]
  },
  {
   "cell_type": "code",
   "execution_count": 14,
   "metadata": {},
   "outputs": [
    {
     "name": "stdout",
     "output_type": "stream",
     "text": [
      "{'continue': {'clcontinue': '12503503|Inline_cleanup_templates', 'rdcontinue': 'Bare_URL_inline|49364420', 'continue': '||info'}, 'query': {'pages': {'5632010': {'pageid': 5632010, 'ns': 10, 'title': 'Template:Fix', 'contentmodel': 'wikitext', 'pagelanguage': 'en', 'pagelanguagehtmlcode': 'en', 'pagelanguagedir': 'ltr', 'touched': '2018-09-20T17:03:50Z', 'lastrevid': 814292698, 'length': 1113, 'categories': [{'ns': 14, 'title': 'Category:Exclude in print'}, {'ns': 14, 'title': 'Category:Inline cleanup templates'}, {'ns': 14, 'title': 'Category:Wikipedia fully-protected templates'}, {'ns': 14, 'title': 'Category:Wikipedia metatemplates'}]}, '6245183': {'pageid': 6245183, 'ns': 10, 'title': 'Template:Ambiguous', 'contentmodel': 'wikitext', 'pagelanguage': 'en', 'pagelanguagehtmlcode': 'en', 'pagelanguagedir': 'ltr', 'touched': '2018-09-21T14:36:27Z', 'lastrevid': 635056001, 'length': 541, 'categories': [{'ns': 14, 'title': 'Category:Coherency templates'}, {'ns': 14, 'title': 'Category:Inline cleanup templates'}], 'redirects': [{'pageid': 10868679, 'ns': 10, 'title': 'Template:Ambig'}]}, '11446646': {'pageid': 11446646, 'ns': 10, 'title': 'Template:Anachronism inline', 'contentmodel': 'wikitext', 'pagelanguage': 'en', 'pagelanguagehtmlcode': 'en', 'pagelanguagedir': 'ltr', 'touched': '2018-08-23T18:54:26Z', 'lastrevid': 788469420, 'length': 438, 'categories': [{'ns': 14, 'title': 'Category:Inline cleanup templates'}, {'ns': 14, 'title': 'Category:Time and date maintenance templates'}], 'redirects': [{'pageid': 49356568, 'ns': 10, 'title': 'Template:Anachronism-inline'}]}, '12503503': {'pageid': 12503503, 'ns': 10, 'title': 'Template:Attribution needed', 'contentmodel': 'wikitext', 'pagelanguage': 'en', 'pagelanguagehtmlcode': 'en', 'pagelanguagedir': 'ltr', 'touched': '2018-09-21T14:36:27Z', 'lastrevid': 805864938, 'length': 608, 'categories': [{'ns': 14, 'title': 'Category:Inline citation and verifiability dispute templates'}, {'ns': 14, 'title': 'Category:Inline citation cleanup templates'}], 'redirects': [{'pageid': 10089854, 'ns': 10, 'title': 'Template:Views needing attribution'}, {'pageid': 10110665, 'ns': 10, 'title': 'Template:Attrib'}, {'pageid': 12503488, 'ns': 10, 'title': 'Template:Attribute'}, {'pageid': 15112606, 'ns': 10, 'title': 'Template:Att'}]}, '25610087': {'pageid': 25610087, 'ns': 10, 'title': 'Template:Awkward', 'contentmodel': 'wikitext', 'pagelanguage': 'en', 'pagelanguagehtmlcode': 'en', 'pagelanguagedir': 'ltr', 'touched': '2018-09-21T14:36:27Z', 'lastrevid': 774255145, 'length': 541, 'redirects': [{'pageid': 25616512, 'ns': 10, 'title': 'Template:Awk'}]}, '39275128': {'pageid': 39275128, 'ns': 10, 'title': 'Template:Bare URL inline', 'contentmodel': 'wikitext', 'pagelanguage': 'en', 'pagelanguagehtmlcode': 'en', 'pagelanguagedir': 'ltr', 'touched': '2018-09-21T14:36:27Z', 'lastrevid': 815122595, 'length': 577, 'redirects': [{'pageid': 45042784, 'ns': 10, 'title': 'Template:Bare URL-inline'}, {'pageid': 45042791, 'ns': 10, 'title': 'Template:Linkrot-inline'}, {'pageid': 47674603, 'ns': 10, 'title': 'Template:Bare-inline'}]}, '57798416': {'pageid': 57798416, 'ns': 10, 'title': 'Template:Brexit note', 'contentmodel': 'wikitext', 'pagelanguage': 'en', 'pagelanguagehtmlcode': 'en', 'pagelanguagedir': 'ltr', 'touched': '2018-07-08T06:35:29Z', 'lastrevid': 848242357, 'length': 261}, '30304886': {'pageid': 30304886, 'ns': 10, 'title': 'Template:Buzzword inline', 'contentmodel': 'wikitext', 'pagelanguage': 'en', 'pagelanguagehtmlcode': 'en', 'pagelanguagedir': 'ltr', 'touched': '2018-09-23T10:45:10Z', 'lastrevid': 852479324, 'length': 591}, '39643223': {'pageid': 39643223, 'ns': 10, 'title': 'Template:By how much', 'contentmodel': 'wikitext', 'pagelanguage': 'en', 'pagelanguagehtmlcode': 'en', 'pagelanguagedir': 'ltr', 'touched': '2018-09-21T14:36:27Z', 'lastrevid': 654636799, 'length': 387}, '17004352': {'pageid': 17004352, 'ns': 10, 'title': 'Template:Called', 'contentmodel': 'wikitext', 'pagelanguage': 'en', 'pagelanguagehtmlcode': 'en', 'pagelanguagedir': 'ltr', 'touched': '2018-04-13T08:22:47Z', 'lastrevid': 409047050, 'length': 80}}}}\n",
      "{'continue': {'clcontinue': '39275128|Inline_cleanup_templates', 'rdcontinue': 'Fix|43931470', 'continue': '||info'}, 'query': {'pages': {'5632010': {'pageid': 5632010, 'ns': 10, 'title': 'Template:Fix'}, '6245183': {'pageid': 6245183, 'ns': 10, 'title': 'Template:Ambiguous'}, '11446646': {'pageid': 11446646, 'ns': 10, 'title': 'Template:Anachronism inline'}, '12503503': {'pageid': 12503503, 'ns': 10, 'title': 'Template:Attribution needed', 'categories': [{'ns': 14, 'title': 'Category:Inline cleanup templates'}, {'ns': 14, 'title': 'Category:TemplateData documentation'}, {'ns': 14, 'title': 'Category:Templates needing substitution checking'}, {'ns': 14, 'title': 'Category:Wikipedia semi-protected templates'}]}, '25610087': {'pageid': 25610087, 'ns': 10, 'title': 'Template:Awkward', 'categories': [{'ns': 14, 'title': 'Category:Inline cleanup templates'}, {'ns': 14, 'title': 'Category:TemplateData documentation'}]}, '39275128': {'pageid': 39275128, 'ns': 10, 'title': 'Template:Bare URL inline', 'categories': [{'ns': 14, 'title': 'Category:Citation and verifiability maintenance templates'}], 'redirects': [{'pageid': 49364420, 'ns': 10, 'title': 'Template:Bare inline'}, {'pageid': 50071352, 'ns': 10, 'title': 'Template:Bare url inline'}, {'pageid': 53590069, 'ns': 10, 'title': 'Template:Bare-url inline'}, {'pageid': 53590070, 'ns': 10, 'title': 'Template:Bare link inline'}, {'pageid': 53754599, 'ns': 10, 'title': 'Template:Bare-link-inline'}, {'pageid': 53754600, 'ns': 10, 'title': 'Template:Bare-url-inline'}]}, '57798416': {'pageid': 57798416, 'ns': 10, 'title': 'Template:Brexit note'}, '30304886': {'pageid': 30304886, 'ns': 10, 'title': 'Template:Buzzword inline', 'categories': [{'ns': 14, 'title': 'Category:Coherency templates'}, {'ns': 14, 'title': 'Category:Inline cleanup templates'}], 'redirects': [{'pageid': 36618888, 'ns': 10, 'title': 'Template:Solution-inline'}, {'pageid': 42195908, 'ns': 10, 'title': 'Template:Buzzword-inline'}, {'pageid': 43504843, 'ns': 10, 'title': 'Template:Buzzwords inline'}, {'pageid': 49762807, 'ns': 10, 'title': 'Template:Buzz'}]}, '39643223': {'pageid': 39643223, 'ns': 10, 'title': 'Template:By how much'}, '17004352': {'pageid': 17004352, 'ns': 10, 'title': 'Template:Called', 'categories': [{'ns': 14, 'title': 'Category:Inline cleanup templates'}]}}}}\n",
      "{'batchcomplete': '', 'continue': {'gcmcontinue': 'page|2d37312d3d044951454f294f394543011301dc12|34142075', 'continue': 'gcmcontinue||'}, 'query': {'pages': {'5632010': {'pageid': 5632010, 'ns': 10, 'title': 'Template:Fix', 'redirects': [{'pageid': 43931470, 'ns': 10, 'title': 'Template:Fake fix'}]}, '6245183': {'pageid': 6245183, 'ns': 10, 'title': 'Template:Ambiguous'}, '11446646': {'pageid': 11446646, 'ns': 10, 'title': 'Template:Anachronism inline'}, '12503503': {'pageid': 12503503, 'ns': 10, 'title': 'Template:Attribution needed'}, '25610087': {'pageid': 25610087, 'ns': 10, 'title': 'Template:Awkward'}, '39275128': {'pageid': 39275128, 'ns': 10, 'title': 'Template:Bare URL inline', 'categories': [{'ns': 14, 'title': 'Category:Inline cleanup templates'}, {'ns': 14, 'title': 'Category:Templates including undated clean-up tags'}]}, '57798416': {'pageid': 57798416, 'ns': 10, 'title': 'Template:Brexit note', 'categories': [{'ns': 14, 'title': 'Category:Inline cleanup templates'}, {'ns': 14, 'title': 'Category:Templates that add a tracking category'}]}, '30304886': {'pageid': 30304886, 'ns': 10, 'title': 'Template:Buzzword inline'}, '39643223': {'pageid': 39643223, 'ns': 10, 'title': 'Template:By how much', 'categories': [{'ns': 14, 'title': 'Category:Inline cleanup templates'}]}, '17004352': {'pageid': 17004352, 'ns': 10, 'title': 'Template:Called'}}}}\n",
      "{'batchcomplete': '', 'continue': {'gcmcontinue': 'page|2d45434f31574f0439433f3943310a864d29432f2b4557011a01dc19|55468883', 'continue': 'gcmcontinue||'}, 'query': {'pages': {'34142075': {'pageid': 34142075, 'ns': 10, 'title': 'Template:Check quotation', 'contentmodel': 'wikitext', 'pagelanguage': 'en', 'pagelanguagehtmlcode': 'en', 'pagelanguagedir': 'ltr', 'touched': '2018-04-10T14:29:59Z', 'lastrevid': 806851268, 'length': 566}, '42463713': {'pageid': 42463713, 'ns': 10, 'title': 'Template:Chinese script needed inline', 'contentmodel': 'wikitext', 'pagelanguage': 'en', 'pagelanguagehtmlcode': 'en', 'pagelanguagedir': 'ltr', 'touched': '2018-09-21T14:36:27Z', 'lastrevid': 733436218, 'length': 577, 'categories': [{'ns': 14, 'title': 'Category:Article message templates'}, {'ns': 14, 'title': 'Category:Articles needing Chinese script or text'}, {'ns': 14, 'title': 'Category:Chinese language templates'}, {'ns': 14, 'title': 'Category:Inline cleanup templates'}, {'ns': 14, 'title': 'Category:Language maintenance templates'}]}, '7774601': {'pageid': 7774601, 'ns': 10, 'title': 'Template:Clarify', 'contentmodel': 'wikitext', 'pagelanguage': 'en', 'pagelanguagehtmlcode': 'en', 'pagelanguagedir': 'ltr', 'touched': '2018-09-21T14:36:27Z', 'lastrevid': 784083754, 'length': 424}, '35250299': {'pageid': 35250299, 'ns': 10, 'title': 'Template:Clarify span', 'contentmodel': 'wikitext', 'pagelanguage': 'en', 'pagelanguagehtmlcode': 'en', 'pagelanguagedir': 'ltr', 'touched': '2018-09-21T14:36:27Z', 'lastrevid': 806873872, 'length': 934}, '33522506': {'pageid': 33522506, 'ns': 10, 'title': 'Template:Clarify timeframe', 'contentmodel': 'wikitext', 'pagelanguage': 'en', 'pagelanguagehtmlcode': 'en', 'pagelanguagedir': 'ltr', 'touched': '2018-09-21T14:36:27Z', 'lastrevid': 822257682, 'length': 542}, '24102852': {'pageid': 24102852, 'ns': 10, 'title': 'Template:COI source', 'contentmodel': 'wikitext', 'pagelanguage': 'en', 'pagelanguagehtmlcode': 'en', 'pagelanguagedir': 'ltr', 'touched': '2018-09-21T14:36:27Z', 'lastrevid': 858362102, 'length': 611}, '33885234': {'pageid': 33885234, 'ns': 10, 'title': 'Template:Compared to?', 'contentmodel': 'wikitext', 'pagelanguage': 'en', 'pagelanguagehtmlcode': 'en', 'pagelanguagedir': 'ltr', 'touched': '2018-04-10T14:29:33Z', 'lastrevid': 783577178, 'length': 667}, '50788645': {'pageid': 50788645, 'ns': 10, 'title': 'Template:Contentious label inline', 'contentmodel': 'wikitext', 'pagelanguage': 'en', 'pagelanguagehtmlcode': 'en', 'pagelanguagedir': 'ltr', 'touched': '2018-09-25T03:07:46Z', 'lastrevid': 797455280, 'length': 606, 'categories': [{'ns': 14, 'title': 'Category:Inline cleanup templates'}, {'ns': 14, 'title': 'Category:Templates with missing or incorrect documentation'}]}, '55046087': {'pageid': 55046087, 'ns': 10, 'title': 'Template:Contentious label inline/sandbox', 'contentmodel': 'wikitext', 'pagelanguage': 'en', 'pagelanguagehtmlcode': 'en', 'pagelanguagedir': 'ltr', 'touched': '2018-09-25T03:07:46Z', 'lastrevid': 797455835, 'length': 683, 'categories': [{'ns': 14, 'title': 'Category:Inline cleanup templates'}, {'ns': 14, 'title': 'Category:Template sandboxes'}, {'ns': 14, 'title': 'Category:Templates with missing or incorrect documentation'}]}, '21333305': {'pageid': 21333305, 'ns': 10, 'title': 'Template:Context inline', 'contentmodel': 'wikitext', 'pagelanguage': 'en', 'pagelanguagehtmlcode': 'en', 'pagelanguagedir': 'ltr', 'touched': '2018-07-04T06:06:15Z', 'lastrevid': 783577335, 'length': 452}}}}\n",
      "{'continue': {'clcontinue': '55468883|Template_sandboxes', 'gcmcontinue': 'page|2d45434f31574f0439433f3943310a864d29432f2b4557011a01dc19|55468883', 'continue': 'gcmcontinue||info|redirects'}, 'query': {'pages': {'55468883': {'pageid': 55468883, 'ns': 10, 'title': 'Template:Context inline/sandbox', 'contentmodel': 'wikitext', 'pagelanguage': 'en', 'pagelanguagehtmlcode': 'en', 'pagelanguagedir': 'ltr', 'touched': '2018-07-04T06:23:54Z', 'lastrevid': 804153892, 'length': 452, 'new': '', 'categories': [{'ns': 14, 'title': 'Category:Coherency templates'}, {'ns': 14, 'title': 'Category:Inline cleanup templates'}]}, '37667741': {'pageid': 37667741, 'ns': 10, 'title': 'Template:Copy edit inline', 'contentmodel': 'wikitext', 'pagelanguage': 'en', 'pagelanguagehtmlcode': 'en', 'pagelanguagedir': 'ltr', 'touched': '2018-05-27T04:05:42Z', 'lastrevid': 833228863, 'length': 439}, '42489943': {'pageid': 42489943, 'ns': 10, 'title': 'Template:Copyright violation', 'contentmodel': 'wikitext', 'pagelanguage': 'en', 'pagelanguagehtmlcode': 'en', 'pagelanguagedir': 'ltr', 'touched': '2018-08-20T10:34:03Z', 'lastrevid': 739089786, 'length': 573, 'categories': [{'ns': 14, 'title': 'Category:Inline cleanup templates'}, {'ns': 14, 'title': 'Category:Templates needing substitution checking'}]}, '21202877': {'pageid': 21202877, 'ns': 10, 'title': 'Template:Current event inline', 'contentmodel': 'wikitext', 'pagelanguage': 'en', 'pagelanguagehtmlcode': 'en', 'pagelanguagedir': 'ltr', 'touched': '2018-04-10T14:04:01Z', 'lastrevid': 709848641, 'length': 444}, '18572021': {'pageid': 18572021, 'ns': 10, 'title': 'Template:Data missing', 'contentmodel': 'wikitext', 'pagelanguage': 'en', 'pagelanguagehtmlcode': 'en', 'pagelanguagedir': 'ltr', 'touched': '2018-09-12T16:40:20Z', 'lastrevid': 819685673, 'length': 175}, '51641162': {'pageid': 51641162, 'ns': 10, 'title': 'Template:Data missing/sandbox', 'contentmodel': 'wikitext', 'pagelanguage': 'en', 'pagelanguagehtmlcode': 'en', 'pagelanguagedir': 'ltr', 'touched': '2018-09-12T16:42:27Z', 'lastrevid': 739948859, 'length': 234, 'new': '', 'categories': [{'ns': 14, 'title': 'Category:Data missing'}, {'ns': 14, 'title': 'Category:Inline cleanup templates'}, {'ns': 14, 'title': 'Category:List cleanup maintenance templates'}, {'ns': 14, 'title': 'Category:Template sandboxes'}]}, '16912988': {'pageid': 16912988, 'ns': 10, 'title': 'Template:Dead link-now', 'contentmodel': 'wikitext', 'pagelanguage': 'en', 'pagelanguagehtmlcode': 'en', 'pagelanguagedir': 'ltr', 'touched': '2018-09-02T17:05:38Z', 'lastrevid': 403436272, 'length': 152}, '16187564': {'pageid': 16187564, 'ns': 10, 'title': 'Template:Definition', 'contentmodel': 'wikitext', 'pagelanguage': 'en', 'pagelanguagehtmlcode': 'en', 'pagelanguagedir': 'ltr', 'touched': '2018-09-21T14:36:27Z', 'lastrevid': 779820189, 'length': 445}, '47879561': {'pageid': 47879561, 'ns': 10, 'title': 'Template:Definition needed', 'contentmodel': 'wikitext', 'pagelanguage': 'en', 'pagelanguagehtmlcode': 'en', 'pagelanguagedir': 'ltr', 'touched': '2018-09-21T14:36:27Z', 'lastrevid': 784060165, 'length': 443, 'categories': [{'ns': 14, 'title': 'Category:Coherency templates'}, {'ns': 14, 'title': 'Category:Inline cleanup templates'}]}, '8202524': {'pageid': 8202524, 'ns': 10, 'title': 'Template:Disambiguation needed', 'contentmodel': 'wikitext', 'pagelanguage': 'en', 'pagelanguagehtmlcode': 'en', 'pagelanguagedir': 'ltr', 'touched': '2018-09-21T14:36:27Z', 'lastrevid': 802440910, 'length': 745}}}}\n",
      "{'batchcomplete': '', 'continue': {'gcmcontinue': 'page|312f394f010801dc07|692091', 'continue': 'gcmcontinue||'}, 'query': {'pages': {'55468883': {'pageid': 55468883, 'ns': 10, 'title': 'Template:Context inline/sandbox', 'categories': [{'ns': 14, 'title': 'Category:Template sandboxes'}]}, '37667741': {'pageid': 37667741, 'ns': 10, 'title': 'Template:Copy edit inline'}, '42489943': {'pageid': 42489943, 'ns': 10, 'title': 'Template:Copyright violation'}, '21202877': {'pageid': 21202877, 'ns': 10, 'title': 'Template:Current event inline'}, '18572021': {'pageid': 18572021, 'ns': 10, 'title': 'Template:Data missing'}, '51641162': {'pageid': 51641162, 'ns': 10, 'title': 'Template:Data missing/sandbox'}, '16912988': {'pageid': 16912988, 'ns': 10, 'title': 'Template:Dead link-now'}, '16187564': {'pageid': 16187564, 'ns': 10, 'title': 'Template:Definition'}, '47879561': {'pageid': 47879561, 'ns': 10, 'title': 'Template:Definition needed'}, '8202524': {'pageid': 8202524, 'ns': 10, 'title': 'Template:Disambiguation needed'}}}}\n",
      "{'continue': {'clcontinue': '58300175|Inline_cleanup_templates', 'gcmcontinue': 'page|312f394f010801dc07|692091', 'continue': 'gcmcontinue||info|redirects'}, 'query': {'pages': {'692091': {'pageid': 692091, 'ns': 10, 'title': 'Template:Edit', 'contentmodel': 'wikitext', 'pagelanguage': 'en', 'pagelanguagehtmlcode': 'en', 'pagelanguagedir': 'ltr', 'touched': '2018-09-23T16:20:41Z', 'lastrevid': 640984360, 'length': 415}, '58300175': {'pageid': 58300175, 'ns': 10, 'title': 'Template:Edit sub', 'contentmodel': 'wikitext', 'pagelanguage': 'en', 'pagelanguagehtmlcode': 'en', 'pagelanguagedir': 'ltr', 'touched': '2018-08-28T01:35:38Z', 'lastrevid': 856866283, 'length': 424, 'new': ''}, '58300173': {'pageid': 58300173, 'ns': 10, 'title': 'Template:Edit sub/doc', 'contentmodel': 'wikitext', 'pagelanguage': 'en', 'pagelanguagehtmlcode': 'en', 'pagelanguagedir': 'ltr', 'touched': '2018-08-28T01:35:36Z', 'lastrevid': 856867550, 'length': 2743, 'categories': [{'ns': 14, 'title': 'Category:Inline cleanup templates'}, {'ns': 14, 'title': 'Category:Internal link maintenance templates'}, {'ns': 14, 'title': 'Category:Internal link templates'}, {'ns': 14, 'title': 'Category:TemplateData documentation'}, {'ns': 14, 'title': 'Category:Template documentation pages'}]}, '58300154': {'pageid': 58300154, 'ns': 10, 'title': 'Template:Edit sup/doc', 'contentmodel': 'wikitext', 'pagelanguage': 'en', 'pagelanguagehtmlcode': 'en', 'pagelanguagedir': 'ltr', 'touched': '2018-08-28T01:35:32Z', 'lastrevid': 856867543, 'length': 2743, 'categories': [{'ns': 14, 'title': 'Category:Inline cleanup templates'}, {'ns': 14, 'title': 'Category:Internal link maintenance templates'}, {'ns': 14, 'title': 'Category:Internal link templates'}, {'ns': 14, 'title': 'Category:TemplateData documentation'}, {'ns': 14, 'title': 'Category:Template documentation pages'}]}, '9252684': {'pageid': 9252684, 'ns': 10, 'title': 'Template:Editlink', 'contentmodel': 'wikitext', 'pagelanguage': 'en', 'pagelanguagehtmlcode': 'en', 'pagelanguagedir': 'ltr', 'touched': '2018-08-07T06:48:59Z', 'lastrevid': 739134618, 'length': 303}, '9310341': {'pageid': 9310341, 'ns': 10, 'title': 'Template:Editlink-right', 'contentmodel': 'wikitext', 'pagelanguage': 'en', 'pagelanguagehtmlcode': 'en', 'pagelanguagedir': 'ltr', 'touched': '2018-04-10T13:34:59Z', 'lastrevid': 286171273, 'length': 210}, '17830414': {'pageid': 17830414, 'ns': 10, 'title': 'Template:Example needed', 'contentmodel': 'wikitext', 'pagelanguage': 'en', 'pagelanguagehtmlcode': 'en', 'pagelanguagedir': 'ltr', 'touched': '2018-09-21T14:36:27Z', 'lastrevid': 828002214, 'length': 338}, '34631998': {'pageid': 34631998, 'ns': 10, 'title': 'Template:Example needed-span', 'contentmodel': 'wikitext', 'pagelanguage': 'en', 'pagelanguagehtmlcode': 'en', 'pagelanguagedir': 'ltr', 'touched': '2018-07-09T09:01:58Z', 'lastrevid': 475489106, 'length': 381}, '28553597': {'pageid': 28553597, 'ns': 10, 'title': 'Template:Expand acronym', 'contentmodel': 'wikitext', 'pagelanguage': 'en', 'pagelanguagehtmlcode': 'en', 'pagelanguagedir': 'ltr', 'touched': '2018-09-21T14:36:27Z', 'lastrevid': 784060762, 'length': 474}, '27932307': {'pageid': 27932307, 'ns': 10, 'title': 'Template:Explain', 'contentmodel': 'wikitext', 'pagelanguage': 'en', 'pagelanguagehtmlcode': 'en', 'pagelanguagedir': 'ltr', 'touched': '2018-09-21T14:36:27Z', 'lastrevid': 804520656, 'length': 447}}}}\n",
      "{'batchcomplete': '', 'continue': {'gcmcontinue': 'page|33292d4f04454b0445473943394543011301dc12|27159663', 'continue': 'gcmcontinue||'}, 'query': {'pages': {'692091': {'pageid': 692091, 'ns': 10, 'title': 'Template:Edit'}, '58300175': {'pageid': 58300175, 'ns': 10, 'title': 'Template:Edit sub', 'categories': [{'ns': 14, 'title': 'Category:Inline cleanup templates'}, {'ns': 14, 'title': 'Category:Internal link maintenance templates'}, {'ns': 14, 'title': 'Category:Internal link templates'}, {'ns': 14, 'title': 'Category:TemplateData documentation'}]}, '58300173': {'pageid': 58300173, 'ns': 10, 'title': 'Template:Edit sub/doc'}, '58300154': {'pageid': 58300154, 'ns': 10, 'title': 'Template:Edit sup/doc'}, '9252684': {'pageid': 9252684, 'ns': 10, 'title': 'Template:Editlink'}, '9310341': {'pageid': 9310341, 'ns': 10, 'title': 'Template:Editlink-right'}, '17830414': {'pageid': 17830414, 'ns': 10, 'title': 'Template:Example needed'}, '34631998': {'pageid': 34631998, 'ns': 10, 'title': 'Template:Example needed-span'}, '28553597': {'pageid': 28553597, 'ns': 10, 'title': 'Template:Expand acronym'}, '27932307': {'pageid': 27932307, 'ns': 10, 'title': 'Template:Explain'}}}}\n",
      "{'continue': {'rdcontinue': 'Importance_inline|49361356', 'gcmcontinue': 'page|33292d4f04454b0445473943394543011301dc12|27159663', 'continue': 'gcmcontinue||info|categories'}, 'query': {'pages': {'27159663': {'pageid': 27159663, 'ns': 10, 'title': 'Template:Fact or opinion', 'contentmodel': 'wikitext', 'pagelanguage': 'en', 'pagelanguagehtmlcode': 'en', 'pagelanguagedir': 'ltr', 'touched': '2018-09-18T04:02:46Z', 'lastrevid': 799146429, 'length': 585}, '29459344': {'pageid': 29459344, 'ns': 10, 'title': 'Template:Fix-span', 'contentmodel': 'wikitext', 'pagelanguage': 'en', 'pagelanguagehtmlcode': 'en', 'pagelanguagedir': 'ltr', 'touched': '2018-09-23T10:45:06Z', 'lastrevid': 849479086, 'length': 1271, 'redirects': [{'pageid': 40487230, 'ns': 10, 'title': 'Template:Fix span'}]}, '39147927': {'pageid': 39147927, 'ns': 10, 'title': 'Template:Fragment', 'contentmodel': 'wikitext', 'pagelanguage': 'en', 'pagelanguagehtmlcode': 'en', 'pagelanguagedir': 'ltr', 'touched': '2018-04-10T14:38:53Z', 'lastrevid': 784063910, 'length': 476, 'redirects': [{'pageid': 56537378, 'ns': 10, 'title': 'Template:Sentence fragment'}]}, '33960451': {'pageid': 33960451, 'ns': 10, 'title': 'Template:How', 'contentmodel': 'wikitext', 'pagelanguage': 'en', 'pagelanguagehtmlcode': 'en', 'pagelanguagedir': 'ltr', 'touched': '2018-09-21T14:36:27Z', 'lastrevid': 819685859, 'length': 492, 'redirects': [{'pageid': 19960591, 'ns': 10, 'title': 'Template:How?'}, {'pageid': 43292639, 'ns': 10, 'title': 'Template:How ?'}]}, '26655530': {'pageid': 26655530, 'ns': 10, 'title': 'Template:How often', 'contentmodel': 'wikitext', 'pagelanguage': 'en', 'pagelanguagehtmlcode': 'en', 'pagelanguagedir': 'ltr', 'touched': '2018-04-10T14:15:52Z', 'lastrevid': 784066301, 'length': 704, 'redirects': [{'pageid': 34393061, 'ns': 10, 'title': 'Template:Howoften'}]}, '44367001': {'pageid': 44367001, 'ns': 10, 'title': 'Template:Huge file', 'contentmodel': 'wikitext', 'pagelanguage': 'en', 'pagelanguagehtmlcode': 'en', 'pagelanguagedir': 'ltr', 'touched': '2018-04-10T14:48:08Z', 'lastrevid': 633369349, 'length': 446}, '27378487': {'pageid': 27378487, 'ns': 10, 'title': 'Template:Idetail', 'contentmodel': 'wikitext', 'pagelanguage': 'en', 'pagelanguagehtmlcode': 'en', 'pagelanguagedir': 'ltr', 'touched': '2018-04-10T14:17:39Z', 'lastrevid': 599493344, 'length': 316}, '14450422': {'pageid': 14450422, 'ns': 10, 'title': 'Template:Imagefact', 'contentmodel': 'wikitext', 'pagelanguage': 'en', 'pagelanguagehtmlcode': 'en', 'pagelanguagedir': 'ltr', 'touched': '2018-05-03T14:50:59Z', 'lastrevid': 784066466, 'length': 543, 'redirects': [{'pageid': 15095399, 'ns': 10, 'title': 'Template:Image fact'}, {'pageid': 15095401, 'ns': 10, 'title': 'Template:Image-fact'}]}, '52055569': {'pageid': 52055569, 'ns': 10, 'title': 'Template:Importance example', 'contentmodel': 'wikitext', 'pagelanguage': 'en', 'pagelanguagehtmlcode': 'en', 'pagelanguagedir': 'ltr', 'touched': '2018-09-25T05:06:22Z', 'lastrevid': 859783512, 'length': 421, 'redirects': [{'pageid': 52120555, 'ns': 10, 'title': 'Template:Importance-example'}]}, '28112679': {'pageid': 28112679, 'ns': 10, 'title': 'Template:Importance inline', 'contentmodel': 'wikitext', 'pagelanguage': 'en', 'pagelanguagehtmlcode': 'en', 'pagelanguagedir': 'ltr', 'touched': '2018-09-25T03:07:46Z', 'lastrevid': 703828928, 'length': 328, 'redirects': [{'pageid': 49356122, 'ns': 10, 'title': 'Template:Importance-inline'}, {'pageid': 49361354, 'ns': 10, 'title': 'Template:Trivia-inline'}]}}}}\n",
      "{'batchcomplete': '', 'continue': {'gcmcontinue': 'page|39432d4541474b313731434d392b3f310439433f394331011b01dc1a|48435792', 'continue': 'gcmcontinue||'}, 'query': {'pages': {'27159663': {'pageid': 27159663, 'ns': 10, 'title': 'Template:Fact or opinion'}, '29459344': {'pageid': 29459344, 'ns': 10, 'title': 'Template:Fix-span'}, '39147927': {'pageid': 39147927, 'ns': 10, 'title': 'Template:Fragment'}, '33960451': {'pageid': 33960451, 'ns': 10, 'title': 'Template:How'}, '26655530': {'pageid': 26655530, 'ns': 10, 'title': 'Template:How often'}, '44367001': {'pageid': 44367001, 'ns': 10, 'title': 'Template:Huge file'}, '27378487': {'pageid': 27378487, 'ns': 10, 'title': 'Template:Idetail'}, '14450422': {'pageid': 14450422, 'ns': 10, 'title': 'Template:Imagefact'}, '52055569': {'pageid': 52055569, 'ns': 10, 'title': 'Template:Importance example'}, '28112679': {'pageid': 28112679, 'ns': 10, 'title': 'Template:Importance inline', 'redirects': [{'pageid': 49361356, 'ns': 10, 'title': 'Template:Trivia inline'}, {'pageid': 49363544, 'ns': 10, 'title': 'Template:Aside inline'}]}}}}\n",
      "{'continue': {'rdcontinue': 'More_citations_needed|3076126', 'gcmcontinue': 'page|39432d4541474b313731434d392b3f310439433f394331011b01dc1a|48435792', 'continue': 'gcmcontinue||info|categories'}, 'query': {'pages': {'48435792': {'pageid': 48435792, 'ns': 10, 'title': 'Template:Incomprehensible inline', 'contentmodel': 'wikitext', 'pagelanguage': 'en', 'pagelanguagehtmlcode': 'en', 'pagelanguagedir': 'ltr', 'touched': '2018-09-21T14:36:27Z', 'lastrevid': 795359978, 'length': 406, 'redirects': [{'pageid': 49355552, 'ns': 10, 'title': 'Template:Incomprehensible-inline'}]}, '15176846': {'pageid': 15176846, 'ns': 10, 'title': 'Template:Inconsistent', 'contentmodel': 'wikitext', 'pagelanguage': 'en', 'pagelanguagehtmlcode': 'en', 'pagelanguagedir': 'ltr', 'touched': '2018-09-21T14:36:27Z', 'lastrevid': 748381112, 'length': 451, 'redirects': [{'pageid': 15176841, 'ns': 10, 'title': 'Template:Inconsistant'}]}, '38606275': {'pageid': 38606275, 'ns': 10, 'title': 'Template:Like whom?', 'contentmodel': 'wikitext', 'pagelanguage': 'en', 'pagelanguagehtmlcode': 'en', 'pagelanguagedir': 'ltr', 'touched': '2018-09-21T14:36:27Z', 'lastrevid': 784066915, 'length': 722, 'redirects': [{'pageid': 53854315, 'ns': 10, 'title': 'Template:Whom2'}, {'pageid': 53854441, 'ns': 10, 'title': 'Template:Like whom'}]}, '47356406': {'pageid': 47356406, 'ns': 10, 'title': 'Template:Long quote', 'contentmodel': 'wikitext', 'pagelanguage': 'en', 'pagelanguagehtmlcode': 'en', 'pagelanguagedir': 'ltr', 'touched': '2018-09-11T14:43:14Z', 'lastrevid': 859072854, 'length': 525, 'redirects': [{'pageid': 33165185, 'ns': 10, 'title': 'Template:Longquote'}, {'pageid': 49329472, 'ns': 10, 'title': 'Template:Excessive quote'}]}, '5980180': {'pageid': 5980180, 'ns': 10, 'title': 'Template:Lopsided', 'contentmodel': 'wikitext', 'pagelanguage': 'en', 'pagelanguagehtmlcode': 'en', 'pagelanguagedir': 'ltr', 'touched': '2018-09-25T06:27:45Z', 'lastrevid': 797455180, 'length': 509}, '55046082': {'pageid': 55046082, 'ns': 10, 'title': 'Template:Lopsided/sandbox', 'contentmodel': 'wikitext', 'pagelanguage': 'en', 'pagelanguagehtmlcode': 'en', 'pagelanguagedir': 'ltr', 'touched': '2018-09-25T06:27:45Z', 'lastrevid': 797455219, 'length': 509, 'new': ''}, '19872116': {'pageid': 19872116, 'ns': 10, 'title': 'Template:MisleadingNameLink', 'contentmodel': 'wikitext', 'pagelanguage': 'en', 'pagelanguagehtmlcode': 'en', 'pagelanguagedir': 'ltr', 'touched': '2018-04-10T14:01:11Z', 'lastrevid': 471597712, 'length': 413, 'redirects': [{'pageid': 20019011, 'ns': 10, 'title': 'Template:Mnl'}]}, '10160967': {'pageid': 10160967, 'ns': 10, 'title': 'Template:More citations needed', 'contentmodel': 'wikitext', 'pagelanguage': 'en', 'pagelanguagehtmlcode': 'en', 'pagelanguagedir': 'ltr', 'touched': '2018-09-25T06:27:45Z', 'lastrevid': 822233953, 'length': 870, 'redirects': [{'pageid': 855172, 'ns': 10, 'title': 'Template:Verify'}, {'pageid': 1331305, 'ns': 10, 'title': 'Template:Not verified'}, {'pageid': 2637796, 'ns': 10, 'title': 'Template:Cleanup-verify'}]}, '22508869': {'pageid': 22508869, 'ns': 10, 'title': 'Template:Needs IPA', 'contentmodel': 'wikitext', 'pagelanguage': 'en', 'pagelanguagehtmlcode': 'en', 'pagelanguagedir': 'ltr', 'touched': '2018-09-21T14:36:27Z', 'lastrevid': 772604460, 'length': 463}, '49353759': {'pageid': 49353759, 'ns': 10, 'title': 'Template:Non sequitur', 'contentmodel': 'wikitext', 'pagelanguage': 'en', 'pagelanguagehtmlcode': 'en', 'pagelanguagedir': 'ltr', 'touched': '2018-09-21T14:36:27Z', 'lastrevid': 779845534, 'length': 680}}}}\n",
      "{'continue': {'rdcontinue': 'More_citations_needed|11321379', 'gcmcontinue': 'page|39432d4541474b313731434d392b3f310439433f394331011b01dc1a|48435792', 'continue': 'gcmcontinue||info|categories'}, 'query': {'pages': {'48435792': {'pageid': 48435792, 'ns': 10, 'title': 'Template:Incomprehensible inline'}, '15176846': {'pageid': 15176846, 'ns': 10, 'title': 'Template:Inconsistent'}, '38606275': {'pageid': 38606275, 'ns': 10, 'title': 'Template:Like whom?'}, '47356406': {'pageid': 47356406, 'ns': 10, 'title': 'Template:Long quote'}, '5980180': {'pageid': 5980180, 'ns': 10, 'title': 'Template:Lopsided'}, '55046082': {'pageid': 55046082, 'ns': 10, 'title': 'Template:Lopsided/sandbox'}, '19872116': {'pageid': 19872116, 'ns': 10, 'title': 'Template:MisleadingNameLink'}, '10160967': {'pageid': 10160967, 'ns': 10, 'title': 'Template:More citations needed', 'redirects': [{'pageid': 3076126, 'ns': 10, 'title': 'Template:Notverified'}, {'pageid': 3213707, 'ns': 10, 'title': 'Template:Cite sources'}, {'pageid': 4372625, 'ns': 10, 'title': 'Template:Sources'}, {'pageid': 5025009, 'ns': 10, 'title': 'Template:More sources'}, {'pageid': 5042585, 'ns': 10, 'title': 'Template:Citations missing'}, {'pageid': 7137657, 'ns': 10, 'title': 'Template:Referenced'}, {'pageid': 7925142, 'ns': 10, 'title': 'Template:Citations needed'}, {'pageid': 8260741, 'ns': 10, 'title': 'Template:Moresources'}, {'pageid': 10623202, 'ns': 10, 'title': 'Template:Missing citations'}, {'pageid': 11321330, 'ns': 10, 'title': 'Template:Morerefs'}]}, '22508869': {'pageid': 22508869, 'ns': 10, 'title': 'Template:Needs IPA'}, '49353759': {'pageid': 49353759, 'ns': 10, 'title': 'Template:Non sequitur'}}}}\n",
      "{'continue': {'rdcontinue': 'More_citations_needed|12833064', 'gcmcontinue': 'page|39432d4541474b313731434d392b3f310439433f394331011b01dc1a|48435792', 'continue': 'gcmcontinue||info|categories'}, 'query': {'pages': {'48435792': {'pageid': 48435792, 'ns': 10, 'title': 'Template:Incomprehensible inline'}, '15176846': {'pageid': 15176846, 'ns': 10, 'title': 'Template:Inconsistent'}, '38606275': {'pageid': 38606275, 'ns': 10, 'title': 'Template:Like whom?'}, '47356406': {'pageid': 47356406, 'ns': 10, 'title': 'Template:Long quote'}, '5980180': {'pageid': 5980180, 'ns': 10, 'title': 'Template:Lopsided'}, '55046082': {'pageid': 55046082, 'ns': 10, 'title': 'Template:Lopsided/sandbox'}, '19872116': {'pageid': 19872116, 'ns': 10, 'title': 'Template:MisleadingNameLink'}, '10160967': {'pageid': 10160967, 'ns': 10, 'title': 'Template:More citations needed', 'redirects': [{'pageid': 11321379, 'ns': 10, 'title': 'Template:Morereferences'}, {'pageid': 11406794, 'ns': 10, 'title': 'Template:Moreref'}, {'pageid': 11826116, 'ns': 10, 'title': 'Template:Fewreferences'}, {'pageid': 12464709, 'ns': 10, 'title': 'Template:Cleanup-cite'}, {'pageid': 12464719, 'ns': 10, 'title': 'Template:Cleanup cite'}, {'pageid': 12581814, 'ns': 10, 'title': 'Template:Few references'}, {'pageid': 12581820, 'ns': 10, 'title': 'Template:More references'}, {'pageid': 12833037, 'ns': 10, 'title': 'Template:Improve-refs'}, {'pageid': 12833050, 'ns': 10, 'title': 'Template:Ref-improve'}, {'pageid': 12833056, 'ns': 10, 'title': 'Template:Ref improve'}]}, '22508869': {'pageid': 22508869, 'ns': 10, 'title': 'Template:Needs IPA'}, '49353759': {'pageid': 49353759, 'ns': 10, 'title': 'Template:Non sequitur'}}}}\n",
      "{'continue': {'rdcontinue': 'More_citations_needed|19628277', 'gcmcontinue': 'page|39432d4541474b313731434d392b3f310439433f394331011b01dc1a|48435792', 'continue': 'gcmcontinue||info|categories'}, 'query': {'pages': {'48435792': {'pageid': 48435792, 'ns': 10, 'title': 'Template:Incomprehensible inline'}, '15176846': {'pageid': 15176846, 'ns': 10, 'title': 'Template:Inconsistent'}, '38606275': {'pageid': 38606275, 'ns': 10, 'title': 'Template:Like whom?'}, '47356406': {'pageid': 47356406, 'ns': 10, 'title': 'Template:Long quote'}, '5980180': {'pageid': 5980180, 'ns': 10, 'title': 'Template:Lopsided'}, '55046082': {'pageid': 55046082, 'ns': 10, 'title': 'Template:Lopsided/sandbox'}, '19872116': {'pageid': 19872116, 'ns': 10, 'title': 'Template:MisleadingNameLink'}, '10160967': {'pageid': 10160967, 'ns': 10, 'title': 'Template:More citations needed', 'redirects': [{'pageid': 12833064, 'ns': 10, 'title': 'Template:Improve references'}, {'pageid': 12833069, 'ns': 10, 'title': 'Template:Improvereferences'}, {'pageid': 12833072, 'ns': 10, 'title': 'Template:Improverefs'}, {'pageid': 12833074, 'ns': 10, 'title': 'Template:Improve refs'}, {'pageid': 15126940, 'ns': 10, 'title': 'Template:RefImprove'}, {'pageid': 16169905, 'ns': 10, 'title': 'Template:Verification'}, {'pageid': 17597788, 'ns': 10, 'title': 'Template:Additionalcitations'}, {'pageid': 17745648, 'ns': 10, 'title': 'Template:Additional citations'}, {'pageid': 18949790, 'ns': 10, 'title': 'Template:Improveref'}, {'pageid': 19628276, 'ns': 10, 'title': 'Template:Fewrefs'}]}, '22508869': {'pageid': 22508869, 'ns': 10, 'title': 'Template:Needs IPA'}, '49353759': {'pageid': 49353759, 'ns': 10, 'title': 'Template:Non sequitur'}}}}\n",
      "{'continue': {'rdcontinue': 'More_citations_needed|33932568', 'gcmcontinue': 'page|39432d4541474b313731434d392b3f310439433f394331011b01dc1a|48435792', 'continue': 'gcmcontinue||info|categories'}, 'query': {'pages': {'48435792': {'pageid': 48435792, 'ns': 10, 'title': 'Template:Incomprehensible inline'}, '15176846': {'pageid': 15176846, 'ns': 10, 'title': 'Template:Inconsistent'}, '38606275': {'pageid': 38606275, 'ns': 10, 'title': 'Template:Like whom?'}, '47356406': {'pageid': 47356406, 'ns': 10, 'title': 'Template:Long quote'}, '5980180': {'pageid': 5980180, 'ns': 10, 'title': 'Template:Lopsided'}, '55046082': {'pageid': 55046082, 'ns': 10, 'title': 'Template:Lopsided/sandbox'}, '19872116': {'pageid': 19872116, 'ns': 10, 'title': 'Template:MisleadingNameLink'}, '10160967': {'pageid': 10160967, 'ns': 10, 'title': 'Template:More citations needed', 'redirects': [{'pageid': 19628277, 'ns': 10, 'title': 'Template:Few refs'}, {'pageid': 22587934, 'ns': 10, 'title': 'Template:More refs'}, {'pageid': 26527832, 'ns': 10, 'title': 'Template:Ref Improve'}, {'pageid': 26676311, 'ns': 10, 'title': 'Template:Reference improve'}, {'pageid': 27287919, 'ns': 10, 'title': 'Template:Refimproved'}, {'pageid': 27427706, 'ns': 10, 'title': 'Template:Needs more references'}, {'pageid': 27666061, 'ns': 10, 'title': 'Template:Citationsneeded'}, {'pageid': 31440357, 'ns': 10, 'title': 'Template:Refimporve'}, {'pageid': 32107756, 'ns': 10, 'title': 'Template:Refim'}, {'pageid': 33159458, 'ns': 10, 'title': 'Template:Badrefs'}]}, '22508869': {'pageid': 22508869, 'ns': 10, 'title': 'Template:Needs IPA'}, '49353759': {'pageid': 49353759, 'ns': 10, 'title': 'Template:Non sequitur'}}}}\n",
      "{'continue': {'rdcontinue': 'More_citations_needed|46334576', 'gcmcontinue': 'page|39432d4541474b313731434d392b3f310439433f394331011b01dc1a|48435792', 'continue': 'gcmcontinue||info|categories'}, 'query': {'pages': {'48435792': {'pageid': 48435792, 'ns': 10, 'title': 'Template:Incomprehensible inline'}, '15176846': {'pageid': 15176846, 'ns': 10, 'title': 'Template:Inconsistent'}, '38606275': {'pageid': 38606275, 'ns': 10, 'title': 'Template:Like whom?'}, '47356406': {'pageid': 47356406, 'ns': 10, 'title': 'Template:Long quote'}, '5980180': {'pageid': 5980180, 'ns': 10, 'title': 'Template:Lopsided'}, '55046082': {'pageid': 55046082, 'ns': 10, 'title': 'Template:Lopsided/sandbox'}, '19872116': {'pageid': 19872116, 'ns': 10, 'title': 'Template:MisleadingNameLink'}, '10160967': {'pageid': 10160967, 'ns': 10, 'title': 'Template:More citations needed', 'redirects': [{'pageid': 33932568, 'ns': 4, 'title': 'Wikipedia:More-sources'}, {'pageid': 34962611, 'ns': 10, 'title': 'Template:Unreliable references'}, {'pageid': 38193767, 'ns': 10, 'title': 'Template:Add references'}, {'pageid': 38965553, 'ns': 10, 'title': 'Template:Addref'}, {'pageid': 40474823, 'ns': 10, 'title': 'Template:Rip'}, {'pageid': 41136579, 'ns': 10, 'title': 'Template:Improve-references'}, {'pageid': 43120137, 'ns': 10, 'title': 'Template:Few sources'}, {'pageid': 44841390, 'ns': 10, 'title': 'Template:+r'}, {'pageid': 44841607, 'ns': 10, 'title': 'Template:Adref'}, {'pageid': 44889383, 'ns': 10, 'title': 'Template:+R'}]}, '22508869': {'pageid': 22508869, 'ns': 10, 'title': 'Template:Needs IPA'}, '49353759': {'pageid': 49353759, 'ns': 10, 'title': 'Template:Non sequitur'}}}}\n",
      "{'continue': {'rdcontinue': 'Needs_IPA|31694323', 'gcmcontinue': 'page|39432d4541474b313731434d392b3f310439433f394331011b01dc1a|48435792', 'continue': 'gcmcontinue||info|categories'}, 'query': {'pages': {'48435792': {'pageid': 48435792, 'ns': 10, 'title': 'Template:Incomprehensible inline'}, '15176846': {'pageid': 15176846, 'ns': 10, 'title': 'Template:Inconsistent'}, '38606275': {'pageid': 38606275, 'ns': 10, 'title': 'Template:Like whom?'}, '47356406': {'pageid': 47356406, 'ns': 10, 'title': 'Template:Long quote'}, '5980180': {'pageid': 5980180, 'ns': 10, 'title': 'Template:Lopsided'}, '55046082': {'pageid': 55046082, 'ns': 10, 'title': 'Template:Lopsided/sandbox'}, '19872116': {'pageid': 19872116, 'ns': 10, 'title': 'Template:MisleadingNameLink'}, '10160967': {'pageid': 10160967, 'ns': 10, 'title': 'Template:More citations needed', 'redirects': [{'pageid': 46334576, 'ns': 10, 'title': 'Template:Reimprove'}, {'pageid': 46334584, 'ns': 10, 'title': 'Template:Needs additional citations'}, {'pageid': 46555081, 'ns': 10, 'title': 'Template:More citations'}, {'pageid': 47532807, 'ns': 10, 'title': 'Template:Refimprove article'}, {'pageid': 52498235, 'ns': 10, 'title': 'Template:One reference'}, {'pageid': 54208873, 'ns': 10, 'title': 'Template:Improve sources'}, {'pageid': 56233158, 'ns': 10, 'title': 'Template:Refimprove'}, {'pageid': 56690880, 'ns': 10, 'title': 'Template:Needs more citations'}]}, '22508869': {'pageid': 22508869, 'ns': 10, 'title': 'Template:Needs IPA', 'redirects': [{'pageid': 23545209, 'ns': 10, 'title': 'Template:Need IPA'}, {'pageid': 31694315, 'ns': 10, 'title': 'Template:Needs-IPA'}]}, '49353759': {'pageid': 49353759, 'ns': 10, 'title': 'Template:Non sequitur'}}}}\n",
      "{'batchcomplete': '', 'continue': {'gcmcontinue': 'page|43454f043143353f394d370439433f394331011601dcc3dc11|24559352', 'continue': 'gcmcontinue||'}, 'query': {'pages': {'48435792': {'pageid': 48435792, 'ns': 10, 'title': 'Template:Incomprehensible inline'}, '15176846': {'pageid': 15176846, 'ns': 10, 'title': 'Template:Inconsistent'}, '38606275': {'pageid': 38606275, 'ns': 10, 'title': 'Template:Like whom?'}, '47356406': {'pageid': 47356406, 'ns': 10, 'title': 'Template:Long quote'}, '5980180': {'pageid': 5980180, 'ns': 10, 'title': 'Template:Lopsided'}, '55046082': {'pageid': 55046082, 'ns': 10, 'title': 'Template:Lopsided/sandbox'}, '19872116': {'pageid': 19872116, 'ns': 10, 'title': 'Template:MisleadingNameLink'}, '10160967': {'pageid': 10160967, 'ns': 10, 'title': 'Template:More citations needed'}, '22508869': {'pageid': 22508869, 'ns': 10, 'title': 'Template:Needs IPA', 'redirects': [{'pageid': 31694323, 'ns': 10, 'title': 'Template:IPA needed'}, {'pageid': 38529657, 'ns': 10, 'title': 'Template:Needs-ipa'}, {'pageid': 39580572, 'ns': 10, 'title': 'Template:Needs ipa'}, {'pageid': 49356960, 'ns': 10, 'title': 'Template:Need-IPA'}]}, '49353759': {'pageid': 49353759, 'ns': 10, 'title': 'Template:Non sequitur', 'redirects': [{'pageid': 49354066, 'ns': 10, 'title': 'Template:Nonsequitur'}, {'pageid': 49354068, 'ns': 10, 'title': 'Template:Non-sequitur'}, {'pageid': 49354070, 'ns': 10, 'title': 'Template:Namedropping'}, {'pageid': 49354071, 'ns': 10, 'title': 'Template:Name dropping'}, {'pageid': 49354073, 'ns': 10, 'title': 'Template:Name-dropping'}]}}}}\n",
      "{'continue': {'rdcontinue': 'Not_English_inline|55358815', 'gcmcontinue': 'page|43454f043143353f394d370439433f394331011601dcc3dc11|24559352', 'continue': 'gcmcontinue||info|categories'}, 'query': {'pages': {'24559352': {'pageid': 24559352, 'ns': 10, 'title': 'Template:Not English inline', 'contentmodel': 'wikitext', 'pagelanguage': 'en', 'pagelanguagehtmlcode': 'en', 'pagelanguagedir': 'ltr', 'touched': '2018-09-19T02:51:12Z', 'lastrevid': 802578178, 'length': 253, 'redirects': [{'pageid': 32148240, 'ns': 10, 'title': 'Template:Inline need translation'}, {'pageid': 32148295, 'ns': 10, 'title': 'Template:Translate-inline'}, {'pageid': 32148297, 'ns': 10, 'title': 'Template:Nonenglish-inline'}, {'pageid': 32148306, 'ns': 10, 'title': 'Template:Non-english-inline'}, {'pageid': 32148317, 'ns': 10, 'title': 'Template:Notenglish-inline'}, {'pageid': 32148322, 'ns': 10, 'title': 'Template:Not-english-inline'}, {'pageid': 55358747, 'ns': 10, 'title': 'Template:Not English-inline'}, {'pageid': 55358785, 'ns': 10, 'title': 'Template:Translate inline'}, {'pageid': 55358798, 'ns': 10, 'title': 'Template:Translation needed inline'}, {'pageid': 55358813, 'ns': 10, 'title': 'Template:In English'}]}, '31593127': {'pageid': 31593127, 'ns': 10, 'title': 'Template:Off topic paragraph', 'contentmodel': 'wikitext', 'pagelanguage': 'en', 'pagelanguagehtmlcode': 'en', 'pagelanguagedir': 'ltr', 'touched': '2018-01-11T22:11:37Z', 'lastrevid': 596650940, 'length': 681}, '31593119': {'pageid': 31593119, 'ns': 10, 'title': 'Template:Off topic sentence', 'contentmodel': 'wikitext', 'pagelanguage': 'en', 'pagelanguagehtmlcode': 'en', 'pagelanguagedir': 'ltr', 'touched': '2018-01-11T22:11:37Z', 'lastrevid': 471584208, 'length': 682}, '22827969': {'pageid': 22827969, 'ns': 10, 'title': 'Template:Oldfact', 'contentmodel': 'wikitext', 'pagelanguage': 'en', 'pagelanguagehtmlcode': 'en', 'pagelanguagedir': 'ltr', 'touched': '2018-04-10T14:07:39Z', 'lastrevid': 784067906, 'length': 613}, '24186536': {'pageid': 24186536, 'ns': 10, 'title': 'Template:Opinion', 'contentmodel': 'wikitext', 'pagelanguage': 'en', 'pagelanguagehtmlcode': 'en', 'pagelanguagedir': 'ltr', 'touched': '2018-08-04T01:52:25Z', 'lastrevid': 821950406, 'length': 1825}, '55152544': {'pageid': 55152544, 'ns': 10, 'title': 'Template:Opinion/sandbox', 'contentmodel': 'wikitext', 'pagelanguage': 'en', 'pagelanguagehtmlcode': 'en', 'pagelanguagedir': 'ltr', 'touched': '2018-09-25T03:07:46Z', 'lastrevid': 799146460, 'length': 675, 'new': ''}, '26804020': {'pageid': 26804020, 'ns': 10, 'title': 'Template:Over-explained', 'contentmodel': 'wikitext', 'pagelanguage': 'en', 'pagelanguagehtmlcode': 'en', 'pagelanguagedir': 'ltr', 'touched': '2018-07-09T09:01:54Z', 'lastrevid': 784068189, 'length': 482}, '34217671': {'pageid': 34217671, 'ns': 10, 'title': 'Template:Overly detailed inline', 'contentmodel': 'wikitext', 'pagelanguage': 'en', 'pagelanguagehtmlcode': 'en', 'pagelanguagedir': 'ltr', 'touched': '2018-09-11T21:09:45Z', 'lastrevid': 859072664, 'length': 501}, '19874610': {'pageid': 19874610, 'ns': 10, 'title': 'Template:Peacock term', 'contentmodel': 'wikitext', 'pagelanguage': 'en', 'pagelanguagehtmlcode': 'en', 'pagelanguagedir': 'ltr', 'touched': '2018-09-21T14:36:27Z', 'lastrevid': 784068543, 'length': 580}, '22418993': {'pageid': 22418993, 'ns': 10, 'title': 'Template:POV check inline', 'contentmodel': 'wikitext', 'pagelanguage': 'en', 'pagelanguagehtmlcode': 'en', 'pagelanguagedir': 'ltr', 'touched': '2018-09-25T06:27:45Z', 'lastrevid': 703836446, 'length': 457}}}}\n",
      "{'continue': {'rdcontinue': 'Overly_detailed_inline|41962839', 'gcmcontinue': 'page|43454f043143353f394d370439433f394331011601dcc3dc11|24559352', 'continue': 'gcmcontinue||info|categories'}, 'query': {'pages': {'24559352': {'pageid': 24559352, 'ns': 10, 'title': 'Template:Not English inline', 'redirects': [{'pageid': 55358815, 'ns': 10, 'title': 'Template:In English?'}]}, '31593127': {'pageid': 31593127, 'ns': 10, 'title': 'Template:Off topic paragraph'}, '31593119': {'pageid': 31593119, 'ns': 10, 'title': 'Template:Off topic sentence'}, '22827969': {'pageid': 22827969, 'ns': 10, 'title': 'Template:Oldfact'}, '24186536': {'pageid': 24186536, 'ns': 10, 'title': 'Template:Opinion', 'redirects': [{'pageid': 53670207, 'ns': 10, 'title': 'Template:Opinion?'}]}, '55152544': {'pageid': 55152544, 'ns': 10, 'title': 'Template:Opinion/sandbox'}, '26804020': {'pageid': 26804020, 'ns': 10, 'title': 'Template:Over-explained', 'redirects': [{'pageid': 26803756, 'ns': 10, 'title': 'Template:Oe'}, {'pageid': 26803758, 'ns': 10, 'title': 'Template:Over explanation'}, {'pageid': 26804349, 'ns': 4, 'title': 'Wikipedia:Over-explained'}, {'pageid': 26804695, 'ns': 10, 'title': 'Template:Overexplained'}, {'pageid': 34187300, 'ns': 10, 'title': 'Template:Over explained'}, {'pageid': 34187310, 'ns': 4, 'title': 'Wikipedia:Over explained'}, {'pageid': 34187356, 'ns': 10, 'title': 'Template:Over-explanation'}]}, '34217671': {'pageid': 34217671, 'ns': 10, 'title': 'Template:Overly detailed inline', 'redirects': [{'pageid': 41962678, 'ns': 10, 'title': 'Template:Excessive detail-inline'}]}, '19874610': {'pageid': 19874610, 'ns': 10, 'title': 'Template:Peacock term'}, '22418993': {'pageid': 22418993, 'ns': 10, 'title': 'Template:POV check inline'}}}}\n",
      "{'continue': {'rdcontinue': 'Peacock_term|26412043', 'gcmcontinue': 'page|43454f043143353f394d370439433f394331011601dcc3dc11|24559352', 'continue': 'gcmcontinue||info|categories'}, 'query': {'pages': {'24559352': {'pageid': 24559352, 'ns': 10, 'title': 'Template:Not English inline'}, '31593127': {'pageid': 31593127, 'ns': 10, 'title': 'Template:Off topic paragraph'}, '31593119': {'pageid': 31593119, 'ns': 10, 'title': 'Template:Off topic sentence'}, '22827969': {'pageid': 22827969, 'ns': 10, 'title': 'Template:Oldfact'}, '24186536': {'pageid': 24186536, 'ns': 10, 'title': 'Template:Opinion'}, '55152544': {'pageid': 55152544, 'ns': 10, 'title': 'Template:Opinion/sandbox'}, '26804020': {'pageid': 26804020, 'ns': 10, 'title': 'Template:Over-explained'}, '34217671': {'pageid': 34217671, 'ns': 10, 'title': 'Template:Overly detailed inline', 'redirects': [{'pageid': 41962839, 'ns': 10, 'title': 'Template:Necessary?'}, {'pageid': 49764500, 'ns': 10, 'title': 'Template:Overly detailed-inline'}]}, '19874610': {'pageid': 19874610, 'ns': 10, 'title': 'Template:Peacock term', 'redirects': [{'pageid': 19874715, 'ns': 10, 'title': 'Template:Peacock inline'}, {'pageid': 19874718, 'ns': 10, 'title': 'Template:Peacock-term'}, {'pageid': 19874722, 'ns': 10, 'title': 'Template:Peacock-inline'}]}, '22418993': {'pageid': 22418993, 'ns': 10, 'title': 'Template:POV check inline', 'redirects': [{'pageid': 24979235, 'ns': 10, 'title': 'Template:Editorializing?'}, {'pageid': 32114926, 'ns': 10, 'title': 'Template:Editorialising?'}, {'pageid': 42174591, 'ns': 10, 'title': 'Template:POV tag'}, {'pageid': 49356610, 'ns': 10, 'title': 'Template:POV-check inline'}, {'pageid': 58562429, 'ns': 10, 'title': 'Template:Pov-check inline'}]}}}}\n",
      "{'batchcomplete': '', 'continue': {'gcmcontinue': 'page|474b454351432d39294f394543044331312f312f011801dc17|11196452', 'continue': 'gcmcontinue||'}, 'query': {'pages': {'24559352': {'pageid': 24559352, 'ns': 10, 'title': 'Template:Not English inline'}, '31593127': {'pageid': 31593127, 'ns': 10, 'title': 'Template:Off topic paragraph'}, '31593119': {'pageid': 31593119, 'ns': 10, 'title': 'Template:Off topic sentence'}, '22827969': {'pageid': 22827969, 'ns': 10, 'title': 'Template:Oldfact'}, '24186536': {'pageid': 24186536, 'ns': 10, 'title': 'Template:Opinion'}, '55152544': {'pageid': 55152544, 'ns': 10, 'title': 'Template:Opinion/sandbox'}, '26804020': {'pageid': 26804020, 'ns': 10, 'title': 'Template:Over-explained'}, '34217671': {'pageid': 34217671, 'ns': 10, 'title': 'Template:Overly detailed inline'}, '19874610': {'pageid': 19874610, 'ns': 10, 'title': 'Template:Peacock term', 'redirects': [{'pageid': 26412043, 'ns': 10, 'title': 'Template:Hyperbole'}, {'pageid': 39408309, 'ns': 10, 'title': 'Template:Peacock terms'}, {'pageid': 49762972, 'ns': 10, 'title': 'Template:Peacock-statement'}, {'pageid': 49762975, 'ns': 10, 'title': 'Template:Peacock statement'}, {'pageid': 49763046, 'ns': 10, 'title': 'Template:Peacock-terms'}, {'pageid': 53626523, 'ns': 10, 'title': 'Template:Peacock term?'}]}, '22418993': {'pageid': 22418993, 'ns': 10, 'title': 'Template:POV check inline'}}}}\n",
      "{'continue': {'rdcontinue': 'Refexample|50910064', 'gcmcontinue': 'page|474b454351432d39294f394543044331312f312f011801dc17|11196452', 'continue': 'gcmcontinue||info|categories'}, 'query': {'pages': {'11196452': {'pageid': 11196452, 'ns': 10, 'title': 'Template:Pronunciation needed', 'contentmodel': 'wikitext', 'pagelanguage': 'en', 'pagelanguagehtmlcode': 'en', 'pagelanguagedir': 'ltr', 'touched': '2018-09-21T14:36:27Z', 'lastrevid': 804536762, 'length': 412, 'redirects': [{'pageid': 14885212, 'ns': 10, 'title': 'Template:Pronunciation-needed'}, {'pageid': 26328159, 'ns': 10, 'title': 'Template:Pronounce'}, {'pageid': 42133532, 'ns': 10, 'title': 'Template:Pronunciation?'}, {'pageid': 52915698, 'ns': 10, 'title': 'Template:Requested pronunciation'}, {'pageid': 52915710, 'ns': 10, 'title': 'Template:Reqpron'}, {'pageid': 52915717, 'ns': 10, 'title': 'Template:Rpron'}]}, '12385017': {'pageid': 12385017, 'ns': 10, 'title': 'Template:Quantify', 'contentmodel': 'wikitext', 'pagelanguage': 'en', 'pagelanguagehtmlcode': 'en', 'pagelanguagedir': 'ltr', 'touched': '2018-09-21T14:36:27Z', 'lastrevid': 819682706, 'length': 553, 'redirects': [{'pageid': 17547848, 'ns': 10, 'title': 'Template:How many'}, {'pageid': 26634232, 'ns': 10, 'title': 'Template:How many?'}, {'pageid': 32485810, 'ns': 10, 'title': 'Template:Howmany'}, {'pageid': 44373257, 'ns': 10, 'title': 'Template:How much'}]}, '50909293': {'pageid': 50909293, 'ns': 10, 'title': 'Template:Refexample', 'contentmodel': 'wikitext', 'pagelanguage': 'en', 'pagelanguagehtmlcode': 'en', 'pagelanguagedir': 'ltr', 'touched': '2018-09-25T06:27:45Z', 'lastrevid': 784069253, 'length': 1218}, '50909684': {'pageid': 50909684, 'ns': 10, 'title': 'Template:Refexample section', 'contentmodel': 'wikitext', 'pagelanguage': 'en', 'pagelanguagehtmlcode': 'en', 'pagelanguagedir': 'ltr', 'touched': '2018-09-25T06:27:45Z', 'lastrevid': 784069285, 'length': 305}, '55635117': {'pageid': 55635117, 'ns': 10, 'title': 'Template:Refexample/sandbox', 'contentmodel': 'wikitext', 'pagelanguage': 'en', 'pagelanguagehtmlcode': 'en', 'pagelanguagedir': 'ltr', 'touched': '2018-09-25T06:27:45Z', 'lastrevid': 807253315, 'length': 1218, 'new': ''}, '16547656': {'pageid': 16547656, 'ns': 10, 'title': 'Template:Relevance inline', 'contentmodel': 'wikitext', 'pagelanguage': 'en', 'pagelanguagehtmlcode': 'en', 'pagelanguagedir': 'ltr', 'touched': '2018-09-21T14:36:27Z', 'lastrevid': 819688030, 'length': 697}, '22581197': {'pageid': 22581197, 'ns': 10, 'title': 'Template:Romanization needed', 'contentmodel': 'wikitext', 'pagelanguage': 'en', 'pagelanguagehtmlcode': 'en', 'pagelanguagedir': 'ltr', 'touched': '2018-04-10T14:07:10Z', 'lastrevid': 495929581, 'length': 424}, '27998597': {'pageid': 27998597, 'ns': 10, 'title': 'Template:Sarcasm', 'contentmodel': 'wikitext', 'pagelanguage': 'en', 'pagelanguagehtmlcode': 'en', 'pagelanguagedir': 'ltr', 'touched': '2018-08-28T05:06:44Z', 'lastrevid': 856885898, 'length': 294}, '43072736': {'pageid': 43072736, 'ns': 10, 'title': 'Template:Sarcasm/doc', 'contentmodel': 'wikitext', 'pagelanguage': 'en', 'pagelanguagehtmlcode': 'en', 'pagelanguagedir': 'ltr', 'touched': '2014-07-29T04:10:46Z', 'lastrevid': 618917350, 'length': 300}, '29414831': {'pageid': 29414831, 'ns': 10, 'title': 'Template:Scientific citation needed', 'contentmodel': 'wikitext', 'pagelanguage': 'en', 'pagelanguagehtmlcode': 'en', 'pagelanguagedir': 'ltr', 'touched': '2018-09-25T03:07:46Z', 'lastrevid': 815921901, 'length': 676}}}}\n",
      "{'continue': {'rdcontinue': 'Relevance_inline|21329572', 'gcmcontinue': 'page|474b454351432d39294f394543044331312f312f011801dc17|11196452', 'continue': 'gcmcontinue||info|categories'}, 'query': {'pages': {'11196452': {'pageid': 11196452, 'ns': 10, 'title': 'Template:Pronunciation needed'}, '12385017': {'pageid': 12385017, 'ns': 10, 'title': 'Template:Quantify'}, '50909293': {'pageid': 50909293, 'ns': 10, 'title': 'Template:Refexample', 'redirects': [{'pageid': 50910064, 'ns': 10, 'title': 'Template:Refex'}, {'pageid': 50910926, 'ns': 10, 'title': 'Template:Refimprove example'}, {'pageid': 51996550, 'ns': 4, 'title': 'Wikipedia:Self-sourcing examples'}, {'pageid': 55635109, 'ns': 10, 'title': 'Template:Self-sourcing examples'}]}, '50909684': {'pageid': 50909684, 'ns': 10, 'title': 'Template:Refexample section'}, '55635117': {'pageid': 55635117, 'ns': 10, 'title': 'Template:Refexample/sandbox'}, '16547656': {'pageid': 16547656, 'ns': 10, 'title': 'Template:Relevance inline', 'redirects': [{'pageid': 7509635, 'ns': 10, 'title': 'Template:Ot'}, {'pageid': 9415946, 'ns': 10, 'title': 'Template:Off-topic-inline'}, {'pageid': 16547688, 'ns': 10, 'title': 'Template:Relevence'}, {'pageid': 19036331, 'ns': 10, 'title': 'Template:Relevance note'}, {'pageid': 19957862, 'ns': 10, 'title': 'Template:Irrel'}, {'pageid': 19957965, 'ns': 10, 'title': 'Template:Irrelevant (inline)'}]}, '22581197': {'pageid': 22581197, 'ns': 10, 'title': 'Template:Romanization needed'}, '27998597': {'pageid': 27998597, 'ns': 10, 'title': 'Template:Sarcasm'}, '43072736': {'pageid': 43072736, 'ns': 10, 'title': 'Template:Sarcasm/doc'}, '29414831': {'pageid': 29414831, 'ns': 10, 'title': 'Template:Scientific citation needed'}}}}\n",
      "{'continue': {'rdcontinue': 'Relevance_inline|58011980', 'gcmcontinue': 'page|474b454351432d39294f394543044331312f312f011801dc17|11196452', 'continue': 'gcmcontinue||info|categories'}, 'query': {'pages': {'11196452': {'pageid': 11196452, 'ns': 10, 'title': 'Template:Pronunciation needed'}, '12385017': {'pageid': 12385017, 'ns': 10, 'title': 'Template:Quantify'}, '50909293': {'pageid': 50909293, 'ns': 10, 'title': 'Template:Refexample'}, '50909684': {'pageid': 50909684, 'ns': 10, 'title': 'Template:Refexample section'}, '55635117': {'pageid': 55635117, 'ns': 10, 'title': 'Template:Refexample/sandbox'}, '16547656': {'pageid': 16547656, 'ns': 10, 'title': 'Template:Relevance inline', 'redirects': [{'pageid': 21329572, 'ns': 10, 'title': 'Template:OT'}, {'pageid': 21330879, 'ns': 10, 'title': 'Template:So?'}, {'pageid': 28292595, 'ns': 10, 'title': 'Template:Off-topic?'}, {'pageid': 28933778, 'ns': 10, 'title': 'Template:Inlinerelevance'}, {'pageid': 32148091, 'ns': 10, 'title': 'Template:Offtopic-inline'}, {'pageid': 34282427, 'ns': 10, 'title': 'Template:Inline relevance'}, {'pageid': 39155703, 'ns': 10, 'title': 'Template:Not relevant'}, {'pageid': 41994953, 'ns': 10, 'title': 'Template:Relevant-inline'}, {'pageid': 49354182, 'ns': 10, 'title': 'Template:Relevance-inline'}, {'pageid': 49357185, 'ns': 10, 'title': 'Template:Off-topic inline'}]}, '22581197': {'pageid': 22581197, 'ns': 10, 'title': 'Template:Romanization needed'}, '27998597': {'pageid': 27998597, 'ns': 10, 'title': 'Template:Sarcasm'}, '43072736': {'pageid': 43072736, 'ns': 10, 'title': 'Template:Sarcasm/doc'}, '29414831': {'pageid': 29414831, 'ns': 10, 'title': 'Template:Scientific citation needed'}}}}\n",
      "{'batchcomplete': '', 'continue': {'gcmcontinue': 'page|4d39292f43010901dc08|47604537', 'continue': 'gcmcontinue||'}, 'query': {'pages': {'11196452': {'pageid': 11196452, 'ns': 10, 'title': 'Template:Pronunciation needed'}, '12385017': {'pageid': 12385017, 'ns': 10, 'title': 'Template:Quantify'}, '50909293': {'pageid': 50909293, 'ns': 10, 'title': 'Template:Refexample'}, '50909684': {'pageid': 50909684, 'ns': 10, 'title': 'Template:Refexample section'}, '55635117': {'pageid': 55635117, 'ns': 10, 'title': 'Template:Refexample/sandbox'}, '16547656': {'pageid': 16547656, 'ns': 10, 'title': 'Template:Relevance inline', 'redirects': [{'pageid': 58011980, 'ns': 10, 'title': 'Template:Relevant inline'}]}, '22581197': {'pageid': 22581197, 'ns': 10, 'title': 'Template:Romanization needed', 'redirects': [{'pageid': 22581263, 'ns': 10, 'title': 'Template:Transliteration needed'}]}, '27998597': {'pageid': 27998597, 'ns': 10, 'title': 'Template:Sarcasm'}, '43072736': {'pageid': 43072736, 'ns': 10, 'title': 'Template:Sarcasm/doc'}, '29414831': {'pageid': 29414831, 'ns': 10, 'title': 'Template:Scientific citation needed', 'redirects': [{'pageid': 41995827, 'ns': 10, 'title': 'Template:Scicn'}, {'pageid': 55901609, 'ns': 10, 'title': 'Template:SCICN'}]}}}}\n",
      "{'continue': {'rdcontinue': 'Synthesis_inline|49959345', 'gcmcontinue': 'page|4d39292f43010901dc08|47604537', 'continue': 'gcmcontinue||info|categories'}, 'query': {'pages': {'47604537': {'pageid': 47604537, 'ns': 10, 'title': 'Template:Siadn', 'contentmodel': 'wikitext', 'pagelanguage': 'en', 'pagelanguagehtmlcode': 'en', 'pagelanguagedir': 'ltr', 'touched': '2018-09-21T14:36:27Z', 'lastrevid': 803292289, 'length': 769, 'redirects': [{'pageid': 47604792, 'ns': 10, 'title': 'Template:SIA disambiguation needed'}, {'pageid': 52945980, 'ns': 10, 'title': 'Template:SIA dab needed'}]}, '10210379': {'pageid': 10210379, 'ns': 10, 'title': 'Template:Synthesis inline', 'contentmodel': 'wikitext', 'pagelanguage': 'en', 'pagelanguagehtmlcode': 'en', 'pagelanguagedir': 'ltr', 'touched': '2018-09-21T14:36:27Z', 'lastrevid': 821204393, 'length': 594, 'redirects': [{'pageid': 10515133, 'ns': 10, 'title': 'Template:SYN'}, {'pageid': 20376122, 'ns': 10, 'title': 'Template:Synth'}, {'pageid': 34427022, 'ns': 10, 'title': 'Template:Syn'}, {'pageid': 40130170, 'ns': 10, 'title': 'Template:Syn?'}, {'pageid': 41178390, 'ns': 10, 'title': 'Template:Improper synthesis'}, {'pageid': 41769859, 'ns': 10, 'title': 'Template:Unpublished synthesis?'}, {'pageid': 41769862, 'ns': 10, 'title': 'Template:Improper synthesis?'}, {'pageid': 49356950, 'ns': 10, 'title': 'Template:Synthesis-inline'}]}, '55961853': {'pageid': 55961853, 'ns': 10, 'title': 'Template:Synthesis inline span', 'contentmodel': 'wikitext', 'pagelanguage': 'en', 'pagelanguagehtmlcode': 'en', 'pagelanguagedir': 'ltr', 'touched': '2018-09-21T14:36:27Z', 'lastrevid': 826730121, 'length': 1142}, '55961866': {'pageid': 55961866, 'ns': 10, 'title': 'Template:Synthesis inline span/doc', 'contentmodel': 'wikitext', 'pagelanguage': 'en', 'pagelanguagehtmlcode': 'en', 'pagelanguagedir': 'ltr', 'touched': '2018-09-21T14:36:27Z', 'lastrevid': 827974289, 'length': 2028}, '6617772': {'pageid': 6617772, 'ns': 10, 'title': 'Template:TBD', 'contentmodel': 'wikitext', 'pagelanguage': 'en', 'pagelanguagehtmlcode': 'en', 'pagelanguagedir': 'ltr', 'touched': '2018-09-18T06:54:37Z', 'lastrevid': 568563466, 'length': 689}, '20638588': {'pageid': 20638588, 'ns': 10, 'title': 'Template:Technical statement', 'contentmodel': 'wikitext', 'pagelanguage': 'en', 'pagelanguagehtmlcode': 'en', 'pagelanguagedir': 'ltr', 'touched': '2018-09-21T14:36:27Z', 'lastrevid': 830224541, 'length': 789}, '4078739': {'pageid': 4078739, 'ns': 10, 'title': 'Template:Unreliable source?', 'contentmodel': 'wikitext', 'pagelanguage': 'en', 'pagelanguagehtmlcode': 'en', 'pagelanguagedir': 'ltr', 'touched': '2018-09-21T14:36:27Z', 'lastrevid': 799581734, 'length': 685}, '54061770': {'pageid': 54061770, 'ns': 10, 'title': 'Template:Until when', 'contentmodel': 'wikitext', 'pagelanguage': 'en', 'pagelanguagehtmlcode': 'en', 'pagelanguagedir': 'ltr', 'touched': '2018-09-21T14:36:27Z', 'lastrevid': 780702300, 'length': 469, 'new': ''}, '6179914': {'pageid': 6179914, 'ns': 10, 'title': 'Template:Update after', 'contentmodel': 'wikitext', 'pagelanguage': 'en', 'pagelanguagehtmlcode': 'en', 'pagelanguagedir': 'ltr', 'touched': '2018-09-21T14:36:27Z', 'lastrevid': 841218116, 'length': 864}, '35595572': {'pageid': 35595572, 'ns': 10, 'title': 'Template:Update inline', 'contentmodel': 'wikitext', 'pagelanguage': 'en', 'pagelanguagehtmlcode': 'en', 'pagelanguagedir': 'ltr', 'touched': '2018-09-21T14:36:27Z', 'lastrevid': 784071023, 'length': 601}}}}\n",
      "{'continue': {'rdcontinue': 'Technical_statement|49763006', 'gcmcontinue': 'page|4d39292f43010901dc08|47604537', 'continue': 'gcmcontinue||info|categories'}, 'query': {'pages': {'47604537': {'pageid': 47604537, 'ns': 10, 'title': 'Template:Siadn'}, '10210379': {'pageid': 10210379, 'ns': 10, 'title': 'Template:Synthesis inline', 'redirects': [{'pageid': 49959345, 'ns': 10, 'title': 'Template:Original synthesis inline'}]}, '55961853': {'pageid': 55961853, 'ns': 10, 'title': 'Template:Synthesis inline span'}, '55961866': {'pageid': 55961866, 'ns': 10, 'title': 'Template:Synthesis inline span/doc'}, '6617772': {'pageid': 6617772, 'ns': 10, 'title': 'Template:TBD'}, '20638588': {'pageid': 20638588, 'ns': 10, 'title': 'Template:Technical statement', 'redirects': [{'pageid': 32040791, 'ns': 10, 'title': 'Template:Jargon-statement'}, {'pageid': 33392282, 'ns': 10, 'title': 'Template:Jargon-inline'}, {'pageid': 34187385, 'ns': 10, 'title': 'Template:Technical inline'}, {'pageid': 42169850, 'ns': 10, 'title': 'Template:Technical-inline'}, {'pageid': 47485114, 'ns': 10, 'title': 'Template:Jargon inline'}, {'pageid': 48291672, 'ns': 10, 'title': 'Template:Technical-statement'}, {'pageid': 49762963, 'ns': 10, 'title': 'Template:Jargon statement'}, {'pageid': 49762997, 'ns': 10, 'title': 'Template:Technical term'}, {'pageid': 49763001, 'ns': 10, 'title': 'Template:Technical-term'}]}, '4078739': {'pageid': 4078739, 'ns': 10, 'title': 'Template:Unreliable source?'}, '54061770': {'pageid': 54061770, 'ns': 10, 'title': 'Template:Until when'}, '6179914': {'pageid': 6179914, 'ns': 10, 'title': 'Template:Update after'}, '35595572': {'pageid': 35595572, 'ns': 10, 'title': 'Template:Update inline'}}}}\n",
      "{'continue': {'rdcontinue': 'Unreliable_source?|27825691', 'gcmcontinue': 'page|4d39292f43010901dc08|47604537', 'continue': 'gcmcontinue||info|categories'}, 'query': {'pages': {'47604537': {'pageid': 47604537, 'ns': 10, 'title': 'Template:Siadn'}, '10210379': {'pageid': 10210379, 'ns': 10, 'title': 'Template:Synthesis inline'}, '55961853': {'pageid': 55961853, 'ns': 10, 'title': 'Template:Synthesis inline span'}, '55961866': {'pageid': 55961866, 'ns': 10, 'title': 'Template:Synthesis inline span/doc'}, '6617772': {'pageid': 6617772, 'ns': 10, 'title': 'Template:TBD'}, '20638588': {'pageid': 20638588, 'ns': 10, 'title': 'Template:Technical statement', 'redirects': [{'pageid': 49763006, 'ns': 10, 'title': 'Template:Jargon-term'}, {'pageid': 49763009, 'ns': 10, 'title': 'Template:Jargon term'}]}, '4078739': {'pageid': 4078739, 'ns': 10, 'title': 'Template:Unreliable source?', 'redirects': [{'pageid': 8227874, 'ns': 10, 'title': 'Template:Vc'}, {'pageid': 11187864, 'ns': 10, 'title': 'Template:Rs'}, {'pageid': 16247749, 'ns': 10, 'title': 'Template:VC'}, {'pageid': 17887959, 'ns': 10, 'title': 'Template:Unreliable source'}, {'pageid': 19911403, 'ns': 10, 'title': 'Template:RS'}, {'pageid': 22148117, 'ns': 10, 'title': 'Template:Rs?'}, {'pageid': 25756845, 'ns': 10, 'title': 'Template:Unreliable source inline'}, {'pageid': 26216803, 'ns': 10, 'title': 'Template:Verifycred'}]}, '54061770': {'pageid': 54061770, 'ns': 10, 'title': 'Template:Until when'}, '6179914': {'pageid': 6179914, 'ns': 10, 'title': 'Template:Update after'}, '35595572': {'pageid': 35595572, 'ns': 10, 'title': 'Template:Update inline'}}}}\n",
      "{'continue': {'rdcontinue': 'Unreliable_source?|41305896', 'gcmcontinue': 'page|4d39292f43010901dc08|47604537', 'continue': 'gcmcontinue||info|categories'}, 'query': {'pages': {'47604537': {'pageid': 47604537, 'ns': 10, 'title': 'Template:Siadn'}, '10210379': {'pageid': 10210379, 'ns': 10, 'title': 'Template:Synthesis inline'}, '55961853': {'pageid': 55961853, 'ns': 10, 'title': 'Template:Synthesis inline span'}, '55961866': {'pageid': 55961866, 'ns': 10, 'title': 'Template:Synthesis inline span/doc'}, '6617772': {'pageid': 6617772, 'ns': 10, 'title': 'Template:TBD'}, '20638588': {'pageid': 20638588, 'ns': 10, 'title': 'Template:Technical statement'}, '4078739': {'pageid': 4078739, 'ns': 10, 'title': 'Template:Unreliable source?', 'redirects': [{'pageid': 27825691, 'ns': 10, 'title': 'Template:Unreliable-inline'}, {'pageid': 31778153, 'ns': 10, 'title': 'Template:Reliable source?'}, {'pageid': 33179198, 'ns': 10, 'title': 'Template:Verify credibility?'}, {'pageid': 33210437, 'ns': 10, 'title': 'Template:Verify-credibility'}, {'pageid': 34708454, 'ns': 10, 'title': 'Template:Unreliablesource'}, {'pageid': 36912983, 'ns': 10, 'title': 'Template:Reliable source'}, {'pageid': 37357997, 'ns': 10, 'title': 'Template:Unreliablesource-inline'}, {'pageid': 37357998, 'ns': 10, 'title': 'Template:Unreliable-source-inline'}, {'pageid': 37358001, 'ns': 10, 'title': 'Template:Unreliablesourceinline'}, {'pageid': 40274211, 'ns': 10, 'title': 'Template:Reliable'}]}, '54061770': {'pageid': 54061770, 'ns': 10, 'title': 'Template:Until when'}, '6179914': {'pageid': 6179914, 'ns': 10, 'title': 'Template:Update after'}, '35595572': {'pageid': 35595572, 'ns': 10, 'title': 'Template:Update inline'}}}}\n",
      "{'continue': {'rdcontinue': 'Update_after|22936734', 'gcmcontinue': 'page|4d39292f43010901dc08|47604537', 'continue': 'gcmcontinue||info|categories'}, 'query': {'pages': {'47604537': {'pageid': 47604537, 'ns': 10, 'title': 'Template:Siadn'}, '10210379': {'pageid': 10210379, 'ns': 10, 'title': 'Template:Synthesis inline'}, '55961853': {'pageid': 55961853, 'ns': 10, 'title': 'Template:Synthesis inline span'}, '55961866': {'pageid': 55961866, 'ns': 10, 'title': 'Template:Synthesis inline span/doc'}, '6617772': {'pageid': 6617772, 'ns': 10, 'title': 'Template:TBD'}, '20638588': {'pageid': 20638588, 'ns': 10, 'title': 'Template:Technical statement'}, '4078739': {'pageid': 4078739, 'ns': 10, 'title': 'Template:Unreliable source?', 'redirects': [{'pageid': 41305896, 'ns': 10, 'title': 'Template:Unreliable source-inline'}, {'pageid': 45197091, 'ns': 10, 'title': 'Template:Verify credibility'}, {'pageid': 47531642, 'ns': 10, 'title': 'Template:Rs inline'}, {'pageid': 47531643, 'ns': 10, 'title': 'Template:RS inline'}, {'pageid': 47900914, 'ns': 10, 'title': 'Template:Unreliable?'}, {'pageid': 51465541, 'ns': 10, 'title': 'Template:Us?'}]}, '54061770': {'pageid': 54061770, 'ns': 10, 'title': 'Template:Until when'}, '6179914': {'pageid': 6179914, 'ns': 10, 'title': 'Template:Update after', 'redirects': [{'pageid': 12082760, 'ns': 10, 'title': 'Template:Old fact'}, {'pageid': 18573456, 'ns': 10, 'title': 'Template:Old'}, {'pageid': 21426229, 'ns': 10, 'title': 'Template:Updateafter'}, {'pageid': 21866597, 'ns': 10, 'title': 'Template:Update-after'}]}, '35595572': {'pageid': 35595572, 'ns': 10, 'title': 'Template:Update inline'}}}}\n",
      "{'continue': {'rdcontinue': 'Update_inline|33224418', 'gcmcontinue': 'page|4d39292f43010901dc08|47604537', 'continue': 'gcmcontinue||info|categories'}, 'query': {'pages': {'47604537': {'pageid': 47604537, 'ns': 10, 'title': 'Template:Siadn'}, '10210379': {'pageid': 10210379, 'ns': 10, 'title': 'Template:Synthesis inline'}, '55961853': {'pageid': 55961853, 'ns': 10, 'title': 'Template:Synthesis inline span'}, '55961866': {'pageid': 55961866, 'ns': 10, 'title': 'Template:Synthesis inline span/doc'}, '6617772': {'pageid': 6617772, 'ns': 10, 'title': 'Template:TBD'}, '20638588': {'pageid': 20638588, 'ns': 10, 'title': 'Template:Technical statement'}, '4078739': {'pageid': 4078739, 'ns': 10, 'title': 'Template:Unreliable source?'}, '54061770': {'pageid': 54061770, 'ns': 10, 'title': 'Template:Until when'}, '6179914': {'pageid': 6179914, 'ns': 10, 'title': 'Template:Update after', 'redirects': [{'pageid': 22936734, 'ns': 10, 'title': 'Template:Update after start of'}, {'pageid': 32575586, 'ns': 10, 'title': 'Template:Update-statement'}, {'pageid': 38864725, 'ns': 10, 'title': 'Template:Update on'}, {'pageid': 54879407, 'ns': 10, 'title': 'Template:Zukunft'}]}, '35595572': {'pageid': 35595572, 'ns': 10, 'title': 'Template:Update inline', 'redirects': [{'pageid': 10769088, 'ns': 10, 'title': 'Template:Update needed'}, {'pageid': 13021333, 'ns': 10, 'title': 'Template:Updateneed'}, {'pageid': 14096750, 'ns': 10, 'title': 'Template:Update-inline'}, {'pageid': 16367548, 'ns': 10, 'title': 'Template:Updateme'}, {'pageid': 17070423, 'ns': 10, 'title': 'Template:Updateneeded'}, {'pageid': 23586072, 'ns': 10, 'title': 'Template:Dated info'}]}}}}\n",
      "{'batchcomplete': '', 'continue': {'gcmcontinue': 'page|51472f294f310439433f394331044d472943011601dc15|57416401', 'continue': 'gcmcontinue||'}, 'query': {'pages': {'47604537': {'pageid': 47604537, 'ns': 10, 'title': 'Template:Siadn'}, '10210379': {'pageid': 10210379, 'ns': 10, 'title': 'Template:Synthesis inline'}, '55961853': {'pageid': 55961853, 'ns': 10, 'title': 'Template:Synthesis inline span'}, '55961866': {'pageid': 55961866, 'ns': 10, 'title': 'Template:Synthesis inline span/doc'}, '6617772': {'pageid': 6617772, 'ns': 10, 'title': 'Template:TBD'}, '20638588': {'pageid': 20638588, 'ns': 10, 'title': 'Template:Technical statement'}, '4078739': {'pageid': 4078739, 'ns': 10, 'title': 'Template:Unreliable source?'}, '54061770': {'pageid': 54061770, 'ns': 10, 'title': 'Template:Until when'}, '6179914': {'pageid': 6179914, 'ns': 10, 'title': 'Template:Update after'}, '35595572': {'pageid': 35595572, 'ns': 10, 'title': 'Template:Update inline', 'redirects': [{'pageid': 33224418, 'ns': 10, 'title': 'Template:Datedinfo'}, {'pageid': 36525777, 'ns': 10, 'title': 'Template:Update small'}, {'pageid': 37527043, 'ns': 10, 'title': 'Template:Update-small'}, {'pageid': 40869011, 'ns': 10, 'title': 'Template:Needs update'}, {'pageid': 41759848, 'ns': 10, 'title': 'Template:Outdated inline'}, {'pageid': 47187891, 'ns': 10, 'title': 'Template:Outdated-inline'}, {'pageid': 48745295, 'ns': 10, 'title': 'Template:Dated-inline'}, {'pageid': 50030114, 'ns': 10, 'title': 'Template:Updateinline'}, {'pageid': 53214414, 'ns': 10, 'title': 'Template:Outdated source'}]}}}}\n",
      "{'continue': {'rdcontinue': 'Weasel_inline|49390382', 'gcmcontinue': 'page|51472f294f310439433f394331044d472943011601dc15|57416401', 'continue': 'gcmcontinue||info|categories'}, 'query': {'pages': {'57416401': {'pageid': 57416401, 'ns': 10, 'title': 'Template:Update inline span', 'contentmodel': 'wikitext', 'pagelanguage': 'en', 'pagelanguagehtmlcode': 'en', 'pagelanguagedir': 'ltr', 'touched': '2018-09-21T14:36:27Z', 'lastrevid': 841217364, 'length': 497}, '9882353': {'pageid': 9882353, 'ns': 10, 'title': 'Template:Vague', 'contentmodel': 'wikitext', 'pagelanguage': 'en', 'pagelanguagehtmlcode': 'en', 'pagelanguagedir': 'ltr', 'touched': '2018-09-21T14:36:27Z', 'lastrevid': 784071356, 'length': 475}, '44925071': {'pageid': 44925071, 'ns': 10, 'title': 'Template:Vedit', 'contentmodel': 'wikitext', 'pagelanguage': 'en', 'pagelanguagehtmlcode': 'en', 'pagelanguagedir': 'ltr', 'touched': '2018-08-28T01:27:05Z', 'lastrevid': 640683516, 'length': 417}, '4838647': {'pageid': 4838647, 'ns': 10, 'title': 'Template:Weasel inline', 'contentmodel': 'wikitext', 'pagelanguage': 'en', 'pagelanguagehtmlcode': 'en', 'pagelanguagedir': 'ltr', 'touched': '2018-09-21T14:36:27Z', 'lastrevid': 804536907, 'length': 675, 'redirects': [{'pageid': 4589841, 'ns': 10, 'title': 'Template:Weaselword'}, {'pageid': 4838729, 'ns': 10, 'title': 'Template:Weal'}, {'pageid': 6487759, 'ns': 10, 'title': 'Template:WW'}, {'pageid': 10107797, 'ns': 10, 'title': 'Template:Weasel word'}, {'pageid': 10629402, 'ns': 10, 'title': 'Template:Weaselinline'}, {'pageid': 10629469, 'ns': 10, 'title': 'Template:Weasel-word'}, {'pageid': 13710174, 'ns': 10, 'title': 'Template:Ww'}, {'pageid': 17501251, 'ns': 10, 'title': 'Template:Whosays'}, {'pageid': 25979175, 'ns': 10, 'title': 'Template:Weasel Word'}, {'pageid': 43604578, 'ns': 10, 'title': 'Template:Weasel words inline'}]}, '11878717': {'pageid': 11878717, 'ns': 10, 'title': 'Template:When', 'contentmodel': 'wikitext', 'pagelanguage': 'en', 'pagelanguagehtmlcode': 'en', 'pagelanguagedir': 'ltr', 'touched': '2018-09-21T14:36:27Z', 'lastrevid': 773058639, 'length': 451}, '13961363': {'pageid': 13961363, 'ns': 10, 'title': 'Template:Where', 'contentmodel': 'wikitext', 'pagelanguage': 'en', 'pagelanguagehtmlcode': 'en', 'pagelanguagedir': 'ltr', 'touched': '2018-09-21T14:36:27Z', 'lastrevid': 784071502, 'length': 594}, '33033071': {'pageid': 33033071, 'ns': 10, 'title': 'Template:Where-geo', 'contentmodel': 'wikitext', 'pagelanguage': 'en', 'pagelanguagehtmlcode': 'en', 'pagelanguagedir': 'ltr', 'touched': '2018-07-07T00:39:40Z', 'lastrevid': 789199152, 'length': 487}, '11572404': {'pageid': 11572404, 'ns': 10, 'title': 'Template:Which', 'contentmodel': 'wikitext', 'pagelanguage': 'en', 'pagelanguagehtmlcode': 'en', 'pagelanguagedir': 'ltr', 'touched': '2018-09-21T14:36:27Z', 'lastrevid': 784071510, 'length': 582}, '5666292': {'pageid': 5666292, 'ns': 10, 'title': 'Template:Who', 'contentmodel': 'wikitext', 'pagelanguage': 'en', 'pagelanguagehtmlcode': 'en', 'pagelanguagedir': 'ltr', 'touched': '2018-09-21T14:36:27Z', 'lastrevid': 784071519, 'length': 686}, '51041281': {'pageid': 51041281, 'ns': 10, 'title': 'Template:Who2', 'contentmodel': 'wikitext', 'pagelanguage': 'en', 'pagelanguagehtmlcode': 'en', 'pagelanguagedir': 'ltr', 'touched': '2018-09-21T14:36:27Z', 'lastrevid': 741035523, 'length': 318}}}}\n",
      "{'continue': {'rdcontinue': 'When|29121889', 'gcmcontinue': 'page|51472f294f310439433f394331044d472943011601dc15|57416401', 'continue': 'gcmcontinue||info|categories'}, 'query': {'pages': {'57416401': {'pageid': 57416401, 'ns': 10, 'title': 'Template:Update inline span'}, '9882353': {'pageid': 9882353, 'ns': 10, 'title': 'Template:Vague'}, '44925071': {'pageid': 44925071, 'ns': 10, 'title': 'Template:Vedit'}, '4838647': {'pageid': 4838647, 'ns': 10, 'title': 'Template:Weasel inline', 'redirects': [{'pageid': 49390382, 'ns': 10, 'title': 'Template:Weasel-inline'}]}, '11878717': {'pageid': 11878717, 'ns': 10, 'title': 'Template:When', 'redirects': [{'pageid': 2829691, 'ns': 4, 'title': 'Wikipedia:Month Day'}, {'pageid': 14460700, 'ns': 10, 'title': 'Template:When?'}, {'pageid': 25980841, 'ns': 10, 'title': 'Template:Date needed'}, {'pageid': 25987575, 'ns': 10, 'title': 'Template:Need date'}, {'pageid': 25987580, 'ns': 10, 'title': 'Template:Needs date'}, {'pageid': 27534481, 'ns': 10, 'title': 'Template:Since when'}, {'pageid': 27587618, 'ns': 10, 'title': 'Template:WHEN'}, {'pageid': 27587752, 'ns': 10, 'title': 'Template:As of?'}, {'pageid': 27768726, 'ns': 10, 'title': 'Template:Since when?'}]}, '13961363': {'pageid': 13961363, 'ns': 10, 'title': 'Template:Where'}, '33033071': {'pageid': 33033071, 'ns': 10, 'title': 'Template:Where-geo'}, '11572404': {'pageid': 11572404, 'ns': 10, 'title': 'Template:Which'}, '5666292': {'pageid': 5666292, 'ns': 10, 'title': 'Template:Who'}, '51041281': {'pageid': 51041281, 'ns': 10, 'title': 'Template:Who2'}}}}\n",
      "{'continue': {'rdcontinue': 'Which|55470546', 'gcmcontinue': 'page|51472f294f310439433f394331044d472943011601dc15|57416401', 'continue': 'gcmcontinue||info|categories'}, 'query': {'pages': {'57416401': {'pageid': 57416401, 'ns': 10, 'title': 'Template:Update inline span'}, '9882353': {'pageid': 9882353, 'ns': 10, 'title': 'Template:Vague'}, '44925071': {'pageid': 44925071, 'ns': 10, 'title': 'Template:Vedit'}, '4838647': {'pageid': 4838647, 'ns': 10, 'title': 'Template:Weasel inline'}, '11878717': {'pageid': 11878717, 'ns': 10, 'title': 'Template:When', 'redirects': [{'pageid': 29121889, 'ns': 10, 'title': 'Template:Dateneeded'}, {'pageid': 29886532, 'ns': 10, 'title': 'Template:As-of?'}, {'pageid': 41084150, 'ns': 10, 'title': 'Template:As of when'}, {'pageid': 43545646, 'ns': 10, 'title': 'Template:As of when?'}, {'pageid': 44140973, 'ns': 10, 'title': 'Template:Clarify date'}, {'pageid': 47986932, 'ns': 10, 'title': 'Template:Recently'}]}, '13961363': {'pageid': 13961363, 'ns': 10, 'title': 'Template:Where', 'redirects': [{'pageid': 24371742, 'ns': 10, 'title': 'Template:Where?'}, {'pageid': 49167416, 'ns': 10, 'title': 'Template:From where?'}]}, '33033071': {'pageid': 33033071, 'ns': 10, 'title': 'Template:Where-geo'}, '11572404': {'pageid': 11572404, 'ns': 10, 'title': 'Template:Which', 'redirects': [{'pageid': 36859224, 'ns': 10, 'title': 'Template:Which?'}, {'pageid': 39956379, 'ns': 10, 'title': 'Template:Which ?'}]}, '5666292': {'pageid': 5666292, 'ns': 10, 'title': 'Template:Who'}, '51041281': {'pageid': 51041281, 'ns': 10, 'title': 'Template:Who2'}}}}\n",
      "{'batchcomplete': '', 'continue': {'gcmcontinue': 'page|5537450f040a862f452d03065537450f040a862f452d011501e0bee00b|51041350', 'continue': 'gcmcontinue||'}, 'query': {'pages': {'57416401': {'pageid': 57416401, 'ns': 10, 'title': 'Template:Update inline span'}, '9882353': {'pageid': 9882353, 'ns': 10, 'title': 'Template:Vague'}, '44925071': {'pageid': 44925071, 'ns': 10, 'title': 'Template:Vedit'}, '4838647': {'pageid': 4838647, 'ns': 10, 'title': 'Template:Weasel inline'}, '11878717': {'pageid': 11878717, 'ns': 10, 'title': 'Template:When'}, '13961363': {'pageid': 13961363, 'ns': 10, 'title': 'Template:Where'}, '33033071': {'pageid': 33033071, 'ns': 10, 'title': 'Template:Where-geo'}, '11572404': {'pageid': 11572404, 'ns': 10, 'title': 'Template:Which', 'redirects': [{'pageid': 55470546, 'ns': 10, 'title': 'Template:Which one'}]}, '5666292': {'pageid': 5666292, 'ns': 10, 'title': 'Template:Who', 'redirects': [{'pageid': 9027243, 'ns': 10, 'title': 'Template:Weasel-name'}, {'pageid': 9602563, 'ns': 10, 'title': 'Template:Who?'}, {'pageid': 42403627, 'ns': 10, 'title': 'Template:Whose?'}, {'pageid': 42974628, 'ns': 10, 'title': 'Template:Who ?'}, {'pageid': 51780385, 'ns': 10, 'title': \"Template:Who's\"}]}, '51041281': {'pageid': 51041281, 'ns': 10, 'title': 'Template:Who2'}}}}\n"
     ]
    },
    {
     "ename": "APIError",
     "evalue": "badcontinue: Invalid continue param. You should pass the original value returned by the previous query. -- See https://en.wikipedia.org/w/api.php for API usage. Subscribe to the mediawiki-api-announce mailing list at &lt;https://lists.wikimedia.org/mailman/listinfo/mediawiki-api-announce&gt; for notice of API deprecations and breaking changes.",
     "output_type": "error",
     "traceback": [
      "\u001b[0;31m---------------------------------------------------------------------------\u001b[0m",
      "\u001b[0;31mAPIError\u001b[0m                                  Traceback (most recent call last)",
      "\u001b[0;32m<ipython-input-14-05f9e2fd410a>\u001b[0m in \u001b[0;36m<module>\u001b[0;34m()\u001b[0m\n\u001b[0;32m----> 1\u001b[0;31m \u001b[0;32mfor\u001b[0m \u001b[0mr\u001b[0m \u001b[0;32min\u001b[0m \u001b[0mtemplates\u001b[0m\u001b[0;34m:\u001b[0m\u001b[0;34m\u001b[0m\u001b[0m\n\u001b[0m\u001b[1;32m      2\u001b[0m     \u001b[0mprint\u001b[0m\u001b[0;34m(\u001b[0m\u001b[0mr\u001b[0m\u001b[0;34m)\u001b[0m\u001b[0;34m\u001b[0m\u001b[0m\n",
      "\u001b[0;32m/opt/conda/lib/python3.6/site-packages/mwapi/session.py\u001b[0m in \u001b[0;36m_continuation\u001b[0;34m(self, method, params, files, auth)\u001b[0m\n\u001b[1;32m    203\u001b[0m \u001b[0;34m\u001b[0m\u001b[0m\n\u001b[1;32m    204\u001b[0m         \u001b[0;32mwhile\u001b[0m \u001b[0;32mTrue\u001b[0m\u001b[0;34m:\u001b[0m\u001b[0;34m\u001b[0m\u001b[0m\n\u001b[0;32m--> 205\u001b[0;31m             \u001b[0mdoc\u001b[0m \u001b[0;34m=\u001b[0m \u001b[0mself\u001b[0m\u001b[0;34m.\u001b[0m\u001b[0m_request\u001b[0m\u001b[0;34m(\u001b[0m\u001b[0mmethod\u001b[0m\u001b[0;34m,\u001b[0m \u001b[0mparams\u001b[0m\u001b[0;34m=\u001b[0m\u001b[0mparams\u001b[0m\u001b[0;34m,\u001b[0m \u001b[0mfiles\u001b[0m\u001b[0;34m=\u001b[0m\u001b[0mfiles\u001b[0m\u001b[0;34m,\u001b[0m \u001b[0mauth\u001b[0m\u001b[0;34m=\u001b[0m\u001b[0;32mNone\u001b[0m\u001b[0;34m)\u001b[0m\u001b[0;34m\u001b[0m\u001b[0m\n\u001b[0m\u001b[1;32m    206\u001b[0m             \u001b[0;32myield\u001b[0m \u001b[0mdoc\u001b[0m\u001b[0;34m\u001b[0m\u001b[0m\n\u001b[1;32m    207\u001b[0m             \u001b[0;32mif\u001b[0m \u001b[0;34m'continue'\u001b[0m \u001b[0;32mnot\u001b[0m \u001b[0;32min\u001b[0m \u001b[0mdoc\u001b[0m\u001b[0;34m:\u001b[0m\u001b[0;34m\u001b[0m\u001b[0m\n",
      "\u001b[0;32m/opt/conda/lib/python3.6/site-packages/mwapi/session.py\u001b[0m in \u001b[0;36m_request\u001b[0;34m(self, method, params, files, auth)\u001b[0m\n\u001b[1;32m    124\u001b[0m \u001b[0;34m\u001b[0m\u001b[0m\n\u001b[1;32m    125\u001b[0m         \u001b[0;32mif\u001b[0m \u001b[0;34m'error'\u001b[0m \u001b[0;32min\u001b[0m \u001b[0mdoc\u001b[0m\u001b[0;34m:\u001b[0m\u001b[0;34m\u001b[0m\u001b[0m\n\u001b[0;32m--> 126\u001b[0;31m             \u001b[0;32mraise\u001b[0m \u001b[0mAPIError\u001b[0m\u001b[0;34m.\u001b[0m\u001b[0mfrom_doc\u001b[0m\u001b[0;34m(\u001b[0m\u001b[0mdoc\u001b[0m\u001b[0;34m[\u001b[0m\u001b[0;34m'error'\u001b[0m\u001b[0;34m]\u001b[0m\u001b[0;34m)\u001b[0m\u001b[0;34m\u001b[0m\u001b[0m\n\u001b[0m\u001b[1;32m    127\u001b[0m \u001b[0;34m\u001b[0m\u001b[0m\n\u001b[1;32m    128\u001b[0m         \u001b[0;32mif\u001b[0m \u001b[0;34m'warnings'\u001b[0m \u001b[0;32min\u001b[0m \u001b[0mdoc\u001b[0m\u001b[0;34m:\u001b[0m\u001b[0;34m\u001b[0m\u001b[0m\n",
      "\u001b[0;31mAPIError\u001b[0m: badcontinue: Invalid continue param. You should pass the original value returned by the previous query. -- See https://en.wikipedia.org/w/api.php for API usage. Subscribe to the mediawiki-api-announce mailing list at &lt;https://lists.wikimedia.org/mailman/listinfo/mediawiki-api-announce&gt; for notice of API deprecations and breaking changes."
     ]
    }
   ],
   "source": [
    "for r in templates:\n",
    "    print(r)"
   ]
  },
  {
   "cell_type": "markdown",
   "metadata": {},
   "source": [
    "# Pages that include a Template"
   ]
  },
  {
   "cell_type": "code",
   "execution_count": 27,
   "metadata": {},
   "outputs": [
    {
     "data": {
      "text/plain": [
       "{'batchcomplete': '',\n",
       " 'continue': {'geicontinue': '0|5597', 'continue': 'geicontinue||'},\n",
       " 'query': {'pages': {'1724': {'pageid': 1724,\n",
       "    'ns': 0,\n",
       "    'title': 'Ammonius Saccas'},\n",
       "   '2474': {'pageid': 2474, 'ns': 0, 'title': 'Abaddon'},\n",
       "   '2875': {'pageid': 2875,\n",
       "    'ns': 0,\n",
       "    'title': 'Archduke Charles, Duke of Teschen'},\n",
       "   '3382': {'pageid': 3382, 'ns': 0, 'title': 'Britney Spears'},\n",
       "   '3867': {'pageid': 3867, 'ns': 1, 'title': 'Talk:Blue law'},\n",
       "   '4778': {'pageid': 4778, 'ns': 0, 'title': 'Branch Davidians'},\n",
       "   '4978': {'pageid': 4978, 'ns': 0, 'title': 'Battle of Berestechko'},\n",
       "   '5249': {'pageid': 5249, 'ns': 0, 'title': 'Crony capitalism'},\n",
       "   '5428': {'pageid': 5428, 'ns': 0, 'title': 'History of Cambodia'},\n",
       "   '5593': {'pageid': 5593, 'ns': 0, 'title': 'Cyprus'}}}}"
      ]
     },
     "execution_count": 27,
     "metadata": {},
     "output_type": "execute_result"
    }
   ],
   "source": [
    "session.get(action='query', generator='embeddedin', geititle='Template:POV')"
   ]
  },
  {
   "cell_type": "markdown",
   "metadata": {},
   "source": [
    "# Lacking References\n",
    "\n",
    "- ``{{citation needed}}``  (inline)\n",
    "\n",
    "\n",
    "# Accuracy\n",
    "\n",
    "- Boxes: ``{{POV}}``, ``{{POV section}}``, ``{{POV lead}}``, ``{{POV check}}``, ``{{Systemic bias}}``\n",
    "- Inline: ``{{Lopsided}}``, ``{{POV statement}}``, ``{{POV check inline}}``\n",
    "- ``{{POV-check}}``\n",
    "- ``{{Weasel}}`` ``{{Weasel inline}}``, ``{{Who inline}}``, ``{{By whom}}``\n",
    "- ``{{Peacock}}`` ``{{Peacock term}}``\n",
    "\n",
    "\n",
    "# Style\n",
    "\n",
    "- ``{{Advert}}``, ``{{Newsrelease}}``, ``{{Advert inline}}``\n",
    "- ``{{Promotion inline}}``, ``{{Fanpov}}``, ``{{Like resume}}``\n",
    "\n"
   ]
  },
  {
   "cell_type": "code",
   "execution_count": 35,
   "metadata": {},
   "outputs": [],
   "source": [
    "res = session.get(action='query',\n",
    "            prop='revisions', \n",
    "            generator='embeddedin', \n",
    "            geititle='Template:POV',\n",
    "            rvslots='main', \n",
    "            rvprop='timestamp|sha1|content')         "
   ]
  },
  {
   "cell_type": "code",
   "execution_count": null,
   "metadata": {},
   "outputs": [],
   "source": []
  },
  {
   "cell_type": "markdown",
   "metadata": {},
   "source": [
    "The template for good article is https://en.wikipedia.org/wiki/Wikipedia:Featured_articles"
   ]
  },
  {
   "cell_type": "code",
   "execution_count": null,
   "metadata": {},
   "outputs": [],
   "source": []
  }
 ],
 "metadata": {
  "kernelspec": {
   "display_name": "Python 3",
   "language": "python",
   "name": "python3"
  },
  "language_info": {
   "codemirror_mode": {
    "name": "ipython",
    "version": 3
   },
   "file_extension": ".py",
   "mimetype": "text/x-python",
   "name": "python",
   "nbconvert_exporter": "python",
   "pygments_lexer": "ipython3",
   "version": "3.6.3"
  }
 },
 "nbformat": 4,
 "nbformat_minor": 2
}
