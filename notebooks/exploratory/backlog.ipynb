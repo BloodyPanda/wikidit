{
 "cells": [
  {
   "cell_type": "markdown",
   "metadata": {},
   "source": [
    "## Backlog"
   ]
  },
  {
   "cell_type": "markdown",
   "metadata": {},
   "source": [
    "Code to explore Wikipedia backlog issues."
   ]
  },
  {
   "cell_type": "code",
   "execution_count": 5,
   "metadata": {},
   "outputs": [],
   "source": [
    "import sys\n",
    "sys.path.append(\"..\")\n",
    "%load_ext autoreload\n",
    "%autoreload 2\n",
    "import wikidit"
   ]
  },
  {
   "cell_type": "code",
   "execution_count": 14,
   "metadata": {},
   "outputs": [],
   "source": [
    "from wikidit.mw import Session\n",
    "import mwparserfromhell as mwparser\n",
    "\n",
    "\n",
    "def normalize_title(title, session=None):\n",
    "    if session is None:\n",
    "        session = Session()\n",
    "    result = session.get(action=\"query\", titles=title, redirects=True)\n",
    "    page = list(result['query']['pages'].values())[0]\n",
    "    if 'missing' in page:\n",
    "        raise ValueError(f\"Title {title} does not exist\")\n",
    "    else:\n",
    "        return page['title']\n",
    "\n",
    "def get_talk_page(title, session=None):\n",
    "    if session is None:\n",
    "        session = Session()\n",
    "    norm_title = normalize_title(title, session=session)\n",
    "    result = session.get(action='query', titles=f\"Talk:{norm_title}\",\n",
    "                         prop='revisions', rvprop='content', \n",
    "                         rvslots='main')\n",
    "    return list(result['query']['pages'].values())[0]\n",
    "\n",
    "def get_content(page):\n",
    "    return page['revisions'][0]['slots']['main']['*']\n",
    "\n",
    "def clean_wp_class(x):\n",
    "    replacements = {\"disambig\": \"dab\", \n",
    "                    \"current\": \"cur\",\n",
    "                    \"a\": \"ga\",\n",
    "                    \"bplus\": \"b\",\n",
    "                    \"none\": None}\n",
    "\n",
    "    # See https://en.wikipedia.org/wiki/MediaWiki:Gadget-metadata.js\n",
    "    x = str(x).strip().lower()\n",
    "    if x in replacements:\n",
    "        x = replacements[x]\n",
    "    return x\n",
    "\n",
    "def clean_wp_importance(x):\n",
    "    x = str(x).strip().lower()\n",
    "    if x == \"none\":\n",
    "        return None\n",
    "    return x\n",
    "\n",
    "def parse_project(tmpl):\n",
    "    class_ = [x.value for x in tmpl.params if x.name == \"class\"]\n",
    "    class_ = None if not len(class_) else class_[0]\n",
    "    importance = [x.value for x in tmpl.params if x.name == \"importance\"]\n",
    "    importance = None if not len(importance) else importance[0]\n",
    "    return (str(tmpl.name), {'class': clean_wp_class(class_),\n",
    "                             'importance': clean_wp_class(importance)})\n",
    "              \n",
    "def get_projects(page):\n",
    "    return dict(parse_project(x) for x in page.filter_templates(matches=\"WikiProject\"))\n",
    "\n",
    "def get_wikiprojects(title, session=None):\n",
    "    # Problem: what if title doesn't exist\n",
    "    # not sure if this handles cases where title is redirected\n",
    "    page = get_talk_page(title, session=session)\n",
    "    parsed = mwparser.parse(get_content(page))\n",
    "    return get_projects(parsed)\n",
    "\n",
    "\n",
    "def get_quality(title, session=None):\n",
    "    CLASSES = ('fa', 'ga', 'b', 'c', 'start', 'stub',\n",
    "               'fl', 'list', 'dab', 'book', 'template',\n",
    "               'category', 'draft', 'redirect')\n",
    "    # current and future can be ignored\n",
    "    projs = get_wikiprojects(title, session=session)\n",
    "    classes_ = set()\n",
    "    for _, vals in projs.items():\n",
    "        k = vals['class']\n",
    "        if k is not None:\n",
    "            classes_.add(k)\n",
    "    if not len(classes_):\n",
    "        return None\n",
    "    else:\n",
    "        for k in CLASSES:\n",
    "            if k in classes_:\n",
    "                return k\n",
    "        return None\n",
    "\n",
    "        "
   ]
  },
  {
   "cell_type": "code",
   "execution_count": 16,
   "metadata": {},
   "outputs": [
    {
     "data": {
      "text/plain": [
       "'start'"
      ]
     },
     "execution_count": 16,
     "metadata": {},
     "output_type": "execute_result"
    }
   ],
   "source": [
    "get_quality(\"Data science\")"
   ]
  },
  {
   "cell_type": "code",
   "execution_count": null,
   "metadata": {},
   "outputs": [],
   "source": []
  }
 ],
 "metadata": {
  "kernelspec": {
   "display_name": "Python 3",
   "language": "python",
   "name": "python3"
  },
  "language_info": {
   "codemirror_mode": {
    "name": "ipython",
    "version": 3
   },
   "file_extension": ".py",
   "mimetype": "text/x-python",
   "name": "python",
   "nbconvert_exporter": "python",
   "pygments_lexer": "ipython3",
   "version": "3.6.6"
  }
 },
 "nbformat": 4,
 "nbformat_minor": 2
}
