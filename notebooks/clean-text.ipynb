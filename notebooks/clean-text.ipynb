{
 "cells": [
  {
   "cell_type": "code",
   "execution_count": 2,
   "metadata": {},
   "outputs": [],
   "source": [
    "import mwparserfromhell as mwparser\n",
    "import gzip\n",
    "import json"
   ]
  },
  {
   "cell_type": "code",
   "execution_count": 13,
   "metadata": {},
   "outputs": [],
   "source": [
    "import mwapi\n",
    "session = mwapi.Session(\"https://en.wikipedia.org\", user_agent=\"<jeffrey.arnold@gmail.com>\")"
   ]
  },
  {
   "cell_type": "code",
   "execution_count": 20,
   "metadata": {},
   "outputs": [],
   "source": [
    "rev = session.get(action=\"query\", titles=\"Data science\", prop='revisions', rvprop='content', rvslots='main')"
   ]
  },
  {
   "cell_type": "code",
   "execution_count": 63,
   "metadata": {},
   "outputs": [],
   "source": [
    "text = list(rev['query']['pages'].values())[0]['revisions'][0]['slots']['main']['*']"
   ]
  },
  {
   "cell_type": "code",
   "execution_count": 74,
   "metadata": {},
   "outputs": [
    {
     "data": {
      "text/plain": [
       "['[[Category:Information science]]',\n",
       " '[[Category:Computer occupations]]',\n",
       " '[[Category:Computational fields of study]]',\n",
       " '[[Category:Data analysis]]']"
      ]
     },
     "execution_count": 74,
     "metadata": {},
     "output_type": "execute_result"
    }
   ],
   "source": [
    "parsed = mwparser.parse(text)\n",
    "list(parsed.ifilter_wikilinks(matches=\"Category:\"))"
   ]
  },
  {
   "cell_type": "code",
   "execution_count": 123,
   "metadata": {},
   "outputs": [],
   "source": [
    "import re\n",
    "\n",
    "def clean_template_name(x):\n",
    "    return str(x.name).lower().strip().replace(\" \", \"_\").replace(\"-\", \"_\")\n",
    "    \n",
    "def is_image(x):\n",
    "    _RE_IMAGE = re.compile('^(?:File|Image|Media):', flags=re.I)    \n",
    "    return _RE_IMAGE.match(str(x.title))\n",
    "\n",
    "def get_images(x):\n",
    "    for cat in x.ifilter_wikilinks():\n",
    "        if is_image(x):\n",
    "            yield x\n",
    "\n",
    "def is_category(x):\n",
    "    _RE_CATEGORY = re.compile('^Category:', flags=re.I)\n",
    "    return _RE_CATEGORY.match(str(x.title))\n",
    "\n",
    "def get_categories(x):\n",
    "    for cat in x.ifilter_wikilinks():\n",
    "        if is_category(x):\n",
    "            yield x\n",
    "            \n",
    "def is_ref(x):\n",
    "    if is_tag(x, \"ref$\"):\n",
    "        return True\n",
    "    if is_template(x, pattern=\"(ref|note)$\"):\n",
    "        return True\n",
    "    return False\n",
    "\n",
    "def is_tag(x, pattern=None):\n",
    "    out = isinstance(x, mwparser.nodes.Tag)\n",
    "    if out and pattern is not None:\n",
    "        out = re.match(pattern, str(x.tag), re.I)\n",
    "    return out\n",
    "\n",
    "def is_heading(x):\n",
    "    return isinstance(x, mwparser.nodes.Heading)\n",
    "\n",
    "def is_wikilink(x):\n",
    "    return isinstance(x, mwparser.nodes.Wikilink)\n",
    "\n",
    "def is_template(x, pattern=None):\n",
    "    out = isinstance(x, mwparser.nodes.Template)\n",
    "    if out and pattern is not None:\n",
    "        out = re.match(pattern, clean_template_name(x), re.I)\n",
    "    return out\n",
    "\n",
    "class WikicodeConverter:\n",
    " \n",
    "    def __init__(self, parser = mwparser.parser.Parser(), tags_keep=[], tags_remove=[],\n",
    "                 templates_keep=[], templates_remove=[], headings_remove=[]):\n",
    "        self._parser = parser\n",
    "        self.tags_keep = tags_keep\n",
    "        self.tags_remove = tags_remove\n",
    "        self.templates_keep = templates_keep\n",
    "        self.templates_remove = templates_remove\n",
    "        self.headings_remove = headings_remove\n",
    "      \n",
    "    def _strip_tag(self, x):\n",
    "        tag = x.tag.lower().strip()\n",
    "        if tag in self.tags_keep:\n",
    "            out = f\"<{tag.tag}>\"\n",
    "        elif tag in self.tags_remove:\n",
    "            out = None\n",
    "        else:\n",
    "            out = x.__strip__()\n",
    "        return out\n",
    "    \n",
    "    def _strip_template(self, x):\n",
    "        name = clean_template_name(x)\n",
    "        if (self.templates_keep and \n",
    "            re.match('|'.join(self.templates_keep), name)):\n",
    "            out = \"{{\" + name + \"}}\"\n",
    "        elif re.match(\"|\".join(self.templates_remove), name):\n",
    "            out = None\n",
    "        else:\n",
    "            out = x.__strip__()\n",
    "        return out    \n",
    "    \n",
    "    def _span(self, i, text, label=None):\n",
    "        if text is None:\n",
    "            start = max(0, i - 1)\n",
    "            end = max(1, i)\n",
    "        else:\n",
    "            start = i\n",
    "            end = len(text)\n",
    "        return {'start': start,\n",
    "                'end': end,\n",
    "                'label': label}\n",
    "    \n",
    "    def convert(self, content):\n",
    "        \"\"\"Convert Wiki markup to plain text.\"\"\"\n",
    "        wikicode = mwparser.parse(content)\n",
    "        texts = []\n",
    "        references = []\n",
    "        templates = []\n",
    "        # then concatenate the stripped text of each section\n",
    "        tok = 0\n",
    "        for i, section in enumerate(wikicode.get_sections(flat=True, include_lead=True, include_headings=True)):\n",
    "            # ignore headers\n",
    "            headings = section.filter_headings()\n",
    "            if len(headings) and str(headings[0].title).strip().lower() in self.headings_remove:\n",
    "                continue\n",
    "            for node in section.nodes:\n",
    "                nodestr = None\n",
    "                # references needs to preceed tags and templates since they\n",
    "                # have both forms\n",
    "                if is_ref(node):\n",
    "                    references.append(self._span(tok, nodestr, '<ref>'))\n",
    "                elif is_tag(node):\n",
    "                    if str(node.tag).lower() == \"table\":\n",
    "                        nodestr = None       \n",
    "                    else:\n",
    "                        nodestr = self._strip_tag(node)\n",
    "                elif is_template(node):\n",
    "                    nodestr = self._strip_template(node)\n",
    "                    templates.append(self._span(tok, nodestr, clean_template_name(node)))\n",
    "                elif is_category(node) or is_image(node):\n",
    "                    pass\n",
    "                elif is_heading(node):\n",
    "                    nodestr = None\n",
    "                else:\n",
    "                    nodestr = str(node.__strip__(normalize=True))\n",
    "                if nodestr is not None:\n",
    "                    tok += len(nodestr)\n",
    "                    texts.append(nodestr)\n",
    "        return {'text': ''.join(texts), 'references': references, 'templates': templates}\n"
   ]
  },
  {
   "cell_type": "code",
   "execution_count": 124,
   "metadata": {},
   "outputs": [],
   "source": [
    "templates_keep = []\n",
    "converter = WikicodeConverter(tags_remove=[\"img\", \"table\"],\n",
    "                              templates_remove=[\"infobox\", \"reflist\", \"notelist\"],\n",
    "                              headings_remove=[\"see also\", \"bibliography\", \"references\", \"external links\"])"
   ]
  },
  {
   "cell_type": "code",
   "execution_count": 125,
   "metadata": {},
   "outputs": [],
   "source": [
    "cleaned = converter.convert(text)"
   ]
  },
  {
   "cell_type": "code",
   "execution_count": 148,
   "metadata": {},
   "outputs": [],
   "source": [
    "import spacy\n",
    "nlp = spacy.load('en_core_web_lg')\n",
    "doc = nlp(cleaned['text'])"
   ]
  },
  {
   "cell_type": "code",
   "execution_count": 157,
   "metadata": {},
   "outputs": [
    {
     "name": "stdout",
     "output_type": "stream",
     "text": [
      "\n",
      "\n",
      "\n",
      "\n",
      "Data science is an interdisciplinary field that uses scientific methods, processes, algorithms and systems to extract knowledge and insights from data in various forms, both structured and unstructured, similar to data mining.\n",
      "\n",
      "Data science is a \"concept to unify statistics, data analysis, machine learning and their related methods\" in order to \"understand and analyze actual phenomena\" with data.\n",
      "It employs techniques and theories drawn from many fields within the context of mathematics, statistics, information science, and computer science.\n",
      "\n",
      "\n",
      "Turing award winner Jim Gray imagined data science as a \"fourth paradigm\" of science (empirical, theoretical, computational and now data-driven) and asserted that \"everything about science is changing because of the impact of information technology\" and the data deluge.\n",
      "\n",
      "\n",
      "In 2012, when Harvard Business Review called it \"The Sexiest Job of the 21st Century\", the term \"data science\" became a buzzword.  \n",
      "It is now often used interchangeably with earlier concepts like business analytics, business intelligence, predictive modeling, and statistics.  \n",
      "Even the suggestion that data science is sexy was paraphrasing Hans Rosling, featured in a 2011 BBC documentary with the quote, \"Statistics is now the sexiest subject around.\"\n",
      "Nate Silver referred to data science as a sexed up term for statistics.   \n",
      "In many cases, earlier approaches and solutions are now simply rebranded as \"data science\" to be more attractive, which can cause the term to become \"dilute[d] beyond usefulness.\n",
      "\" While many university programs now offer a data science degree, there exists no consensus on a definition or suitable curriculum contents.\n",
      "To its discredit, however, many data-science and big-data projects fail to deliver useful results, often as a result of poor management and utilization of resources.\n",
      "\n",
      "\n",
      "\n",
      "The term \"data science\" has appeared in various contexts over the past thirty years but did not become an established term until recently.\n",
      "In an early usage, it was used as a substitute for computer science by Peter Naur in 1960.\n",
      "Naur later introduced the term \"datalogy\".\n",
      "In 1974, Naur published Concise Survey of Computer Methods, which freely used the term data science in its survey of the contemporary data processing methods that are used in a wide range of applications.\n",
      "\n",
      "\n",
      "In 1996, members of the International Federation of Classification Societies (IFCS) met in Kobe for their biennial conference.\n",
      "Here, for the first time, the term data science is included in the title of the conference (\"Data Science, classification, and related methods\"), after the term was introduced in a roundtable discussion by Chikio Hayashi.\n",
      "\n",
      "\n",
      "In November 1997, C.F. Jeff Wu gave the inaugural lecture entitled \"Statistics = Data Science?\" for his appointment to the H. C. Carver Professorship at the University of Michigan.\n",
      "\n",
      "In this lecture, he characterized statistical work as a trilogy of data collection, data modeling and analysis, and decision making.\n",
      "In his conclusion,\n",
      "he initiated the modern, non-computer science, usage of the term \"data science\" and advocated that statistics be renamed data science and statisticians data scientists.\n",
      "\n",
      "Later, he presented his lecture entitled \"Statistics = Data Science?\"\n",
      "as the first of his 1998 P.C. Mahalanobis Memorial Lectures.\n",
      "These lectures honor Prasanta Chandra Mahalanobis, an Indian scientist and statistician and founder of the Indian Statistical Institute.\n",
      "\n",
      "\n",
      "In 2001, William S. Cleveland introduced data science as an independent discipline, extending the field of statistics to incorporate \"advances in computing with data\" in his article \"Data Science: An Action Plan for Expanding the Technical Areas of the Field of Statistics,\" which was published in Volume 69, No. 1, of the April 2001 edition of the International Statistical Review / Revue Internationale de Statistique.\n",
      "In his report, Cleveland establishes six technical areas which he believed to encompass the field of data science: multidisciplinary investigations, models and methods for data, computing with data, pedagogy, tool evaluation, and theory.\n",
      "\n",
      "\n",
      "In April 2002, the International Council for Science (ICSU): Committee on Data for Science and Technology (CODATA) started the Data Science Journal, a publication focused on issues such as the description of data systems, their publication on the internet, applications and legal issues.\n",
      "Shortly thereafter, in January 2003, Columbia University began publishing The Journal of Data Science, which provided a platform for all data workers to present their views and exchange ideas.\n",
      "The journal was largely devoted to the application of statistical methods and quantitative research.\n",
      "In 2005, The National Science Board published \"Long-lived Digital Data Collections: Enabling Research and Education in the 21st Century\" defining data scientists as \"the information and computer scientists, database and software and programmers, disciplinary experts, curators and expert annotators, librarians, archivists, and others, who are crucial to the successful management of a digital data collection\" whose primary activity is to \"conduct creative inquiry and analysis.\"\n",
      "\n",
      "\n",
      "Around 2007, Turing award winner Jim Gray envisioned \"data-driven science\" as a \"fourth paradigm\" of science that uses the computational analysis of large data as primary scientific method and \"to have a world in which all of the science literature is online, all of the science data is online, and they interoperate with each other.\"\n",
      "\n",
      "\n",
      "In the 2012 Harvard Business Review article \"Data Scientist: The Sexiest Job of the 21st Century\", DJ Patil claims to have coined this term in 2008 with Jeff Hammerbacher to define their jobs at LinkedIn and Facebook, respectively.\n",
      "He asserts that a data scientist is \"a new breed\", and that a \"shortage of data scientists is becoming a serious constraint in some sectors\", but describes a much more business-oriented role.\n",
      "\n",
      "\n",
      "In 2013, the IEEE Task Force on Data Science and Advanced Analytics was launched.\n",
      "In 2013, the first \"European Conference on Data Analysis (ECDA)\" was organised in Luxembourg, establishing the European Association for Data Science (EuADS).\n",
      "The first international conference: IEEE International Conference on Data Science and Advanced Analytics was launched in 2014.\n",
      "In 2014, General Assembly launched student-paid bootcamp and The Data Incubator launched a competitive free data science fellowship.  \n",
      "In 2014, the American Statistical Association section on Statistical Learning and Data Mining renamed its journal to \"Statistical Analysis and Data Mining: The ASA Data Science Journal\" and in 2016 changed its section name to \"Statistical Learning and Data Science\".  \n",
      "In 2015, the International Journal on Data Science and Analytics was launched by Springer to publish original work on data science and big data analytics.  \n",
      "In September 2015 the Gesellschaft für Klassifikation (GfKl) added to the name of the Society \"Data Science Society\" at the third ECDA conference at the University of Essex, Colchester, UK.\n",
      "\n",
      "\n",
      "\n",
      "The popularity of the term \"data science\" has exploded in business environments and academia, as indicated by a jump in job openings.\n",
      "However, many critical academics and journalists see no distinction between data science and statistics.\n",
      "Writing in Forbes, Gil Press argues that data science is a buzzword without a clear definition and has simply replaced “business analytics” in contexts such as graduate degree programs.\n",
      "In the question-and-answer section of his keynote address at the Joint Statistical Meetings of American Statistical Association, noted applied statistician Nate Silver said, “I think data-scientist is a sexed up term for a statistician....\n",
      "Statistics is a branch of science.\n",
      "Data scientist is slightly redundant in some way and people shouldn’t berate the term statistician.\n",
      "”\n",
      "Similarly, in business sector, multiple researchers and analysts state that data scientists alone are far from being sufficient in granting companies a real competitive advantage and consider data scientists as only one of the four greater job families companies require to leverage big data effectively, namely: data analysts, data scientists, big data developers and big data engineers.\n",
      "\n",
      "\n",
      "On the other hand, responses to criticism are as numerous.\n",
      "In a 2014 Wall Street Journal article, Irving Wladawsky-Berger compares the data science enthusiasm with the dawn of computer science.\n",
      "He argues data science, like any other interdisciplinary field, employs methodologies and practices from across the academia and industry, but then it will morph them into a new discipline.\n",
      "He brings to attention the sharp criticisms computer science, now a well respected academic discipline, had to once face.\n",
      "Likewise, NYU Stern's Vasant Dhar, as do many other academic proponents of data science, argues more specifically in December 2013 that data science is different from the existing practice of data analysis across all disciplines, which focuses only on explaining data sets.\n",
      "Data science seeks actionable and consistent pattern for predictive uses.  \n",
      "This practical engineering goal takes data science beyond traditional analytics.\n",
      "Now the data in those disciplines and applied fields that lacked solid theories, like health science and social science, could be sought and utilized to generate powerful predictive models.\n",
      "\n",
      "\n",
      "In an effort similar to Dhar's, Stanford professor David Donoho, in September 2015, takes the proposition further by rejecting three simplistic and misleading definitions of data science in lieu of criticisms.\n",
      "First, for Donoho, data science does not equate to big data, in that the size of the data set is not a criterion to distinguish data science and statistics.\n",
      "Second, data science is not defined by the computing skills of sorting big data sets, in that these skills are already generally used for analyses across all disciplines.\n",
      "Third, data science is a heavily applied field where academic programs right now do not sufficiently prepare data scientists for the jobs, in that many graduate programs misleadingly advertise their analytics and statistics training as the essence of a data science program.\n",
      "As a statistician, Donoho, following many in his field, champions the broadening of learning scope in the form of data science, like John Chambers who urges statisticians to adopt an inclusive concept of learning from data, or like William Cleveland who urges to prioritize extracting from data applicable predictive tools over explanatory theories.\n",
      "Together, these statisticians envision an increasingly inclusive applied field that grows out of traditional statistics and beyond.\n",
      "\n",
      "\n",
      "For the future of data science, Donoho projects an ever-growing environment for open science where data sets used for academic publications are accessible to all researchers.\n",
      "US National Institute of Health has already announced plans to enhance reproducibility and transparency of research data.\n",
      "Other big journals are likewise following suit.\n",
      "This way, the future of data science not only exceeds the boundary of statistical theories in scale and methodology, but data science will revolutionize current academia and research paradigms.\n",
      "As Donoho concludes, \"the scope and impact of data science will continue to expand enormously in coming decades as scientific data and data about science itself become ubiquitously available.\n",
      "\"\n",
      "\n",
      "\n"
     ]
    }
   ],
   "source": [
    "\n",
    "for sent in doc.sents:\n",
    "    print(sent)"
   ]
  },
  {
   "cell_type": "code",
   "execution_count": 162,
   "metadata": {},
   "outputs": [],
   "source": [
    "sent = next(doc.sents)"
   ]
  },
  {
   "cell_type": "code",
   "execution_count": 163,
   "metadata": {},
   "outputs": [
    {
     "data": {
      "text/plain": [
       "0"
      ]
     },
     "execution_count": 163,
     "metadata": {},
     "output_type": "execute_result"
    }
   ],
   "source": []
  },
  {
   "cell_type": "code",
   "execution_count": null,
   "metadata": {},
   "outputs": [],
   "source": []
  }
 ],
 "metadata": {
  "kernelspec": {
   "display_name": "Python 3",
   "language": "python",
   "name": "python3"
  },
  "language_info": {
   "codemirror_mode": {
    "name": "ipython",
    "version": 3
   },
   "file_extension": ".py",
   "mimetype": "text/x-python",
   "name": "python",
   "nbconvert_exporter": "python",
   "pygments_lexer": "ipython3",
   "version": "3.6.3"
  }
 },
 "nbformat": 4,
 "nbformat_minor": 2
}
