{
 "cells": [
  {
   "cell_type": "code",
   "execution_count": 35,
   "metadata": {},
   "outputs": [],
   "source": [
    "import mwparserfromhell as mwparser\n",
    "import gzip\n",
    "import json"
   ]
  },
  {
   "cell_type": "code",
   "execution_count": 36,
   "metadata": {},
   "outputs": [],
   "source": [
    "import mwapi\n",
    "session = mwapi.Session(\"https://en.wikipedia.org\", user_agent=\"<jeffrey.arnold@gmail.com>\")"
   ]
  },
  {
   "cell_type": "code",
   "execution_count": 37,
   "metadata": {},
   "outputs": [],
   "source": [
    "rev = session.get(action=\"query\", titles=\"Data science\", prop='revisions', rvprop='content', rvslots='main')"
   ]
  },
  {
   "cell_type": "code",
   "execution_count": 38,
   "metadata": {},
   "outputs": [],
   "source": [
    "text = list(rev['query']['pages'].values())[0]['revisions'][0]['slots']['main']['*']"
   ]
  },
  {
   "cell_type": "code",
   "execution_count": 39,
   "metadata": {},
   "outputs": [
    {
     "data": {
      "text/plain": [
       "['[[Category:Information science]]',\n",
       " '[[Category:Computer occupations]]',\n",
       " '[[Category:Computational fields of study]]',\n",
       " '[[Category:Data analysis]]']"
      ]
     },
     "execution_count": 39,
     "metadata": {},
     "output_type": "execute_result"
    }
   ],
   "source": [
    "parsed = mwparser.parse(text)\n",
    "list(parsed.ifilter_wikilinks(matches=\"Category:\"))"
   ]
  },
  {
   "cell_type": "code",
   "execution_count": 40,
   "metadata": {},
   "outputs": [
    {
     "data": {
      "text/plain": [
       "'{{Distinguish|information science}}\\n{{Use dmy dates|date=December 2012}}\\n{{Machine learning bar}}\\n\\n\\'\\'\\'Data science\\'\\'\\' is an interdisciplinary field that uses scientific methods, processes, algorithms and systems to extract [[knowledge]] and insights from [[data]] in various forms, both structured and unstructured,<ref name=\":0\">{{Cite journal | last1 = Dhar | first1 = V. | title = Data science and prediction | doi = 10.1145/2500499 | journal = Communications of the ACM | volume = 56 | issue = 12 | pages = 64 | year = 2013 | pmid =  | pmc = | url = http://cacm.acm.org/magazines/2013/12/169933-data-science-and-prediction/fulltext}}</ref><ref>{{cite web | url=http://simplystatistics.org/2013/12/12/the-key-word-in-data-science-is-not-data-it-is-science/ | title=The key word in \"Data Science\" is not Data, it is Science | publisher=Simply Statistics | date=2013-12-12 | author=Jeff Leek }}</ref> similar to [[data mining]].\\n\\nData science is a \"concept to unify statistics, data analysis, machine learning and their related methods\" in order to \"understand and analyze actual phenomena\" with data.<ref name=\"Hayashi\" /> It employs techniques and theories drawn from many fields within the context of [[mathematics]], [[statistics]], [[information science]], and [[computer science]].\\n\\n[[Turing award]] winner [[Jim Gray (computer scientist)|Jim Gray]] imagined data science as a \"fourth paradigm\" of science ([[Empirical research|empirical]], [[Basic research|theoretical]], computational and now data-driven) and asserted that \"everything about science is changing because of the impact of information technology\" and the [[information explosion|data deluge]].<ref name=\"TansleyTolle2009\">{{cite book|author1=Stewart Tansley|author2=Kristin Michele Tolle|title=The Fourth Paradigm: Data-intensive Scientific Discovery|url=https://books.google.com/books?id=oGs_AQAAIAAJ|year=2009|publisher=Microsoft Research|isbn=978-0-9825442-0-4}}</ref><ref name=\"BellHey2009\">{{cite journal|last1=Bell|first1=G.|last2=Hey|first2=T.|last3=Szalay|first3=A.|title=COMPUTER SCIENCE: Beyond the Data Deluge|journal=Science|volume=323|issue=5919|year=2009|pages=1297–1298|issn=0036-8075|doi=10.1126/science.1170411}}</ref>\\n\\nIn 2012, when [[Harvard Business Review]] called it \"The Sexiest Job of the 21st Century\",<ref name=\"Harvard\" /> the term \"data science\" became a [[buzzword]].  It is now often used interchangeably with earlier concepts like [[business analytics]],<ref name=\"GilPress\" /> [[business intelligence]], [[Predictive modelling|predictive modeling]], and [[statistics]].  Even the suggestion that data science is sexy was paraphrasing [[Hans Rosling]], featured in a [https://www.bbc.co.uk/programmes/b00wgq0l 2011 BBC documentary] with the quote, \"Statistics is now the sexiest subject around.\"<ref>{{cite news|url=https://www.nytimes.com/2011/04/03/business/03stream.html|title=When the Data Struts Its Stuff|first=Natasha|last=Singer|date=2011-04-02|access-date=2018-09-01|language=en-US}}</ref> [[Nate Silver]] referred to data science as a sexed up term for statistics.<ref name=\"NateSilver\" /><nowiki>   In many cases, earlier approaches and solutions are now simply rebranded as \"data science\" to be more attractive, which can cause the term to become \"dilute[d] beyond usefulness.\"</nowiki><ref>{{Cite news|url=http://radar.oreilly.com/2011/05/data-science-terminology.html|title=Why the term \"data science\" is flawed but useful|last=Warden|first=Pete|date=2011-05-09|work=O\\'Reilly Radar|access-date=2018-05-20|language=en-US}}</ref> While many university programs now offer a data science degree, there exists no consensus on a definition or suitable curriculum contents.<ref name=\"GilPress\" /> To its discredit, however, many data-science and [[big data|big-data]] projects fail to deliver useful results, often as a result of poor management and utilization of resources.<ref>{{Cite news|url=https://hbr.org/2018/01/are-you-setting-your-data-scientists-up-to-fail|title=Are You Setting Your Data Scientists Up to Fail?|date=2018-01-25|work=Harvard Business Review|access-date=2018-05-26}}</ref><ref>{{Cite web|url=https://www.consultancy.uk/news/16839/70-of-big-data-projects-in-uk-fail-to-realise-full-potential|title=70% of Big Data projects in UK fail to realise full potential|website=www.consultancy.uk|language=en|access-date=2018-05-26}}</ref><ref>{{Cite news|url=http://analytics-magazine.org/the-data-economy-why-do-so-many-analytics-projects-fail/|title=The Data Economy: Why do so many analytics projects fail? – Analytics Magazine|date=2014-07-07|work=Analytics Magazine|access-date=2018-05-26|language=en-US}}</ref><ref>{{Cite web|url=https://www.kdnuggets.com/2018/05/data-science-4-reasons-failing-deliver.html|title=Data Science: 4 Reasons Why Most Are Failing to Deliver|website=www.kdnuggets.com|language=en-US|access-date=2018-05-26}}</ref>\\n\\n==History==\\nThe term \"data science\" has appeared in various contexts over the past thirty years but did not become an established term until recently. In an early usage, it was used as a substitute for [[computer science]] by [[Peter Naur]] in 1960. Naur later introduced the term \"[[datalogy]]\".<ref>{{cite journal|last1=Naur|first1=Peter|title=The science of datalogy|journal=Communications of the ACM|date=1 July 1966|volume=9|issue=7|pages=485|doi=10.1145/365719.366510}}</ref> In 1974, Naur published \\'\\'Concise Survey of Computer Methods\\'\\', which freely used the term data science in its survey of the contemporary data processing methods that are used in a wide range of applications.\\n\\nIn 1996, members of the International Federation of Classification Societies (IFCS) met in Kobe for their biennial conference. Here, for the first time, the term data science is included in the title of the conference (\"Data Science, classification, and related methods\"),<ref>{{cite web|url=https://www.forbes.com/sites/gilpress/2013/05/28/a-very-short-history-of-data-science/|title=A Very Short History Of Data Science|first=Gil|last=Press}}</ref> after the term was introduced in a roundtable discussion by Chikio Hayashi.<ref name=\"Hayashi\">{{Cite book|chapter-url=https://link.springer.com/chapter/10.1007/978-4-431-65950-1_3|url=https://www.springer.com/book/9784431702085|title=Data Science, Classification, and Related Methods|last=Hayashi|first=Chikio|date=1998-01-01|publisher=Springer Japan|isbn=9784431702085|editor-last=Hayashi|editor-first=Chikio|series=Studies in Classification, Data Analysis, and Knowledge Organization|location=|pages=40–51|language=en|chapter=What is Data Science? Fundamental Concepts and a Heuristic Example|doi=10.1007/978-4-431-65950-1_3|editor-last2=Yajima|editor-first2=Keiji|editor-last3=Bock|editor-first3=Hans-Hermann|editor-last4=Ohsumi|editor-first4=Noboru|editor-last5=Tanaka|editor-first5=Yutaka|editor-last6=Baba|editor-first6=Yasumasa}}</ref>\\n\\nIn November 1997, [[C.F. Jeff Wu]] gave the inaugural lecture entitled \"Statistics = Data Science?\"<ref name=\"cfjwutk\">{{cite web|last=Wu|first=C. F. J. (1997)|title=Statistics = Data Science?|url=http://www2.isye.gatech.edu/~jeffwu/presentations/datascience.pdf|\\naccessdate=9 October 2014}}</ref> for his appointment to the H. C. Carver Professorship at the [[University of Michigan]].<ref name=\"cfjwu01\">{{cite web|title=Identity of statistics in science examined|publisher=The University Records, 9 November 1997, The University of Michigan|url=http://ur.umich.edu/9899/Nov09_98/4.htm|accessdate=12 August 2013}}</ref>\\nIn this lecture, he characterized statistical work as a trilogy of data collection, data modeling and analysis, and decision making. In his conclusion,\\nhe initiated the modern, non-computer science, usage of the term \"data science\" and advocated that statistics be renamed data science and statisticians data scientists.<ref name=\"cfjwutk\"/>\\nLater, he presented his lecture entitled \"Statistics = Data Science?\" as the first of his 1998 P.C. Mahalanobis Memorial Lectures.<ref name=\"cfjwu02\">{{cite web|url=http://www.isical.ac.in/~statmath/html/pcm/pcm_recent.html|title=P.C. Mahalanobis Memorial Lectures, 7th series|last=|first=|date=|website=|publisher=P.C. Mahalanobis Memorial Lectures, Indian Statistical Institute|archive-url=https://web.archive.org/web/20131029191813/http://www.isical.ac.in/~statmath/html/pcm/pcm_recent.html|archive-date=26 Feb 2017|dead-url=|accessdate=18 Jul 2017}}</ref> These lectures honor [[Prasanta Chandra Mahalanobis]], an Indian scientist and statistician and founder of the [[Indian Statistical Institute]].\\n\\nIn 2001, William S. Cleveland introduced data science as an independent discipline, extending the field of statistics to incorporate \"advances in computing with data\" in his article \"Data Science: An Action Plan for Expanding the Technical Areas of the Field of Statistics,\" which was published in Volume 69, No. 1, of the April 2001 edition of the International Statistical Review / Revue Internationale de Statistique.<ref name=\"cleveland01\">Cleveland, W. S. (2001). [https://pdfs.semanticscholar.org/915c/d8e2b39eb02723553913d592b2237d4d9960.pdf Data science: an action plan for expanding the technical areas of the field of statistics]. International Statistical Review / Revue Internationale de Statistique, 21–26</ref> In his report, Cleveland establishes six technical areas which he believed to encompass the field of data science: multidisciplinary investigations, models and methods for data, computing with data, pedagogy, tool evaluation, and theory.\\n\\nIn April 2002, the International Council for Science (ICSU): Committee on Data for Science and Technology (CODATA)<ref name=\"ics12\">International Council for Science: Committee on Data for Science and Technology. (2012, April). CODATA, The Committee on Data for Science and Technology. Retrieved from International Council for Science : Committee on Data for Science and Technology: http://www.codata.org/</ref> started the \\'\\'Data Science Journal\\'\\',<ref name=\"dsj12\">Data Science Journal. (2012, April). Available Volumes. Retrieved from Japan Science and Technology Information Aggregator, Electronic: http://www.jstage.jst.go.jp/browse/dsj/_vols {{Webarchive|url=https://web.archive.org/web/20120403153707/http://www.jstage.jst.go.jp/browse/dsj/_vols |date=3 April 2012 }}</ref> a publication focused on issues such as the description of data systems, their publication on the internet, applications and legal issues.<ref name=\"dsj02\">Data Science Journal. (2002, April). Contents of Volume 1, Issue 1, April 2002. Retrieved from Japan Science and Technology Information Aggregator, Electronic: http://www.jstage.jst.go.jp/browse/dsj/1/0/_contents</ref> Shortly thereafter, in January 2003, Columbia University began publishing \\'\\'The Journal of Data Science\\'\\',<ref name=\"jds03\">The Journal of Data Science. (2003, January). Contents of Volume 1, Issue 1, January 2003. Retrieved from http://www.jds-online.com/v1-1</ref> which provided a platform for all data workers to present their views and exchange ideas. The journal was largely devoted to the application of statistical methods and quantitative research. In 2005, The National Science Board published \"Long-lived Digital Data Collections: Enabling Research and Education in the 21st Century\" defining data scientists as \"the information and computer scientists, database and software and programmers, disciplinary experts, curators and expert annotators, librarians, archivists, and others, who are crucial to the successful management of a digital data collection\" whose primary activity is to \"conduct creative inquiry and analysis.\"<ref>{{cite web|last=National Science Board|title=Long-Lived Digital Data Collections Enabling Research and Education in the 21st Century|url=http://www.nsf.gov/pubs/2005/nsb0540/|publisher=National Science Foundation|accessdate=30 June 2013}}</ref>\\n\\nAround 2007,{{Citation needed|date=April 2018|reason=or already in 2006? When was the most influential speech?}} Turing award winner [[Jim Gray (computer scientist)|Jim Gray]] envisioned \"data-driven science\" as a \"fourth paradigm\" of science that uses the computational analysis of large data as primary scientific method<ref name=\"TansleyTolle2009\" /><ref name=\"BellHey2009\" /> and \"to have a world in which all of the science literature is online, all of the science data is online, and they interoperate with each other.\"<ref>{{Cite news|url=https://www.nytimes.com/2009/12/15/science/15books.html|title=Essays Inspired by Microsoft’s Jim Gray, Who Saw Science Paradigm Shift|last=Markoff|first=John|date=2009-12-14|work=The New York Times|access-date=2018-04-26|language=en-US|issn=0362-4331}}</ref>\\n\\nIn the 2012 [[Harvard Business Review]] article \"Data Scientist: The Sexiest Job of the 21st Century\",<ref name=\"Harvard\">{{Citation|url=https://hbr.org/2012/10/data-scientist-the-sexiest-job-of-the-21st-century/|title=Data Scientist: The Sexiest Job of the 21st Century|publisher=[[Harvard Business Review]]|first1=Thomas H.|last1=Davenport|authorlink1=Thomas H. Davenport|first2=DJ|last2=Patil|authorlink2=DJ Patil|date=Oct 2012}}</ref> [[DJ Patil]] claims to have coined this term in 2008 with [[Jeff Hammerbacher]] to define their jobs at LinkedIn and Facebook, respectively. He asserts that a data scientist is \"a new breed\", and that a \"shortage of data scientists is becoming a serious constraint in some sectors\", but describes a much more business-oriented role.\\n\\nIn 2013, the IEEE Task Force on Data Science and Advanced Analytics<ref>{{Cite web|url=http://www.dsaa.co|title=IEEE Task Force on Data Science and Advanced Analytics|last=|first=|date=|website=|publisher=|access-date=}}</ref> was launched. In 2013, the first \"European Conference on Data Analysis (ECDA)\" was organised in Luxembourg, establishing the [http://euads.org European Association for Data Science (EuADS)]. The first international conference: IEEE International Conference on Data Science and Advanced Analytics was launched in 2014.<ref>{{Cite web|url=http://datamining.it.uts.edu.au/conferences/dsaa14/|title=2014 IEEE International Conference on Data Science and Advanced Analytics|last=|first=|date=|website=|publisher=|access-date=|archive-url=https://web.archive.org/web/20170329172857/http://datamining.it.uts.edu.au/conferences/dsaa14/|archive-date=29 March 2017|dead-url=yes|df=dmy-all}}</ref> In 2014, [[General Assembly (school)|General Assembly]] launched student-paid bootcamp and [[The Data Incubator]] launched a competitive free data science fellowship.<ref>{{cite news |newspaper=Venture Beat |title=NY gets new bootcamp for data scientists: It’s free, but harder to get into than Harvard |access-date=2016-02-22 |url=https://venturebeat.com/2014/04/15/ny-gets-new-bootcamp-for-data-scientists-its-free-but-harder-to-get-into-than-harvard/ }}</ref>  In 2014, the [[American Statistical Association]] section on Statistical Learning and Data Mining renamed its journal to \"Statistical Analysis and Data Mining: The ASA Data Science Journal\" and in 2016 changed its section name to \"Statistical Learning and Data Science\".<ref name=\"ASA\">{{Cite web|url=http://magazine.amstat.org/blog/2016/06/01/datascience-2/|title=ASA Expands Scope, Outreach to Foster Growth, Collaboration in Data Science|last=Talley|first=Jill|date=2016-06-01|website=AMSTATNEWS|publisher=[[American Statistical Association]]|archive-url=|archive-date=|dead-url=|access-date=2017-02-04}}</ref>  In 2015, the International Journal on Data Science and Analytics<ref>{{Cite web|url=https://www.springer.com/41060|title=Journal on Data Science and Analytics|last=|first=|date=|website=|publisher=|access-date=}}</ref> was launched by Springer to publish original work on data science and big data analytics.  In September 2015 the [http://www.gfkl.org/welcome/ Gesellschaft für Klassifikation (GfKl)] added to the name of the Society \"Data Science Society\" at the third ECDA conference at the [[University of Essex]], Colchester, UK.\\n\\n==Relationship to statistics==\\nThe popularity of the term \"data science\" has exploded in business environments and academia, as indicated by a jump in job openings.<ref>{{Cite news|url=http://fortune.com/2015/05/21/data-science-white-hot/|title=Data science is still white hot, but nothing lasts forever|last=Darrow|first=Barb|date=May 21, 2015|work=Fortune|access-date=November 20, 2017|archive-url=|archive-date=|dead-url=}}</ref> However, many critical academics and journalists see no distinction between data science and [[statistics]]. Writing in [[Forbes]], Gil Press argues that data science is a [[buzzword]] without a clear definition and has simply replaced “[[business analytics]]” in contexts such as graduate degree programs.<ref name=\"GilPress\">{{cite web|title=Data Science: What\\'s The Half-Life Of A Buzzword?|url=https://www.forbes.com/sites/gilpress/2013/08/19/data-science-whats-the-half-life-of-a-buzzword/|publisher=[[Forbes]]|date=2013-08-19}}</ref> In the question-and-answer section of his keynote address at the Joint Statistical Meetings of [[American Statistical Association]], noted applied statistician [[Nate Silver]] said, “I think data-scientist is a sexed up term for a statistician....Statistics is a branch of science. Data scientist is slightly redundant in some way and people shouldn’t berate the term statistician.”<ref name=\"NateSilver\">{{cite web|title=Nate Silver: What I need from statisticians|url=http://www.statisticsviews.com/details/feature/5133141/Nate-Silver-What-I-need-from-statisticians.html|date=23 Aug 2013}}</ref> Similarly, in business sector, multiple researchers and analysts state that data scientists alone are far from being sufficient in granting companies a real competitive advantage<ref>{{Cite journal|last=Miller|first=Steven|date=2014-04-10|title=Collaborative Approaches Needed to Close the Big Data Skills Gap|url=http://www.jorgdesign.net/article/view/9823|journal=Journal of Organization Design|language=en|volume=3|issue=1|pages=26–30|doi=10.7146/jod.9823|issn=2245-408X}}</ref> and consider data scientists as only one of the four greater job families companies require to leverage big data effectively, namely: data analysts, data scientists, big data [[Software Developer|developers]] and big data [[Software engineer|engineers]].<ref>{{Cite journal|last=De Mauro|first=Andrea|last2=Greco|first2=Marco|last3=Grimaldi|first3=Michele|last4=Ritala|first4=Paavo|title=Human resources for Big Data professions: A systematic classification of job roles and required skill sets|url=http://linkinghub.elsevier.com/retrieve/pii/S0306457317300018|journal=Information Processing & Management|doi=10.1016/j.ipm.2017.05.004}}</ref>\\n\\nOn the other hand, responses to criticism are as numerous. In a 2014 [[The Wall Street Journal|Wall Street Journal]] article, Irving Wladawsky-Berger compares the data science enthusiasm with the dawn of [[computer science]]. He argues data science, like any other [[Interdisciplinarity|interdisciplinary]] field, employs [[Methodology|methodologies]] and practices from across the [[Academy|academia]] and [[industry]], but then it will morph them into a new [[Discipline (academia)|discipline]]. He brings to attention the sharp criticisms computer science, now a well respected academic discipline, had to once face.<ref name=\":1\">{{Cite news|url=https://blogs.wsj.com/cio/2014/05/02/why-do-we-need-data-science-when-weve-had-statistics-for-centuries/|title=Why Do We Need Data Science When We’ve Had Statistics for Centuries?|last=Wladawsky-Berger|first=Irving|date=May 2, 2014|work=The Wall Street Journal|access-date=November 20, 2017|archive-url=|archive-date=|dead-url=}}</ref> Likewise, [[New York University|NYU]] [[NYU Stern Center for Business and Human Rights|Stern\\'s]] Vasant Dhar, as do many other academic proponents of data science,<ref name=\":1\" /> argues more specifically in December 2013 that data science is different from the existing practice of data analysis across all [[Discipline (academia)|disciplines]], which focuses only on explaining [[data set]]s. Data science seeks actionable and consistent [[Pattern recognition|pattern]] for [[Predictive modelling|predictive uses]].<ref name=\":0\" />  This practical engineering goal takes data science beyond traditional [[analytics]]. Now the data in those disciplines and [[Applied science|applied fields]] that lacked solid [[Theory|theories]], like [[health science]] and [[social science]], could be sought and utilized to generate powerful predictive models.<ref name=\":0\" />\\n\\nIn an effort similar to Dhar\\'s, Stanford professor [[David Donoho]], in September 2015, takes the proposition further by rejecting three simplistic and misleading definitions of data science in lieu of criticisms.<ref name=\":2\">{{Cite journal|last=Donoho|first=David|date=September 2015|title=50 Years of Data Science|url=http://courses.csail.mit.edu/18.337/2015/docs/50YearsDataScience.pdf|journal=Based on a talk at Tukey Centennial workshop, Princeton NJ Sept 18 2015|volume=|pages=|via=}}</ref> First, for Donoho, data science does not equate to [[big data]], in that the size of the data set is not a criterion to distinguish data science and statistics.<ref name=\":2\" /> Second, data science is not defined by the [[computing]] skills of sorting big data sets, in that these skills are already generally used for analyses across all disciplines.<ref name=\":2\" /> Third, data science is a heavily applied field where [[Graduate school|academic programs]] right now do not sufficiently prepare data scientists for the jobs, in that many [[Graduate school|graduate programs]] misleadingly advertise their analytics and statistics training as the essence of a data science program.<ref name=\":2\" /><ref>{{Cite book|title=The Culture of Big Data|last=Barlow|first=Mike|publisher=O\\'Reilly Media, Inc.|year=2013|isbn=|location=|pages=}}</ref> As a [[statistician]], [[David Donoho|Donoho]], following many in his field, champions the broadening of learning scope in the form of data science,<ref name=\":2\" /> like John Chambers who urges statisticians to adopt an inclusive concept of learning from data,<ref>{{Cite journal|last=Chambers|first=John M.|date=1993-12-01|title=Greater or lesser statistics: a choice for future research|url=https://link.springer.com/article/10.1007/BF00141776|journal=Statistics and Computing|language=en|volume=3|issue=4|pages=182–184|doi=10.1007/BF00141776|issn=0960-3174}}</ref> or like William Cleveland who urges to prioritize extracting from data applicable [[Predictive modelling|predictive tools]] over [[Explanatory model|explanatory theories.]]<ref name=\"cleveland01\" /> Together, these [[statistician]]s envision an increasingly inclusive applied field that grows out of traditional [[statistics]] and beyond.\\n\\nFor the future of data science, Donoho projects an ever-growing environment for [[open science]] where data sets used for [[Academic publishing|academic publications]] are accessible to all researchers.<ref name=\":2\" /> [[National Institutes of Health|US National Institute of Health]] has already announced plans to enhance reproducibility and transparency of research data.<ref>{{Cite journal|last=Collins|first=Francis S.|last2=Tabak|first2=Lawrence A.|date=2014-01-30|title=NIH plans to enhance reproducibility|journal=Nature|volume=505|issue=7485|pages=612–613|issn=0028-0836|pmc=4058759|pmid=24482835|doi=10.1038/505612a}}</ref> Other big [[Academic journal|journals]] are likewise following suit.<ref>{{Cite journal|last=McNutt|first=Marcia|date=2014-01-17|title=Reproducibility|url=http://science.sciencemag.org/content/343/6168/229|journal=Science|language=en|volume=343|issue=6168|pages=229–229|doi=10.1126/science.1250475|issn=0036-8075|pmid=24436391}}</ref><ref>{{Cite journal|last=Peng|first=Roger D.|date=2009-07-01|title=Reproducible research and Biostatistics|url=https://academic.oup.com/biostatistics/article/10/3/405/293660|journal=Biostatistics|language=en|volume=10|issue=3|pages=405–408|doi=10.1093/biostatistics/kxp014|issn=1465-4644}}</ref> This way, the future of data science not only exceeds the boundary of [[Statistical theory|statistical theories]] in scale and methodology, but data science will revolutionize current academia and [[Paradigm|research paradigms]].<ref name=\":2\" /> As Donoho concludes, \"the scope and impact of data science will continue to expand enormously in coming decades as scientific data and data about science itself become ubiquitously available.\"<ref name=\":2\" />\\n\\n==References==\\n{{Reflist|35em}}\\n\\n[[Category:Information science]]\\n[[Category:Computer occupations]]\\n[[Category:Computational fields of study]]\\n[[Category:Data analysis]]'"
      ]
     },
     "execution_count": 40,
     "metadata": {},
     "output_type": "execute_result"
    }
   ],
   "source": [
    "text"
   ]
  },
  {
   "cell_type": "code",
   "execution_count": 41,
   "metadata": {},
   "outputs": [],
   "source": [
    "import re\n",
    "\n",
    "def clean_template_name(x):\n",
    "    return str(x.name).lower().strip().replace(\" \", \"_\").replace(\"-\", \"_\")\n",
    "    \n",
    "def is_image(x):\n",
    "    _RE_IMAGE = re.compile('^(?:File|Image|Media):', flags=re.I)    \n",
    "    return _RE_IMAGE.match(str(x.title))\n",
    "\n",
    "def get_images(x):\n",
    "    for cat in x.ifilter_wikilinks():\n",
    "        if is_image(x):\n",
    "            yield x\n",
    "\n",
    "def is_category(x):\n",
    "    _RE_CATEGORY = re.compile('^Category:', flags=re.I)\n",
    "    return _RE_CATEGORY.match(str(x.title))\n",
    "\n",
    "def get_categories(x):\n",
    "    for cat in x.ifilter_wikilinks():\n",
    "        if is_category(x):\n",
    "            yield x\n",
    "            \n",
    "def is_ref(x):\n",
    "    if is_tag(x, \"ref$\"):\n",
    "        return True\n",
    "    if is_template(x, pattern=\"(ref|note)$\"):\n",
    "        return True\n",
    "    return False\n",
    "\n",
    "def is_tag(x, pattern=None):\n",
    "    out = isinstance(x, mwparser.nodes.Tag)\n",
    "    if out and pattern is not None:\n",
    "        out = re.match(pattern, str(x.tag), re.I)\n",
    "    return out\n",
    "\n",
    "def is_heading(x):\n",
    "    return isinstance(x, mwparser.nodes.Heading)\n",
    "\n",
    "def is_wikilink(x):\n",
    "    return isinstance(x, mwparser.nodes.Wikilink)\n",
    "\n",
    "def is_template(x, pattern=None):\n",
    "    out = isinstance(x, mwparser.nodes.Template)\n",
    "    if out and pattern is not None:\n",
    "        out = re.match(pattern, clean_template_name(x), re.I)\n",
    "    return out\n",
    "\n",
    "class WikicodeConverter:\n",
    " \n",
    "    def __init__(self, parser = mwparser.parser.Parser(), tags_keep=[], tags_remove=[],\n",
    "                 templates_keep=[], templates_remove=[], headings_remove=[]):\n",
    "        self._parser = parser\n",
    "        self.tags_keep = tags_keep\n",
    "        self.tags_remove = tags_remove\n",
    "        self.templates_keep = templates_keep\n",
    "        self.templates_remove = templates_remove\n",
    "        self.headings_remove = headings_remove\n",
    "      \n",
    "    def _strip_tag(self, x):\n",
    "        tag = x.tag.lower().strip()\n",
    "        if tag in self.tags_keep:\n",
    "            out = f\"<{tag.tag}>\"\n",
    "        elif tag in self.tags_remove:\n",
    "            out = None\n",
    "        else:\n",
    "            out = x.__strip__()\n",
    "        return out\n",
    "    \n",
    "    def _strip_template(self, x):\n",
    "        name = clean_template_name(x)\n",
    "        if (self.templates_keep and \n",
    "            re.match('|'.join(self.templates_keep), name)):\n",
    "            out = \"{{\" + name + \"}}\"\n",
    "        elif re.match(\"|\".join(self.templates_remove), name):\n",
    "            out = None\n",
    "        else:\n",
    "            out = x.__strip__()\n",
    "        return out    \n",
    "    \n",
    "    def _span(self, i, text, label=None):\n",
    "        if text is None:\n",
    "            start = max(0, i - 1)\n",
    "            end = max(1, i)\n",
    "        else:\n",
    "            start = i\n",
    "            end = len(text)\n",
    "        return {'start': start, 'end': end, 'label': label}\n",
    "    \n",
    "    def convert(self, content):\n",
    "        \"\"\"Convert Wiki markup to plain text.\"\"\"\n",
    "        wikicode = mwparser.parse(content)\n",
    "        texts = []\n",
    "        references = []\n",
    "        templates = []\n",
    "        # then concatenate the stripped text of each section\n",
    "        tok = 0\n",
    "        for i, section in enumerate(wikicode.get_sections(flat=True, include_lead=True, include_headings=True)):\n",
    "            # ignore headers\n",
    "            headings = section.filter_headings()\n",
    "            if len(headings) and str(headings[0].title).strip().lower() in self.headings_remove:\n",
    "                continue\n",
    "            for node in section.nodes:\n",
    "                nodestr = None\n",
    "                # references needs to preceed tags and templates since they\n",
    "                # have both forms\n",
    "                if is_ref(node):\n",
    "                    nodestr = \" \"\n",
    "                    references.append(tok)\n",
    "                elif is_tag(node):\n",
    "                    if str(node.tag).lower() in (\"table\", \"img\"):\n",
    "                        nodestr = None       \n",
    "                    else:\n",
    "                        nodestr = self._strip_tag(node)\n",
    "                elif is_template(node):\n",
    "                    nodestr = self._strip_template(node)\n",
    "                    if nodestr is None or not len(nodestr):\n",
    "                        nodestr = \" \"\n",
    "                    templates.append(self._span(tok, nodestr, clean_template_name(node)))\n",
    "                elif is_category(node) or is_image(node):\n",
    "                    pass\n",
    "                elif is_heading(node):\n",
    "                    nodestr = None\n",
    "                else:\n",
    "                    nodestr = str(node.__strip__(normalize=True))\n",
    "                if nodestr is not None:\n",
    "                    tok += len(nodestr)\n",
    "                    texts.append(nodestr)\n",
    "        return {'text': ''.join(texts), 'references': references, 'templates': templates}\n"
   ]
  },
  {
   "cell_type": "code",
   "execution_count": 42,
   "metadata": {},
   "outputs": [],
   "source": [
    "templates_keep = []\n",
    "converter = WikicodeConverter(tags_remove=[\"img\", \"table\"],\n",
    "                              templates_remove=[\"infobox\", \"reflist\", \"notelist\"],\n",
    "                              headings_remove=[\"see also\", \"bibliography\", \"references\", \"external links\"])"
   ]
  },
  {
   "cell_type": "code",
   "execution_count": 43,
   "metadata": {},
   "outputs": [],
   "source": [
    "cleaned = converter.convert(text)"
   ]
  },
  {
   "cell_type": "code",
   "execution_count": 51,
   "metadata": {},
   "outputs": [],
   "source": [
    "import spacy\n",
    "nlp = spacy.load('en_core_web_sm')\n",
    "doc = nlp(cleaned['text'])"
   ]
  },
  {
   "cell_type": "code",
   "execution_count": 47,
   "metadata": {},
   "outputs": [],
   "source": [
    "from spacy.tokens import Token\n",
    "\n",
    "Token.set_extension('reference', default=False, force=True)\n",
    "references = cleaned['references']\n",
    "for tok in reversed(doc):\n",
    "    if len(references) and not tok.is_space and tok.idx <= references[-1]:\n",
    "        # this is needed to handle multiple references\n",
    "        while len(references) and tok.idx <= references[-1]:\n",
    "            references.pop()\n",
    "        tok._.set('reference', True)"
   ]
  },
  {
   "cell_type": "code",
   "execution_count": 48,
   "metadata": {},
   "outputs": [
    {
     "name": "stdout",
     "output_type": "stream",
     "text": [
      ". True\n",
      ". True\n",
      ", True\n",
      ", True\n",
      "\" True\n",
      ". True\n",
      "\" True\n",
      ". True\n",
      ". True\n",
      ". True\n",
      ", True\n",
      ". True\n",
      "\" True\n",
      ". True\n",
      ". True\n",
      ". True\n",
      ". True\n",
      ") True\n",
      ", True\n",
      ". True\n",
      ", True\n",
      "\" True\n",
      "method True\n",
      "\" True\n",
      ", True\n",
      "Analytics True\n",
      ". True\n",
      ". True\n",
      ". True\n",
      "Analytics True\n",
      ". True\n",
      ". True\n",
      "” True\n",
      "advantage True\n",
      ". True\n",
      ". True\n",
      ", True\n",
      ". True\n",
      ". True\n",
      ". True\n",
      ". True\n",
      ". True\n",
      ". True\n",
      ", True\n",
      ", True\n",
      ". True\n",
      ". True\n",
      ". True\n",
      ". True\n",
      ". True\n",
      "\" True\n"
     ]
    }
   ],
   "source": [
    "for tok in doc:\n",
    "    if tok._.get('reference'):\n",
    "        print(tok, tok._.get('reference'))"
   ]
  },
  {
   "cell_type": "code",
   "execution_count": 49,
   "metadata": {},
   "outputs": [],
   "source": [
    "for i in cleaned['references']:\n",
    "    print(i, [tok for tok in doc if tok.idx <= i and not tok.is_whitespace][-1])"
   ]
  },
  {
   "cell_type": "code",
   "execution_count": null,
   "metadata": {},
   "outputs": [],
   "source": [
    "tok.whitespace"
   ]
  },
  {
   "cell_type": "code",
   "execution_count": null,
   "metadata": {},
   "outputs": [],
   "source": [
    "tok = doc[0]"
   ]
  },
  {
   "cell_type": "code",
   "execution_count": null,
   "metadata": {},
   "outputs": [],
   "source": [
    "tok.is_space"
   ]
  },
  {
   "cell_type": "code",
   "execution_count": null,
   "metadata": {},
   "outputs": [],
   "source": [
    "[tok for tok in doc]"
   ]
  },
  {
   "cell_type": "code",
   "execution_count": null,
   "metadata": {},
   "outputs": [],
   "source": []
  }
 ],
 "metadata": {
  "kernelspec": {
   "display_name": "Python 3",
   "language": "python",
   "name": "python3"
  },
  "language_info": {
   "codemirror_mode": {
    "name": "ipython",
    "version": 3
   },
   "file_extension": ".py",
   "mimetype": "text/x-python",
   "name": "python",
   "nbconvert_exporter": "python",
   "pygments_lexer": "ipython3",
   "version": "3.6.3"
  }
 },
 "nbformat": 4,
 "nbformat_minor": 2
}
