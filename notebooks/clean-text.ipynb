{
 "cells": [
  {
   "cell_type": "code",
   "execution_count": 4,
   "metadata": {},
   "outputs": [],
   "source": [
    "import mwparserfromhell as mwparser\n",
    "import gzip\n",
    "import json"
   ]
  },
  {
   "cell_type": "code",
   "execution_count": 5,
   "metadata": {},
   "outputs": [],
   "source": [
    "import re\n",
    "\n",
    "def clean_template_name(x):\n",
    "    return str(x.name).lower().strip().replace(\" \", \"_\").replace(\"-\", \"_\")\n",
    "\n",
    "class WikicodeConverter:\n",
    "    _RE_IMAGE = re.compile('^(?:File|Image|Media):', flags=re.I)\n",
    "    _RE_CATEGORY = re.compile('^Category:', flags=re.I)\n",
    " \n",
    "    def __init__(self, parser = mwparser.parser.Parser(), tags_keep=[], tags_remove=[],\n",
    "                 templates_keep=[], templates_remove=[]):\n",
    "        self._parser = parser\n",
    "        self.tags_keep = tags_keep\n",
    "        self.tags_remove = tags_remove\n",
    "        self.templates_keep = templates_keep\n",
    "        self.templates_remove = templates_remove\n",
    "      \n",
    "    def _strip_tag(self, x):\n",
    "        tag = x.tag.lower().strip()\n",
    "        if tag in self.tags_keep:\n",
    "            out = f\"<{tag.tag}>\"\n",
    "        elif tag in self.tags_remove:\n",
    "            out = None\n",
    "        else:\n",
    "            out = x.__strip__()\n",
    "        return out\n",
    "    \n",
    "    def _strip_template(self, x):\n",
    "        name = str(x.name).lower().strip().replace(\" \", \"_\")\n",
    "        print(name)\n",
    "        if (self.templates_keep and \n",
    "            re.match('|'.join(self.templates_keep), name)):\n",
    "            out = \"{{\" + name + \"}}\"\n",
    "        elif re.match(\"|\".join(self.templates_remove), name):\n",
    "            out = None\n",
    "        else:\n",
    "            out = x.__strip__()\n",
    "        return out    \n",
    "    \n",
    "    def _is_image(self, x):\n",
    "        return self._is_wikilink(x) and self._RE_IMAGE.match(str(x.title))\n",
    "    \n",
    "    def _is_category(self, x):\n",
    "        return self._is_wikilink(x) and self._RE_CATEGORY.match(str(x.title))\n",
    "\n",
    "    def _is_ref(self, x):\n",
    "        if self._is_tag(x, \"ref$\"):\n",
    "            return True\n",
    "        if self._is_template(x, pattern=\"(ref|note)$\"):\n",
    "            return True\n",
    "        return False\n",
    "    \n",
    "    def _is_tag(self, x, pattern=None):\n",
    "        out = isinstance(x, mwparser.nodes.Tag)\n",
    "        if out and pattern is not None:\n",
    "            out = re.match(pattern, str(x.tag), re.I)\n",
    "        return out\n",
    "    \n",
    "    def _is_heading(self, x):\n",
    "        return isinstance(x, mwparser.nodes.Heading)\n",
    "    \n",
    "    def _is_wikilink(self, x):\n",
    "        return isinstance(x, mwparser.nodes.Wikilink)\n",
    "\n",
    "    def _is_template(self, x, pattern=None):\n",
    "        out = isinstance(x, mwparser.nodes.Template)\n",
    "        if out and pattern is not None:\n",
    "            out = re.match(pattern, clean_template_name(x), re.I)\n",
    "        return out\n",
    "    \n",
    "    def convert(self, content):\n",
    "        \"\"\"Convert Wiki markup to plain text.\"\"\"\n",
    "        wikicode = mwparser.parse(content)\n",
    "        texts = []\n",
    "        # then concatenate the stripped text of each section\n",
    "        for i, section in enumerate(wikicode.get_sections(flat=True, include_lead=True, include_headings=True)):\n",
    "            section_text = []\n",
    "            for node in section.nodes:\n",
    "                # references needs to preceed tags and templates since they\n",
    "                # have both forms\n",
    "                if self._is_ref(node):\n",
    "                    nodestr = \"<ref>\"\n",
    "                elif self._is_tag(node):\n",
    "                    if str(node.tag).lower() == \"table\":\n",
    "                        nodestr = None\n",
    "                    else:\n",
    "                        nodestr = self._strip_tag(node)\n",
    "                elif self._is_template(node):\n",
    "                    nodestr = self._strip_template(node)\n",
    "                elif self._is_category(node) or self._is_image(node):\n",
    "                    nodestr = None\n",
    "                elif self._is_heading(node):\n",
    "                    nodestr = \"{level} {title} {level}\\n\".format(level='=' * node.level, title=str(node.title))\n",
    "                else:\n",
    "                    nodestr = str(node.__strip__(normalize=True))\n",
    "                if nodestr is not None:\n",
    "                    section_text.append(str(nodestr))\n",
    "            section_text = ''.join(section_text)\n",
    "            # remove redundant multiple references\n",
    "            section_text = re.sub('<ref>(\\\\s*<ref>)*', ' <ref> ', section_text)\n",
    "            texts.append(section_text)\n",
    "        return ''.join(texts)\n"
   ]
  },
  {
   "cell_type": "code",
   "execution_count": 10,
   "metadata": {},
   "outputs": [
    {
     "ename": "NameError",
     "evalue": "name 'rev' is not defined",
     "output_type": "error",
     "traceback": [
      "\u001b[0;31m---------------------------------------------------------------------------\u001b[0m",
      "\u001b[0;31mNameError\u001b[0m                                 Traceback (most recent call last)",
      "\u001b[0;32m<ipython-input-10-b6d52691de09>\u001b[0m in \u001b[0;36m<module>\u001b[0;34m()\u001b[0m\n\u001b[1;32m      1\u001b[0m \u001b[0mtemplates_keep\u001b[0m \u001b[0;34m=\u001b[0m \u001b[0;34m[\u001b[0m\u001b[0;34m\"citation_needed$\"\u001b[0m\u001b[0;34m,\u001b[0m \u001b[0;34m\"peacock_term$\"\u001b[0m\u001b[0;34m,\u001b[0m \u001b[0;34m\"weasel_inline$\"\u001b[0m\u001b[0;34m,\u001b[0m \u001b[0;34m\"vague$\"\u001b[0m\u001b[0;34m,\u001b[0m \u001b[0;34m\"lopsided$\"\u001b[0m\u001b[0;34m,\u001b[0m \u001b[0;34m\"pov_statement$\"\u001b[0m\u001b[0;34m,\u001b[0m \u001b[0;34m\"dubious$\"\u001b[0m\u001b[0;34m]\u001b[0m\u001b[0;34m\u001b[0m\u001b[0m\n\u001b[1;32m      2\u001b[0m \u001b[0mconverter\u001b[0m \u001b[0;34m=\u001b[0m \u001b[0mWikicodeConverter\u001b[0m\u001b[0;34m(\u001b[0m\u001b[0mtags_remove\u001b[0m\u001b[0;34m=\u001b[0m\u001b[0;34m[\u001b[0m\u001b[0;34m\"img\"\u001b[0m\u001b[0;34m,\u001b[0m \u001b[0;34m\"table\"\u001b[0m\u001b[0;34m]\u001b[0m\u001b[0;34m,\u001b[0m \u001b[0mtemplates_remove\u001b[0m\u001b[0;34m=\u001b[0m\u001b[0;34m[\u001b[0m\u001b[0;34m\"infobox\"\u001b[0m\u001b[0;34m,\u001b[0m \u001b[0;34m\"reflist\"\u001b[0m\u001b[0;34m,\u001b[0m \u001b[0;34m\"notelist\"\u001b[0m\u001b[0;34m]\u001b[0m\u001b[0;34m)\u001b[0m\u001b[0;34m\u001b[0m\u001b[0m\n\u001b[0;32m----> 3\u001b[0;31m \u001b[0mcleaned\u001b[0m \u001b[0;34m=\u001b[0m \u001b[0;34m''\u001b[0m\u001b[0;34m.\u001b[0m\u001b[0mjoin\u001b[0m\u001b[0;34m(\u001b[0m\u001b[0mconverter\u001b[0m\u001b[0;34m.\u001b[0m\u001b[0mconvert\u001b[0m\u001b[0;34m(\u001b[0m\u001b[0mrev\u001b[0m\u001b[0;34m[\u001b[0m\u001b[0;34m'wikitext'\u001b[0m\u001b[0;34m]\u001b[0m\u001b[0;34m)\u001b[0m\u001b[0;34m)\u001b[0m\u001b[0;34m\u001b[0m\u001b[0m\n\u001b[0m",
      "\u001b[0;31mNameError\u001b[0m: name 'rev' is not defined"
     ]
    }
   ],
   "source": [
    "templates_keep = [\"citation_needed$\", \"peacock_term$\", \"weasel_inline$\", \"vague$\", \"lopsided$\", \"pov_statement$\", \"dubious$\"]\n",
    "converter = WikicodeConverter(tags_remove=[\"img\", \"table\"], templates_remove=[\"infobox\", \"reflist\", \"notelist\"])\n",
    "cleaned = ''.join(converter.convert(rev['wikitext']))"
   ]
  },
  {
   "cell_type": "code",
   "execution_count": 34,
   "metadata": {},
   "outputs": [],
   "source": [
    "import spacy\n",
    "nlp = spacy.load('en_core_web_lg')\n"
   ]
  },
  {
   "cell_type": "code",
   "execution_count": 35,
   "metadata": {},
   "outputs": [],
   "source": [
    "from spacy.symbols import ORTH, LEMMA, POS, TAG\n",
    "\n",
    "for i in range(2, 6):\n",
    "    nlp.tokenizer.add_special_case('=' * i, [{ORTH: '=' * i, TAG: 'SYM'}])\n",
    "tags = ['ref']\n",
    "for tag in tags:\n",
    "    nlp.tokenizer.add_special_case(f\"<{tag}>\", [{ORTH: f\"<{tag}>\", TAG: 'SYM'}])\n"
   ]
  },
  {
   "cell_type": "code",
   "execution_count": 37,
   "metadata": {},
   "outputs": [
    {
     "name": "stdout",
     "output_type": "stream",
     "text": [
      "\n",
      "M-116 is a  long state trunkline highway in the US state of Michigan that begins in Ludington at an intersection with US Highway 10 (US 10) at James Street and Ludington Avenue.\n",
      "The road travels northward, much of it along the shore of Lake Michigan before reaching its terminus at the entrance to Ludington State Park.\n",
      "The roadway has been in the state highway system since the late 1920s.\n",
      "It has been realigned a few times, most recently in the late 1990s.\n",
      "\n",
      "\n",
      "== Route description ==\n",
      "\n",
      "M-116 begins in Ludington at the intersection of James Street and Ludington Avenue.\n",
      "It is at this intersection where US 10 turns southward and heads to the Ludington–Manitowoc ferry docks.  \n",
      "From here, M-116 continues westward along Ludington Avenue through a mixed commercial area for about one-half mile (0.8 km) before turning north on Lakeshore Drive.\n",
      "The road continues as North Lakeshore Drive  through resident areas and pass the Lakeview Cemetery.\n",
      "Before passing the Lincoln Hills Golf Club, M-116 crosses a narrow section of Lincoln Lake and then curves westward towards the shore of Lake Michigan as it approaches the state park.\n",
      "The route runs along the coast of Lake Michigan for the remainder of its route, through an area of sand dunes, until reaching its northern terminus at the entrance to Ludington State Park.\n",
      "<ref> \n",
      "\n",
      "\n",
      "Ludington State Park is bound to the west by Lake Michigan, the north by sand dunes and to the east by Hamlin Lake.  \n",
      "As such, M-116 provides the only road access to the park from the south.  \n",
      "The park encompasses  offering biking, hiking, fishing, tubing, boating and ice skating in the winter. <ref>  \n",
      "The park is also home to the  tall Big Sable Point Lighthouse, built in 1867, which is listed on the National Register of Historic Places.\n",
      "<ref> \n",
      "\n",
      "\n",
      "\n",
      "The highway is maintained by the Michigan  Department of Transportation (MDOT), which is responsible for maintaining and constructing transportation infrastructure in the state, including highways.\n",
      "As part of this role, the department periodically conducts surveys on their highways to measure traffic volume.\n",
      "This is expressed in terms of average annual daily traffic (AADT), which is a measure of traffic volume for any average day of the year.\n",
      "In 2009, MDOT calculated that  7,377 vehicles used the southern section of M-116 daily near the US 10 junction.\n",
      "On the north end, only 859 vehicles used the roadway near the state park entrance each day. <ref>  \n",
      "The highway has not been listed on the National Highway System, <ref>  a network of roads important to the country's economy, defense, and mobility.\n",
      "<ref> \n",
      "\n",
      "\n",
      "==\n",
      "History\n",
      "==\n",
      "\n",
      "M-116 was first designated in May or  June 1928 from the north city limit of Ludington north to the Sable River, but not all of it was built and open to traffic.\n",
      "<ref>  \n",
      "It was extended southerly in 1931 into the city of Ludington to US 10. <ref>  \n",
      "There was a new alignment closer to the lakeshore opened in early 1933. <ref>  \n",
      "The northern end was extended in late 1935 to encompass the Big Sable River bridge.\n",
      "<ref>  \n",
      "The last change to the routing was made in 1998 when US 10 was shifted to follow James Street instead of William Street to the car ferry docks.\n",
      "At that time, M-116 was extended east along Ludington Avenue to end at James Street. <ref> \n",
      "\n",
      "\n",
      "==\n",
      "Major intersections ==\n",
      "\n",
      "\n",
      "\n",
      "\n",
      "\n",
      "\n",
      "== See also ==\n",
      "\n",
      "\n",
      "\n",
      "Nordhouse Dunes Wilderness\n",
      "\n",
      "== References ==\n",
      "\n",
      "\n",
      "\n",
      "== External links ==\n",
      "\n",
      "M-116 at Michigan Highways\n",
      "M-116 at Michigan Highway Ends\n",
      "\n",
      "\n",
      "\n"
     ]
    }
   ],
   "source": [
    "for tok in nlp(cleaned).sents:\n",
    "    print(tok)"
   ]
  },
  {
   "cell_type": "code",
   "execution_count": 114,
   "metadata": {},
   "outputs": [
    {
     "data": {
      "text/plain": [
       "0"
      ]
     },
     "execution_count": 114,
     "metadata": {},
     "output_type": "execute_result"
    }
   ],
   "source": [
    "parsed.filter_templates()"
   ]
  }
 ],
 "metadata": {
  "kernelspec": {
   "display_name": "Python 3",
   "language": "python",
   "name": "python3"
  },
  "language_info": {
   "codemirror_mode": {
    "name": "ipython",
    "version": 3
   },
   "file_extension": ".py",
   "mimetype": "text/x-python",
   "name": "python",
   "nbconvert_exporter": "python",
   "pygments_lexer": "ipython3",
   "version": "3.6.3"
  }
 },
 "nbformat": 4,
 "nbformat_minor": 2
}
