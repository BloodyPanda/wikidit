{
 "cells": [
  {
   "cell_type": "code",
   "execution_count": 6,
   "metadata": {},
   "outputs": [],
   "source": [
    "import mwxml\n",
    "import bz2\n",
    "import sqlalchemy_utils"
   ]
  },
  {
   "cell_type": "code",
   "execution_count": 7,
   "metadata": {},
   "outputs": [],
   "source": [
    "input_file = \"../data/dumps.wikipedia.org/enwiki/20180901/enwiki-20180901-pages-articles.xml.bz2\""
   ]
  },
  {
   "cell_type": "code",
   "execution_count": 18,
   "metadata": {},
   "outputs": [],
   "source": [
    "from sqlalchemy import create_engine, Column, MetaData, Table, BigInteger, DateTime, Integer, String, Boolean"
   ]
  },
  {
   "cell_type": "code",
   "execution_count": 22,
   "metadata": {},
   "outputs": [],
   "source": [
    "metadata = MetaData()\n",
    "\n",
    "revisions = Table('revisions', metadata,\n",
    "    Column('rev_id', BigInteger(), primary_key = True),\n",
    "    Column('timestamp', DateTime()),\n",
    "    Column('user_id', Integer()),\n",
    "    Column('user_text', String(255)),\n",
    "    Column('page_id', BigInteger()),\n",
    "    Column('page_title', String()),\n",
    "    Column('page_namespace', Integer()),\n",
    "    Column('page_redirect', String(255)),\n",
    "    Column('is_redirect', Boolean()),\n",
    "    Column('minor', Boolean()),\n",
    "    Column('comment', String(767)),\n",
    "    Column('text', String()),\n",
    "    Column('sha1', String(40)),\n",
    "    Column('parent_id', Integer()),\n",
    "    Column('deleted_text', Boolean()),\n",
    "    Column('deleted_comment', String(767)),\n",
    "    Column('deleted_user', String(255)))\n"
   ]
  },
  {
   "cell_type": "code",
   "execution_count": 23,
   "metadata": {},
   "outputs": [],
   "source": [
    "wikilinks = Table('wikilinks', metadata,\n",
    "    Column('name', String()),\n",
    "    Column('count', String()))"
   ]
  },
  {
   "cell_type": "code",
   "execution_count": 24,
   "metadata": {},
   "outputs": [],
   "source": [
    "templates = Table('templates', metadata,\n",
    "    Column('name', String()),\n",
    "    Column('count', String()))"
   ]
  },
  {
   "cell_type": "code",
   "execution_count": null,
   "metadata": {},
   "outputs": [],
   "source": [
    "engine = create_engine(f\"postgresql://postgres:password12345@db:5432/enwiki\")"
   ]
  },
  {
   "cell_type": "code",
   "execution_count": 25,
   "metadata": {},
   "outputs": [],
   "source": [
    "import itertools\n",
    "with bz2.open(input_file, \"rt\") as f:\n",
    "    dump = mwxml.Dump.from_file(f)\n",
    "    for page in dump.pages:\n",
    "        for rev in page:\n",
    "            revdict = rev.to_json()"
   ]
  },
  {
   "cell_type": "code",
   "execution_count": 14,
   "metadata": {},
   "outputs": [
    {
     "data": {
      "text/plain": [
       "{'id': 854851586,\n",
       " 'timestamp': '2018-08-14T06:47:24Z',\n",
       " 'user': {'id': 23257138, 'text': 'Godsy'},\n",
       " 'page': {'id': 10,\n",
       "  'title': 'AccessibleComputing',\n",
       "  'namespace': 0,\n",
       "  'redirect': 'Computer accessibility',\n",
       "  'restrictions': []},\n",
       " 'minor': False,\n",
       " 'comment': 'remove from category for seeking instructions on rcats',\n",
       " 'text': '#REDIRECT [[Computer accessibility]]\\n\\n{{R from move}}\\n{{R from CamelCase}}\\n{{R unprintworthy}}',\n",
       " 'sha1': '42l0cvblwtb4nnupxm6wo000d27t6kf',\n",
       " 'parent_id': 834079434,\n",
       " 'model': 'wikitext',\n",
       " 'format': 'text/x-wiki',\n",
       " 'deleted': {'text': False, 'comment': False, 'user': False}}"
      ]
     },
     "execution_count": 14,
     "metadata": {},
     "output_type": "execute_result"
    }
   ],
   "source": []
  },
  {
   "cell_type": "code",
   "execution_count": null,
   "metadata": {},
   "outputs": [],
   "source": []
  }
 ],
 "metadata": {
  "kernelspec": {
   "display_name": "Python 3",
   "language": "python",
   "name": "python3"
  },
  "language_info": {
   "codemirror_mode": {
    "name": "ipython",
    "version": 3
   },
   "file_extension": ".py",
   "mimetype": "text/x-python",
   "name": "python",
   "nbconvert_exporter": "python",
   "pygments_lexer": "ipython3",
   "version": "3.6.3"
  }
 },
 "nbformat": 4,
 "nbformat_minor": 2
}
