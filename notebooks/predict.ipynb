{
 "cells": [
  {
   "cell_type": "code",
   "execution_count": 4,
   "metadata": {},
   "outputs": [],
   "source": [
    "import mwparserfromhell as mwparser\n",
    "import gzip\n",
    "import json"
   ]
  },
  {
   "cell_type": "code",
   "execution_count": 5,
   "metadata": {},
   "outputs": [],
   "source": [
    "input_file = \"../data/labelled.enwiki.w_text.ndjson.gz\"\n",
    "with gzip.open(\"../data/labelled.enwiki.w_text.ndjson.gz\", \"rt\") as f:\n",
    "    revisions = [json.loads(line) for line in f]"
   ]
  },
  {
   "cell_type": "code",
   "execution_count": 6,
   "metadata": {},
   "outputs": [],
   "source": [
    "rev = revisions[0]"
   ]
  },
  {
   "cell_type": "code",
   "execution_count": 7,
   "metadata": {},
   "outputs": [],
   "source": [
    "parsed = mwparser.parse(rev['wikitext'])"
   ]
  },
  {
   "cell_type": "code",
   "execution_count": 1,
   "metadata": {},
   "outputs": [
    {
     "ename": "SyntaxError",
     "evalue": "invalid syntax (<ipython-input-1-3b7b76918ac8>, line 64)",
     "output_type": "error",
     "traceback": [
      "\u001b[0;36m  File \u001b[0;32m\"<ipython-input-1-3b7b76918ac8>\"\u001b[0;36m, line \u001b[0;32m64\u001b[0m\n\u001b[0;31m    categories = wikilink_title_matches(\"Category\\:\", link) for link in self._parsed.filter_wikilinks()]\u001b[0m\n\u001b[0m                                                              ^\u001b[0m\n\u001b[0;31mSyntaxError\u001b[0m\u001b[0;31m:\u001b[0m invalid syntax\n"
     ]
    }
   ],
   "source": [
    "CN_TEMPLATES = [\n",
    "    r\"Citation[_ ]needed\",\n",
    "    r\"Cn\",\n",
    "    r\"Fact\"\n",
    "]\n",
    "\n",
    "def wikilink_title_matches(pattern, link):\n",
    "    return re.match(pattern, link.title)\n",
    "\n",
    "class Revision:\n",
    "    \n",
    "    def __init__(self, data):\n",
    "        self._data = data\n",
    "        self._features = {}\n",
    "        self._parsed = mwparserfromhell.parse(data['wikitext'])\n",
    "        \n",
    "    _pipeline = (\n",
    "        '_add_revision_chars',\n",
    "        '_add_revision_content_chars',\n",
    "        '_add_external_links',\n",
    "        '_add_wikilinks',\n",
    "        '_add_headings',\n",
    "        '_has_infobox',\n",
    "    )\n",
    "        \n",
    "    def _add_revision_chars(self):\n",
    "        self._features['chars'] = len(self._features['text'])\n",
    "\n",
    "    def _add_revision_content_chars(self):\n",
    "        \"\"\"Content characters are visible characters. Operationalized as characters after\n",
    "        mwparserfromhell calls the ``strip_code()`` method.\n",
    "        \"\"\"\n",
    "        self._features['content_chars'] = len(self._features['revision_content_chars'])\n",
    "        \n",
    "    def _add_external_links(self):\n",
    "        \"\"\"Count number of external links\"\"\"\n",
    "        self._features['external_links'] = len(self._parsed.filter_external())\n",
    "        \n",
    "    def _add_wikilinks(self):\n",
    "        \"\"\"Count number of wikilinks\"\"\"\n",
    "        self._features['wikilinks'] = len(parsed.filter_wikilinks())\n",
    "\n",
    "    def _add_headings(self):\n",
    "        \"\"\"Counter number of headings\"\"\"\n",
    "        headings = collections.Counter(x.level for x in parsed.filter_headings())\n",
    "        for level, count in headings.items():\n",
    "            self._features[f\"headings_level_{level}\"] = count\n",
    "    \n",
    "    def _count_templates(self, pattern):\n",
    "        return sum(match_template(x, pattern) for x in parsed.filter_templates())\n",
    "        \n",
    "    def _has_infobox(self):\n",
    "        \"\"\"Has Infobox\"\"\"\n",
    "        self._features['has_infobox'] = bool(self._count_templates(self, 'infobox'))\n",
    "        \n",
    "    def _cn_templates(self):\n",
    "        \"\"\"Has CN Templates\"\"\"\n",
    "        self._features['cn_templates'] = _count(_templates\"|\".join(CN_TEMPLATES))\n",
    "\n",
    "    def _number_images(self):\n",
    "        self._features['image_count'] = len([wikilink_title_matches(r\"File|Image\\:\") for link in self._parsed.filter_wikilinks()])\n",
    "        \n",
    "    def _categories(self):\n",
    "        categories = wikilink_title_matches(\"Category\\:\", link) for link in self._parsed.filter_wikilinks()]\n",
    "        self.features[r\"category_count\"] = len(categories)\n",
    "            \n",
    "    def _add_who(self):\n",
    "        self.features[r\"who_templates\"] = []\n",
    "\n",
    "    # has footnote section\n",
    "    # has map\n",
    "    # has geographic indicator\n",
    "    # number of sections\n",
    "    # average size of paragraphs, max size of paragraphs\n"
   ]
  },
  {
   "cell_type": "markdown",
   "metadata": {},
   "source": [
    "1. Recursively "
   ]
  },
  {
   "cell_type": "markdown",
   "metadata": {},
   "source": [
    "There are three ways to cite in Wikipedia, though only one may be used per article.\n",
    "\n",
    "1.  Parenthetical reference in plain text\n",
    "2.  Reference tags `<ref>...</ref>`\n",
    "3.  Reference and note templates. `{{ref|...}` and `{{note|...}`\n",
    "4.  Inline hyperlinks (deprecated)\n",
    "5.  Manual citations\n",
    "6.  Legal citations\n",
    "7.  In text attribution"
   ]
  }
 ],
 "metadata": {
  "kernelspec": {
   "display_name": "Python 3",
   "language": "python",
   "name": "python3"
  },
  "language_info": {
   "codemirror_mode": {
    "name": "ipython",
    "version": 3
   },
   "file_extension": ".py",
   "mimetype": "text/x-python",
   "name": "python",
   "nbconvert_exporter": "python",
   "pygments_lexer": "ipython3",
   "version": "3.6.3"
  }
 },
 "nbformat": 4,
 "nbformat_minor": 2
}
