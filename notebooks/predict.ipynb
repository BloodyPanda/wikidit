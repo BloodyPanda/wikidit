{
 "cells": [
  {
   "cell_type": "code",
   "execution_count": 82,
   "metadata": {},
   "outputs": [],
   "source": [
    "import mwparserfromhell as mwparser\n",
    "import gzip\n",
    "import json"
   ]
  },
  {
   "cell_type": "code",
   "execution_count": 83,
   "metadata": {},
   "outputs": [],
   "source": [
    "input_file = \"../data/labelled.enwiki.w_text.ndjson.gz\"\n",
    "with gzip.open(\"../data/labelled.enwiki.w_text.ndjson.gz\", \"rt\") as f:\n",
    "    revisions = [json.loads(line) for line in f]"
   ]
  },
  {
   "cell_type": "code",
   "execution_count": 84,
   "metadata": {},
   "outputs": [],
   "source": [
    "rev = revisions[0]"
   ]
  },
  {
   "cell_type": "code",
   "execution_count": 85,
   "metadata": {},
   "outputs": [],
   "source": [
    "parsed = mwparser.parse(rev['wikitext'])"
   ]
  },
  {
   "cell_type": "code",
   "execution_count": 86,
   "metadata": {},
   "outputs": [
    {
     "ename": "AttributeError",
     "evalue": "'Wikicode' object has no attribute 'fil'",
     "output_type": "error",
     "traceback": [
      "\u001b[0;31m---------------------------------------------------------------------------\u001b[0m",
      "\u001b[0;31mAttributeError\u001b[0m                            Traceback (most recent call last)",
      "\u001b[0;32m<ipython-input-86-f4f76ce3cbbe>\u001b[0m in \u001b[0;36m<module>\u001b[0;34m()\u001b[0m\n\u001b[0;32m----> 1\u001b[0;31m \u001b[0mparsed\u001b[0m\u001b[0;34m.\u001b[0m\u001b[0mfil\u001b[0m\u001b[0;34m\u001b[0m\u001b[0m\n\u001b[0m",
      "\u001b[0;32m/opt/conda/lib/python3.6/site-packages/mwparserfromhell/string_mixin.py\u001b[0m in \u001b[0;36m__getattr__\u001b[0;34m(self, attr)\u001b[0m\n\u001b[1;32m    111\u001b[0m         \u001b[0;32mif\u001b[0m \u001b[0;32mnot\u001b[0m \u001b[0mhasattr\u001b[0m\u001b[0;34m(\u001b[0m\u001b[0mstr\u001b[0m\u001b[0;34m,\u001b[0m \u001b[0mattr\u001b[0m\u001b[0;34m)\u001b[0m\u001b[0;34m:\u001b[0m\u001b[0;34m\u001b[0m\u001b[0m\n\u001b[1;32m    112\u001b[0m             raise AttributeError(\"{0!r} object has no attribute {1!r}\".format(\n\u001b[0;32m--> 113\u001b[0;31m                 type(self).__name__, attr))\n\u001b[0m\u001b[1;32m    114\u001b[0m         \u001b[0;32mreturn\u001b[0m \u001b[0mgetattr\u001b[0m\u001b[0;34m(\u001b[0m\u001b[0mself\u001b[0m\u001b[0;34m.\u001b[0m\u001b[0m__unicode__\u001b[0m\u001b[0;34m(\u001b[0m\u001b[0;34m)\u001b[0m\u001b[0;34m,\u001b[0m \u001b[0mattr\u001b[0m\u001b[0;34m)\u001b[0m\u001b[0;34m\u001b[0m\u001b[0m\n\u001b[1;32m    115\u001b[0m \u001b[0;34m\u001b[0m\u001b[0m\n",
      "\u001b[0;31mAttributeError\u001b[0m: 'Wikicode' object has no attribute 'fil'"
     ]
    }
   ],
   "source": [
    "parsed.fil"
   ]
  },
  {
   "cell_type": "code",
   "execution_count": 87,
   "metadata": {},
   "outputs": [
    {
     "ename": "NameError",
     "evalue": "name 'r' is not defined",
     "output_type": "error",
     "traceback": [
      "\u001b[0;31m---------------------------------------------------------------------------\u001b[0m",
      "\u001b[0;31mNameError\u001b[0m                                 Traceback (most recent call last)",
      "\u001b[0;32m<ipython-input-87-99ec6cace41b>\u001b[0m in \u001b[0;36m<module>\u001b[0;34m()\u001b[0m\n\u001b[1;32m     99\u001b[0m \u001b[0;34m\u001b[0m\u001b[0m\n\u001b[1;32m    100\u001b[0m \u001b[0;34m\u001b[0m\u001b[0m\n\u001b[0;32m--> 101\u001b[0;31m \u001b[0mfeatures\u001b[0m\u001b[0;34m(\u001b[0m\u001b[0mrev\u001b[0m\u001b[0;34m)\u001b[0m\u001b[0;34m\u001b[0m\u001b[0m\n\u001b[0m",
      "\u001b[0;32m<ipython-input-87-99ec6cace41b>\u001b[0m in \u001b[0;36mfeatures\u001b[0;34m(revision)\u001b[0m\n\u001b[1;32m     36\u001b[0m     \u001b[0;31m# Number of wikilinks\u001b[0m\u001b[0;34m\u001b[0m\u001b[0;34m\u001b[0m\u001b[0m\n\u001b[1;32m     37\u001b[0m     \u001b[0mwikilinks\u001b[0m \u001b[0;34m=\u001b[0m \u001b[0mtext\u001b[0m\u001b[0;34m.\u001b[0m\u001b[0mfilter_wikilinks\u001b[0m\u001b[0;34m(\u001b[0m\u001b[0;34m)\u001b[0m\u001b[0;34m\u001b[0m\u001b[0m\n\u001b[0;32m---> 38\u001b[0;31m     \u001b[0mr\u001b[0m\u001b[0;34m\u001b[0m\u001b[0m\n\u001b[0m\u001b[1;32m     39\u001b[0m \u001b[0;34m\u001b[0m\u001b[0m\n\u001b[1;32m     40\u001b[0m     \u001b[0;31m# number of images\u001b[0m\u001b[0;34m\u001b[0m\u001b[0;34m\u001b[0m\u001b[0m\n",
      "\u001b[0;31mNameError\u001b[0m: name 'r' is not defined"
     ]
    }
   ],
   "source": [
    "import re\n",
    "\n",
    "def num_headings(text, level):\n",
    "    return len([x for x in parsed.filter_headings() if x.level == level])\n",
    "\n",
    "def clean_template_name(x):\n",
    "    return str(x.name).strip().lower().replace(\" \", \"_\").replace(\"-\", \"_\")\n",
    "\n",
    "def match_template(x, pattern):\n",
    "    return bool(re.match(pattern, clean_template_name(x)))\n",
    "\n",
    "def wikilink_title_matches(pattern, link):\n",
    "    return bool(re.match(pattern, str(link.title)))\n",
    "\n",
    "def features(revision):\n",
    "    text = mwparser.parse(revision['wikitext'])\n",
    "\n",
    "    # number of characters\n",
    "    revision['chars'] = len(str(text))\n",
    "\n",
    "    # Content characters are visible characters. Operationalized as characters after\n",
    "    # mwparserfromhell calls the ``strip_code()`` method.\n",
    "    plaintext = text.strip_code()\n",
    "    revision['content_chars'] = len(plaintext)\n",
    "        \n",
    "    # Filter external\n",
    "    revision['external_links'] = len(text.filter_external_links())\n",
    "\n",
    "    # Total number of headings\n",
    "    headings = text.filter_headings()\n",
    "    revision['headings'] = len([x for x in headings if x.level == 2])\n",
    "    \n",
    "    # Sub-headings\n",
    "    revision['sub_headings'] = len([x for x in headings if x.level > 2])\n",
    "\n",
    "    # Number of wikilinks\n",
    "    wikilinks = text.filter_wikilinks()\n",
    "    \n",
    "    # number of images\n",
    "    revision['images'] = sum([wikilink_title_matches(r\"file|image\\:\", link) for link in wikilinks])\n",
    "\n",
    "    # number of categories\n",
    "    revision['categories'] = sum([wikilink_title_matches(\"Category\\:\", link) for link in wikilinks])\n",
    "    \n",
    "    # Other wikilinks\n",
    "    revision['wikilinks'] = len(wikilinks) - sum(revision[k] for k in (\"images\", \"categories\"))\n",
    "\n",
    "    # Templates\n",
    "    templates = text.filter_templates()\n",
    "    \n",
    "    # number of who templates\n",
    "    revision['who_templates'] = sum([match_template(x, 'who$') for x in templates])\n",
    "\n",
    "    # main templates\n",
    "    revision['main_template'] = sum([match_template(x, \"main$\") for x in templates])\n",
    "    \n",
    "    # citation templates\n",
    "    revision['cite_template'] = sum([match_template(x, \"cite\") for x in templates])\n",
    "    \n",
    "    # has infobox\n",
    "    revision['infoboxes'] = sum([match_template(x, \"infobox\") for x in templates])\n",
    "\n",
    "    # number of citation needed templates\n",
    "    revision['citation_needed'] = sum(match_template(x, \"citation_needed|cn|fact\") for x in templates)\n",
    "    \n",
    "    # other templates\n",
    "    revision['other_templates'] = len(templates) - sum(revision[k] for k in (\"infoboxes\", \"cite_templates\", \"citation_needed\",\n",
    "                                                                             \"main_templates\", \"who_templates\"))\n",
    "    \n",
    "    # number of ref tags\n",
    "    revision['ref'] = len([x for x in text.filter_tags() if x.tag == \"ref\"])\n",
    "\n",
    "    # number of smartlists (e.g. wikitables)\n",
    "    revision['smartlists'] = len([x for x in text.nodes if isinstance(x, mwparser.smart_list.SmartList)])\n",
    "    \n",
    "    # sections\n",
    "    sections = parsed.get_sections(flat=True, include_lead=True, include_headings=False)\n",
    "    non_lead_paras = 0\n",
    "    non_ref_paras = 0\n",
    "    non_ref_paras_length = 0\n",
    "    for i, section in enumerate(sections):\n",
    "        paras = [mwparser.parse(x) for x in re.split(r'\\n{2,}', str(section))]\n",
    "        if (i == 0):\n",
    "            revision['lead_paras'] = len(paras)\n",
    "            revision['lead_char'] = len(str(section))\n",
    "        else:\n",
    "            non_lead_paras += 1\n",
    "            for para in paras:\n",
    "                if not len([x for x in text.filter_tags() if x.tag == \"ref\"]):\n",
    "                    non_ref_paras += 1\n",
    "                    non_ref_paras_length += len(str(para))\n",
    "    revision['non_lead_paras'] = non_lead_paras\n",
    "    revision['non_ref_paras'] = non_ref_paras\n",
    "    \n",
    "    # geotagged\n",
    "    revision['coordinates'] = '#coordinates' in str(text).lower()\n",
    "    \n",
    "    # Add plaintext for more features\n",
    "    revision['text'] = plaintext\n",
    "    del revision['wikitext'] \n",
    "\n",
    "\n",
    "features(rev)\n"
   ]
  },
  {
   "cell_type": "code",
   "execution_count": 79,
   "metadata": {},
   "outputs": [
    {
     "data": {
      "text/plain": [
       "True"
      ]
     },
     "execution_count": 79,
     "metadata": {},
     "output_type": "execute_result"
    }
   ],
   "source": [
    "\"ac\" in \"abc\""
   ]
  },
  {
   "cell_type": "code",
   "execution_count": 66,
   "metadata": {},
   "outputs": [
    {
     "data": {
      "text/plain": [
       "False"
      ]
     },
     "execution_count": 66,
     "metadata": {},
     "output_type": "execute_result"
    }
   ],
   "source": []
  },
  {
   "cell_type": "code",
   "execution_count": 11,
   "metadata": {},
   "outputs": [
    {
     "data": {
      "text/plain": [
       "mwparserfromhell.smart_list.SmartList"
      ]
     },
     "execution_count": 11,
     "metadata": {},
     "output_type": "execute_result"
    }
   ],
   "source": [
    "type(mwparser.parse(\"{|\\n | A || b \\n |- \\n | CD || EF | }\").nodes)"
   ]
  },
  {
   "cell_type": "markdown",
   "metadata": {},
   "source": [
    "1. Recursively "
   ]
  },
  {
   "cell_type": "markdown",
   "metadata": {},
   "source": [
    "There are three ways to cite in Wikipedia, though only one may be used per article.\n",
    "\n",
    "1.  Parenthetical reference in plain text\n",
    "2.  Reference tags `<ref>...</ref>`\n",
    "3.  Reference and note templates. `{{ref|...}` and `{{note|...}`\n",
    "4.  Inline hyperlinks (deprecated)\n",
    "5.  Manual citations\n",
    "6.  Legal citations\n",
    "7.  In text attribution"
   ]
  }
 ],
 "metadata": {
  "kernelspec": {
   "display_name": "Python 3",
   "language": "python",
   "name": "python3"
  },
  "language_info": {
   "codemirror_mode": {
    "name": "ipython",
    "version": 3
   },
   "file_extension": ".py",
   "mimetype": "text/x-python",
   "name": "python",
   "nbconvert_exporter": "python",
   "pygments_lexer": "ipython3",
   "version": "3.6.3"
  }
 },
 "nbformat": 4,
 "nbformat_minor": 2
}
