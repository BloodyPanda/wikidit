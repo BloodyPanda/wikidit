{
 "cells": [
  {
   "cell_type": "code",
   "execution_count": 2,
   "metadata": {},
   "outputs": [],
   "source": [
    "import sys\n",
    "sys.path.append(\"..\")\n",
    "%load_ext autoreload\n",
    "%autoreload 2\n",
    "import wikidit"
   ]
  },
  {
   "cell_type": "code",
   "execution_count": 3,
   "metadata": {},
   "outputs": [],
   "source": [
    "import json\n",
    "import gzip"
   ]
  },
  {
   "cell_type": "code",
   "execution_count": 10,
   "metadata": {},
   "outputs": [],
   "source": [
    "import itertools\n",
    "from wikidit.io import load_ndjson"
   ]
  },
  {
   "cell_type": "code",
   "execution_count": 30,
   "metadata": {},
   "outputs": [],
   "source": [
    "def read_labeling_revisions(filename):\n",
    "    with gzip.open(filename, \"rt\") as f:\n",
    "        return list(load_ndjson(f))\n",
    "\n",
    "data = read_labeling_revisions(\"../data/enwiki.labeling_revisions.w_text.nettrom_30k.ndjson.gz\")\n"
   ]
  },
  {
   "cell_type": "code",
   "execution_count": 40,
   "metadata": {},
   "outputs": [
    {
     "ename": "AttributeError",
     "evalue": "'Template' object has no attribute 'strip_code'",
     "output_type": "error",
     "traceback": [
      "\u001b[0;31m---------------------------------------------------------------------------\u001b[0m",
      "\u001b[0;31mAttributeError\u001b[0m                            Traceback (most recent call last)",
      "\u001b[0;32m<ipython-input-40-1d32df6c8ce0>\u001b[0m in \u001b[0;36m<module>\u001b[0;34m\u001b[0m\n\u001b[1;32m     13\u001b[0m \u001b[0;32mfor\u001b[0m \u001b[0mrow\u001b[0m \u001b[0;32min\u001b[0m \u001b[0mdata\u001b[0m\u001b[0;34m[\u001b[0m\u001b[0;34m:\u001b[0m\u001b[0;36m1000\u001b[0m\u001b[0;34m]\u001b[0m\u001b[0;34m:\u001b[0m\u001b[0;34m\u001b[0m\u001b[0m\n\u001b[1;32m     14\u001b[0m     \u001b[0mparsed\u001b[0m \u001b[0;34m=\u001b[0m \u001b[0mparser\u001b[0m\u001b[0;34m.\u001b[0m\u001b[0mparse\u001b[0m\u001b[0;34m(\u001b[0m\u001b[0mrow\u001b[0m\u001b[0;34m[\u001b[0m\u001b[0;34m'wikitext'\u001b[0m\u001b[0;34m]\u001b[0m\u001b[0;34m)\u001b[0m\u001b[0;34m\u001b[0m\u001b[0m\n\u001b[0;32m---> 15\u001b[0;31m     \u001b[0minfoboxes\u001b[0m \u001b[0;34m=\u001b[0m \u001b[0;34m[\u001b[0m\u001b[0mcount_words\u001b[0m\u001b[0;34m(\u001b[0m\u001b[0mx\u001b[0m\u001b[0;34m)\u001b[0m \u001b[0;32mfor\u001b[0m \u001b[0mx\u001b[0m \u001b[0;32min\u001b[0m \u001b[0mparsed\u001b[0m\u001b[0;34m.\u001b[0m\u001b[0mfilter_templates\u001b[0m\u001b[0;34m(\u001b[0m\u001b[0mmatches\u001b[0m\u001b[0;34m=\u001b[0m\u001b[0;34m\"infobox\"\u001b[0m\u001b[0;34m)\u001b[0m\u001b[0;34m]\u001b[0m\u001b[0;34m\u001b[0m\u001b[0m\n\u001b[0m\u001b[1;32m     16\u001b[0m \u001b[0;34m\u001b[0m\u001b[0m\n\u001b[1;32m     17\u001b[0m \u001b[0;34m\u001b[0m\u001b[0m\n",
      "\u001b[0;32m<ipython-input-40-1d32df6c8ce0>\u001b[0m in \u001b[0;36m<listcomp>\u001b[0;34m(.0)\u001b[0m\n\u001b[1;32m     13\u001b[0m \u001b[0;32mfor\u001b[0m \u001b[0mrow\u001b[0m \u001b[0;32min\u001b[0m \u001b[0mdata\u001b[0m\u001b[0;34m[\u001b[0m\u001b[0;34m:\u001b[0m\u001b[0;36m1000\u001b[0m\u001b[0;34m]\u001b[0m\u001b[0;34m:\u001b[0m\u001b[0;34m\u001b[0m\u001b[0m\n\u001b[1;32m     14\u001b[0m     \u001b[0mparsed\u001b[0m \u001b[0;34m=\u001b[0m \u001b[0mparser\u001b[0m\u001b[0;34m.\u001b[0m\u001b[0mparse\u001b[0m\u001b[0;34m(\u001b[0m\u001b[0mrow\u001b[0m\u001b[0;34m[\u001b[0m\u001b[0;34m'wikitext'\u001b[0m\u001b[0;34m]\u001b[0m\u001b[0;34m)\u001b[0m\u001b[0;34m\u001b[0m\u001b[0m\n\u001b[0;32m---> 15\u001b[0;31m     \u001b[0minfoboxes\u001b[0m \u001b[0;34m=\u001b[0m \u001b[0;34m[\u001b[0m\u001b[0mcount_words\u001b[0m\u001b[0;34m(\u001b[0m\u001b[0mx\u001b[0m\u001b[0;34m)\u001b[0m \u001b[0;32mfor\u001b[0m \u001b[0mx\u001b[0m \u001b[0;32min\u001b[0m \u001b[0mparsed\u001b[0m\u001b[0;34m.\u001b[0m\u001b[0mfilter_templates\u001b[0m\u001b[0;34m(\u001b[0m\u001b[0mmatches\u001b[0m\u001b[0;34m=\u001b[0m\u001b[0;34m\"infobox\"\u001b[0m\u001b[0;34m)\u001b[0m\u001b[0;34m]\u001b[0m\u001b[0;34m\u001b[0m\u001b[0m\n\u001b[0m\u001b[1;32m     16\u001b[0m \u001b[0;34m\u001b[0m\u001b[0m\n\u001b[1;32m     17\u001b[0m \u001b[0;34m\u001b[0m\u001b[0m\n",
      "\u001b[0;32m<ipython-input-40-1d32df6c8ce0>\u001b[0m in \u001b[0;36mcount_words\u001b[0;34m(x)\u001b[0m\n\u001b[1;32m      8\u001b[0m \u001b[0;34m\u001b[0m\u001b[0m\n\u001b[1;32m      9\u001b[0m \u001b[0;32mdef\u001b[0m \u001b[0mcount_words\u001b[0m\u001b[0;34m(\u001b[0m\u001b[0mx\u001b[0m\u001b[0;34m)\u001b[0m\u001b[0;34m:\u001b[0m\u001b[0;34m\u001b[0m\u001b[0m\n\u001b[0;32m---> 10\u001b[0;31m     \u001b[0;32mreturn\u001b[0m \u001b[0msum\u001b[0m\u001b[0;34m(\u001b[0m\u001b[0mis_word\u001b[0m\u001b[0;34m(\u001b[0m\u001b[0mx\u001b[0m\u001b[0;34m)\u001b[0m \u001b[0;32mfor\u001b[0m \u001b[0mx\u001b[0m \u001b[0;32min\u001b[0m \u001b[0mnlp\u001b[0m\u001b[0;34m(\u001b[0m\u001b[0mx\u001b[0m\u001b[0;34m.\u001b[0m\u001b[0mstrip_code\u001b[0m\u001b[0;34m(\u001b[0m\u001b[0;34m)\u001b[0m\u001b[0;34m)\u001b[0m\u001b[0;34m)\u001b[0m\u001b[0;34m\u001b[0m\u001b[0m\n\u001b[0m\u001b[1;32m     11\u001b[0m \u001b[0;34m\u001b[0m\u001b[0m\n\u001b[1;32m     12\u001b[0m \u001b[0minfoboxes\u001b[0m \u001b[0;34m=\u001b[0m \u001b[0;34m[\u001b[0m\u001b[0;34m]\u001b[0m\u001b[0;34m\u001b[0m\u001b[0m\n",
      "\u001b[0;32m~/anaconda3/envs/wikidit/lib/python3.6/site-packages/mwparserfromhell/string_mixin.py\u001b[0m in \u001b[0;36m__getattr__\u001b[0;34m(self, attr)\u001b[0m\n\u001b[1;32m    111\u001b[0m         \u001b[0;32mif\u001b[0m \u001b[0;32mnot\u001b[0m \u001b[0mhasattr\u001b[0m\u001b[0;34m(\u001b[0m\u001b[0mstr\u001b[0m\u001b[0;34m,\u001b[0m \u001b[0mattr\u001b[0m\u001b[0;34m)\u001b[0m\u001b[0;34m:\u001b[0m\u001b[0;34m\u001b[0m\u001b[0m\n\u001b[1;32m    112\u001b[0m             raise AttributeError(\"{0!r} object has no attribute {1!r}\".format(\n\u001b[0;32m--> 113\u001b[0;31m                 type(self).__name__, attr))\n\u001b[0m\u001b[1;32m    114\u001b[0m         \u001b[0;32mreturn\u001b[0m \u001b[0mgetattr\u001b[0m\u001b[0;34m(\u001b[0m\u001b[0mself\u001b[0m\u001b[0;34m.\u001b[0m\u001b[0m__unicode__\u001b[0m\u001b[0;34m(\u001b[0m\u001b[0;34m)\u001b[0m\u001b[0;34m,\u001b[0m \u001b[0mattr\u001b[0m\u001b[0;34m)\u001b[0m\u001b[0;34m\u001b[0m\u001b[0m\n\u001b[1;32m    115\u001b[0m \u001b[0;34m\u001b[0m\u001b[0m\n",
      "\u001b[0;31mAttributeError\u001b[0m: 'Template' object has no attribute 'strip_code'"
     ]
    }
   ],
   "source": [
    "import mwparserfromhell as mwparser\n",
    "import re\n",
    "import spacy\n",
    "\n",
    "parser = mwparser.parser.Parser()\n",
    "nlp = spacy.lang.en.English()\n",
    "from wikidit.preprocessing import is_word\n",
    "\n",
    "def count_words(x):\n",
    "    return sum(is_word(x) for x in nlp(x.()))\n",
    "\n",
    "infoboxes = []\n",
    "for row in data[:1000]:\n",
    "    parsed = parser.parse(row['wikitext'])\n",
    "    infoboxes = [count_words(x) for x in parsed.filter_templates(matches=\"infobox\")]\n",
    "    \n",
    "    "
   ]
  },
  {
   "cell_type": "code",
   "execution_count": 32,
   "metadata": {},
   "outputs": [
    {
     "data": {
      "text/plain": [
       "'Mac Scelling (fl. 1154–1173/1174), also known as Mac Scilling, was a prominent twelfth-century military commander engaged in conflicts throughout Ireland. He is first recorded in 1154 commanding the maritime forces of Muirchertach Mac Lochlainn, King of Cenél nEógain in a bloody encounter against Toirrdelbach Ua Conchobair, King of Connacht. Muirchertach\\'s naval forces were drawn from the western peripheries of Scotland and the Isles. He next appears on record in 1173/1174, supporting the cause of Ruaidrí Ua Conchobair, King of Connacht against the English colonisation of Mide. An early modern Scottish source claims that a man of the same name was a bastard son of Somairle mac Gilla Brigte, King of the Isles. If Mac Scelling was indeed related to Somairle, this relationship could cast light on the latter\\'s conflict with Guðrøðr Óláfsson, King of the Isles, a man who appears to have opposed Muirchertach at some point in his career. Although not termed so in contemporary sources, Mac Scelling may be regarded as an early archetype of later gallowglasses, heavily-armed Scottish mercenaries recruited by Irish rulers in centuries that followed.\\n\\nIn the service of the Meic Lochlainn\\n\\nthumb|upright|Locations relating to Mac Scelling\\'s life and times.\\n\\nMidway through the twelfth-century, Muirchertach Mac Lochlainn, King of Cenél nEógain (died 1166) pressed forth to claim to the high-kingship of Ireland, an office then held by elderly Toirrdelbach Ua Conchobair, King of Connacht (died 1156).O\\'Byrne (2005a); O\\'Byrne (2005c); Duffy (2004). In 1150, Muirchertach invaded Connacht, and succeeded in gaining hostages from the kingdom.O\\'Byrne (2005a); O\\'Byrne (2005c); Duffy (2004); Simms (2004). Although Muirchertach and Toirrdelbach made peace the following year,Duffy (2004). their forces clashed the year after that, with Muirchertach\\'s defeat of Toirrdelbach\\'s son, Ruaidrí (died 1198).O\\'Byrne (2005a); O\\'Byrne (2005b); O\\'Byrne (2005c); Duffy (2004); Flanagan (2004b); Simms (2004). In 1154, the forces of Toirrdelbach and Muirchertach again met in a major conflict fought off the Inishowen coast, in what was perhaps one of the greatest naval battles of the twelfth century.O\\'Byrne (2005a); O\\'Byrne (2005b); O\\'Byrne (2005c); Duffy (2004); Griffin (2002) pp. 41–42; Duffy (1992) pp. 124–125. According to the Annals of the Four Masters, Muirchertach\\'s maritime forces were mercenaries drawn from Galloway, Arran, Kintyre, Mann, and \"the territories of Scotland\".Annals of the Four Masters (2013a) 1154.11; Annals of the Four Masters (2013b) 1154.11; McDonald (2007a) p. 71; Duffy (2004); Simms (2000) p. 12; Duffy (1999) p. 356, 356 n. 68; Ó Corráin (1999) p. 372; Duffy (1992) pp. 124–125; Sellar (1971) p. 29. The annal-entry further reveals that Mac Scelling himself commanded Muirchertach\\'s forces, and that his teeth were knocked out in the affair. Although Toirrdelbach\\'s forces obtained a narrow victory, his northern maritime power seems to have been virtually nullified by the severity of the contest,Griffin (2002) p. 42. and Muirchertach soon after marched on Connacht,O\\'Byrne (2005a); O\\'Byrne (2005b); O\\'Byrne (2005c); Duffy (2004); Griffin (2002) p. 42. Bréifne,O\\'Byrne (2005a); O\\'Byrne (2005b); Duffy (2004). and Dublin.O\\'Byrne (2005a); Duffy (2004); Griffin (2002) p. 42. As a result of the Dubliners\\' resulting submission, Muirchertach effectively secured himself the high-kingship.Duffy (2004).\\n\\nAn apparent Meic Somairle namesake\\n\\nleft|thumb|upright|Detail from Maughold IV, a Manx runestone displaying a contemporary sailing vessel. The power of the kings of the Isles laid in their armed galley-fleets.McDonald (2007b) pl. 1.\\n\\nMac Scelling\\'s identity and origins are unknown.Duffy (2007b) p. 2; Duffy (1992) p. 125 n. 157. His name is similar to that of \"Gall mac Sgillin\", a supposed bastard son of Somairle mac Gilla Brigte, Lord of Argyll (died 1164), noted in the early modern Book of Clanranald.Duffy (2007a) p. 143; Duffy (2007b) pp. 2, 7; Duffy (1999) p. 356 n. 68; Duffy (1992) p. 125 n. 157; Sellar (1971) p. 35 n. 26; Macbain; Kennedy (1894) pp. 156–157. Somairle was a brother-in-law of Guðrøðr Óláfsson, King of the Isles (died 1187), a man who succeeded to the kingship of the Isles in 1153. Within a few years, the two fought for control of the Kingdom of the Isles. Although Somairle succeeded in ousting Guðrøðr, he himself was dead within a decade, and Guðrøðr regained the throne.McDonald (2007b) p. 67. If Mac Scelling was indeed a member of the Meic Somairle—the descendants of Somairle—this relationship may cast light upon Somairle\\'s struggles in the Isles. For instance, Mac Scelling\\'s cooperation with Muirchertach could be evidence that Guðrøðr faced united opposition from Somairle and Muirchertach.Duffy (2007b) p. 3. In fact, there is evidence indicating that Guðrøðr and Muirchertach were indeed at odds at some point in the 1150s or 1160s, as the former appears to have briefly gained the kingship of Dublin at the expense of Muirchertach\\'s authority as overlord.Duffy (2007b) pp. 3–4.\\n\\nIn the service of the Uí Conchobair\\n\\nthumb|upright|A rook gaming piece of the so-called Lewis chessmen. Some of the pieces may have arrived in the Isles as a result of Guðrøðr\\'s connections with Norway.Caldwell; Hall; Wilkinson (2009) p. 178. The Scandinavian connections of leading members of the Isles may have been reflected in their military armament, and could have resembled that depicted upon such gaming pieces.Strickland (2012) p. 113.\\n\\nIn the last third of the twelfth century, Diarmait Mac Murchada, King of Leinster (died 1171) was deposed and driven from Ireland by his rivals. He subsequently enlisted the aid of English mercenaries and launched an invasion of Ireland. In 1170, the combined forces of Diarmait and Richard fitz Gilbert de Clare, Earl of Pembroke (died 1176) conquered Dublin.Flanagan (2004a); Flanagan (2004b); Duffy (2007b) p. 4–5. The following year, the aforesaid Ruaidrí, who was then the reigning High King of Ireland and King of Connacht, along with Lorcán Ua Tuathail, Archbishop of Dublin (died 1180), appealed to Guðrøðr for military assistance from the Isles. Although Ruaidrí besieged the town by land, whilst Guðrøðr blockaded it by sea, Dublin remained firmly in English hands. Within the year, Henry II, King of England (died 1189) arrived in Ireland and consolidated English control.Duffy (2007b) p. 6. One of the few provincial kings who refused to submit to Henry was Ruaidrí himself; and in 1173 or 1174, he assembled a massive host from northern Ireland in campaign to bring a halt to the English colonisation of Mide.O\\'Byrne (2005b); Flanagan (2004b); Duffy (2007b) p. 7. According to the Song of Dermot and the Earl, one of the numerous rulers who rallied to Ruaidrí\\'s cause was Mac Scelling himself.Song of Dermot and the Earl (2011) § 3254; Song of Dermot and the Earl (2010) § 3254; Duffy (2007a) p. 143; Duffy (2007b) pp. 7–8; Crooks (2005). This source further states that Ruaidrí enlisted support not only support from Leath CuinnSong of Dermot and the Earl (2011) §§ 3261, 3271; Song of Dermot and the Earl (2010) §§ 3261, 3271; Duffy (2007b) pp. 7–8.—a reference to northern Ireland—but also from \"les Norreys\" and \"les Norreis\"—two terms that may refer to Norsemen.Song of Dermot and the Earl (2011) §§ 3260, 3270; Song of Dermot and the Earl (2010) §§ 3260, 3270; Duffy (2007b) pp. 7–8. The Song of Dermot and the Earl, therefore, appears to indicate that Ruaidrí indeed received support from the Hebrides.Duffy (2007b) p. 8.\\n\\nArchetypical gallowglass\\n\\nThe little that is known of Mac Scelling suggests that he was an early archetype of what latter became known as gallowglasses,Duffy (2007b) pp. 2–3. heavily-armed mercenaries, recruited from the West Highlands and Islands of Scotland by Irish rulers in later centuries. Although first specifically recorded in the last decade of the thirteenth century, gallowglasses were almost certainly utilised at least a generation before.Duffy (2007b) pp. 1–2.\\n\\nCitations\\n\\nReferences\\n\\nPrimary sources\\n\\nSecondary sources\\n\\nCategory:Clann Somhairle\\nCategory:Norse-Gaels\\nCategory:People of the Kingdom of the Isles'"
      ]
     },
     "execution_count": 32,
     "metadata": {},
     "output_type": "execute_result"
    }
   ],
   "source": [
    "parsed.strip_code()"
   ]
  },
  {
   "cell_type": "code",
   "execution_count": 57,
   "metadata": {},
   "outputs": [],
   "source": [
    "headings = [count_words(x.title) for x in parsed.filter_headings()]"
   ]
  },
  {
   "cell_type": "code",
   "execution_count": 58,
   "metadata": {},
   "outputs": [
    {
     "data": {
      "text/plain": [
       "[1, 1, 1, 1, 1, 1, 2, 1, 1, 2, 1, 1, 3, 2, 1, 1, 1, 2]"
      ]
     },
     "execution_count": 58,
     "metadata": {},
     "output_type": "execute_result"
    }
   ],
   "source": [
    "headings"
   ]
  },
  {
   "cell_type": "code",
   "execution_count": 53,
   "metadata": {},
   "outputs": [
    {
     "data": {
      "text/plain": [
       "1"
      ]
     },
     "execution_count": 53,
     "metadata": {},
     "output_type": "execute_result"
    }
   ],
   "source": [
    "count_words(headings.title)"
   ]
  },
  {
   "cell_type": "code",
   "execution_count": null,
   "metadata": {},
   "outputs": [],
   "source": []
  }
 ],
 "metadata": {
  "kernelspec": {
   "display_name": "Python [default]",
   "language": "python",
   "name": "python3"
  },
  "language_info": {
   "codemirror_mode": {
    "name": "ipython",
    "version": 3
   },
   "file_extension": ".py",
   "mimetype": "text/x-python",
   "name": "python",
   "nbconvert_exporter": "python",
   "pygments_lexer": "ipython3",
   "version": "3.6.6"
  }
 },
 "nbformat": 4,
 "nbformat_minor": 2
}
