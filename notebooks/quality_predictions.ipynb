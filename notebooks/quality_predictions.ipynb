{
 "cells": [
  {
   "cell_type": "markdown",
   "metadata": {},
   "source": [
    "# Quality Prediction Model"
   ]
  },
  {
   "cell_type": "markdown",
   "metadata": {},
   "source": [
    "This messy notebook trains the XGboost model used in wikidit."
   ]
  },
  {
   "cell_type": "code",
   "execution_count": 1,
   "metadata": {},
   "outputs": [],
   "source": [
    "import sys\n",
    "sys.path.append(\"..\")\n",
    "%load_ext autoreload\n",
    "%autoreload 2\n",
    "import wikidit"
   ]
  },
  {
   "cell_type": "code",
   "execution_count": 2,
   "metadata": {},
   "outputs": [],
   "source": [
    "from wikidit.preprocessing import _load_backlog, WP10_LABELS\n",
    "from wikidit.io import read_labeled\n",
    "from wikidit.ordinal import SequentialClassifier\n",
    "\n",
    "from sklearn.model_selection import RandomizedSearchCV\n",
    "from sklearn.model_selection import cross_validate, train_test_split\n",
    "from sklearn.metrics import (f1_score, roc_auc_score, accuracy_score, \n",
    "                             precision_score, recall_score, log_loss, \n",
    "                             confusion_matrix)\n",
    "from sklearn.base import clone"
   ]
  },
  {
   "cell_type": "code",
   "execution_count": 3,
   "metadata": {},
   "outputs": [],
   "source": [
    "import xgboost"
   ]
  },
  {
   "cell_type": "code",
   "execution_count": 4,
   "metadata": {},
   "outputs": [
    {
     "data": {
      "text/plain": [
       "'0.80'"
      ]
     },
     "execution_count": 4,
     "metadata": {},
     "output_type": "execute_result"
    }
   ],
   "source": [
    "xgboost.__version__"
   ]
  },
  {
   "cell_type": "markdown",
   "metadata": {},
   "source": [
    "# Train Model"
   ]
  },
  {
   "cell_type": "code",
   "execution_count": 5,
   "metadata": {},
   "outputs": [],
   "source": [
    "output_dir = \"../data/enwiki-labeling_revisions-w_features/\"\n",
    "revisions = read_labeled(output_dir)"
   ]
  },
  {
   "cell_type": "code",
   "execution_count": 6,
   "metadata": {},
   "outputs": [
    {
     "data": {
      "text/html": [
       "<div>\n",
       "<style scoped>\n",
       "    .dataframe tbody tr th:only-of-type {\n",
       "        vertical-align: middle;\n",
       "    }\n",
       "\n",
       "    .dataframe tbody tr th {\n",
       "        vertical-align: top;\n",
       "    }\n",
       "\n",
       "    .dataframe thead th {\n",
       "        text-align: right;\n",
       "    }\n",
       "</style>\n",
       "<table border=\"1\" class=\"dataframe\">\n",
       "  <thead>\n",
       "    <tr style=\"text-align: right;\">\n",
       "      <th></th>\n",
       "      <th>anon</th>\n",
       "      <th>backlog_accuracy</th>\n",
       "      <th>backlog_accuracy_templates</th>\n",
       "      <th>backlog_content</th>\n",
       "      <th>backlog_content_templates</th>\n",
       "      <th>backlog_files</th>\n",
       "      <th>backlog_files_templates</th>\n",
       "      <th>backlog_links</th>\n",
       "      <th>backlog_links_templates</th>\n",
       "      <th>backlog_other</th>\n",
       "      <th>...</th>\n",
       "      <th>templates</th>\n",
       "      <th>templates_per_word</th>\n",
       "      <th>timestamp</th>\n",
       "      <th>title</th>\n",
       "      <th>user</th>\n",
       "      <th>userid</th>\n",
       "      <th>wikilinks</th>\n",
       "      <th>wikilinks_per_word</th>\n",
       "      <th>words</th>\n",
       "      <th>wp10</th>\n",
       "    </tr>\n",
       "  </thead>\n",
       "  <tbody>\n",
       "    <tr>\n",
       "      <th>0</th>\n",
       "      <td>NaN</td>\n",
       "      <td>0</td>\n",
       "      <td>NaN</td>\n",
       "      <td>0</td>\n",
       "      <td>NaN</td>\n",
       "      <td>0</td>\n",
       "      <td>NaN</td>\n",
       "      <td>0</td>\n",
       "      <td>NaN</td>\n",
       "      <td>0</td>\n",
       "      <td>...</td>\n",
       "      <td>266</td>\n",
       "      <td>0.056059</td>\n",
       "      <td>2015-04-25T23:51:42Z</td>\n",
       "      <td>Astatine</td>\n",
       "      <td>GermanJoe</td>\n",
       "      <td>12935443</td>\n",
       "      <td>221</td>\n",
       "      <td>0.046575</td>\n",
       "      <td>4745</td>\n",
       "      <td>FA</td>\n",
       "    </tr>\n",
       "    <tr>\n",
       "      <th>1</th>\n",
       "      <td>NaN</td>\n",
       "      <td>0</td>\n",
       "      <td>NaN</td>\n",
       "      <td>0</td>\n",
       "      <td>NaN</td>\n",
       "      <td>0</td>\n",
       "      <td>NaN</td>\n",
       "      <td>0</td>\n",
       "      <td>NaN</td>\n",
       "      <td>0</td>\n",
       "      <td>...</td>\n",
       "      <td>54</td>\n",
       "      <td>0.003383</td>\n",
       "      <td>2011-03-27T00:14:12Z</td>\n",
       "      <td>John, King of England</td>\n",
       "      <td>GimmeBot</td>\n",
       "      <td>3188459</td>\n",
       "      <td>514</td>\n",
       "      <td>0.032197</td>\n",
       "      <td>15964</td>\n",
       "      <td>FA</td>\n",
       "    </tr>\n",
       "    <tr>\n",
       "      <th>2</th>\n",
       "      <td>NaN</td>\n",
       "      <td>0</td>\n",
       "      <td>NaN</td>\n",
       "      <td>0</td>\n",
       "      <td>NaN</td>\n",
       "      <td>0</td>\n",
       "      <td>NaN</td>\n",
       "      <td>0</td>\n",
       "      <td>NaN</td>\n",
       "      <td>0</td>\n",
       "      <td>...</td>\n",
       "      <td>115</td>\n",
       "      <td>0.023829</td>\n",
       "      <td>2015-10-19T02:51:50Z</td>\n",
       "      <td>Maniac Mansion</td>\n",
       "      <td>JimmyBlackwing</td>\n",
       "      <td>490055</td>\n",
       "      <td>285</td>\n",
       "      <td>0.059055</td>\n",
       "      <td>4826</td>\n",
       "      <td>FA</td>\n",
       "    </tr>\n",
       "    <tr>\n",
       "      <th>3</th>\n",
       "      <td>NaN</td>\n",
       "      <td>0</td>\n",
       "      <td>NaN</td>\n",
       "      <td>0</td>\n",
       "      <td>NaN</td>\n",
       "      <td>0</td>\n",
       "      <td>NaN</td>\n",
       "      <td>0</td>\n",
       "      <td>NaN</td>\n",
       "      <td>0</td>\n",
       "      <td>...</td>\n",
       "      <td>259</td>\n",
       "      <td>0.032086</td>\n",
       "      <td>2010-12-20T05:10:11Z</td>\n",
       "      <td>Speed of light</td>\n",
       "      <td>GimmeBot</td>\n",
       "      <td>3188459</td>\n",
       "      <td>489</td>\n",
       "      <td>0.060580</td>\n",
       "      <td>8072</td>\n",
       "      <td>FA</td>\n",
       "    </tr>\n",
       "    <tr>\n",
       "      <th>4</th>\n",
       "      <td>NaN</td>\n",
       "      <td>0</td>\n",
       "      <td>NaN</td>\n",
       "      <td>0</td>\n",
       "      <td>NaN</td>\n",
       "      <td>0</td>\n",
       "      <td>NaN</td>\n",
       "      <td>0</td>\n",
       "      <td>NaN</td>\n",
       "      <td>0</td>\n",
       "      <td>...</td>\n",
       "      <td>191</td>\n",
       "      <td>0.023259</td>\n",
       "      <td>2012-01-18T04:42:08Z</td>\n",
       "      <td>Psilocybin</td>\n",
       "      <td>GimmeBot</td>\n",
       "      <td>3188459</td>\n",
       "      <td>523</td>\n",
       "      <td>0.063687</td>\n",
       "      <td>8212</td>\n",
       "      <td>FA</td>\n",
       "    </tr>\n",
       "  </tbody>\n",
       "</table>\n",
       "<p>5 rows × 51 columns</p>\n",
       "</div>"
      ],
      "text/plain": [
       "  anon  backlog_accuracy backlog_accuracy_templates  backlog_content  \\\n",
       "0  NaN                 0                        NaN                0   \n",
       "1  NaN                 0                        NaN                0   \n",
       "2  NaN                 0                        NaN                0   \n",
       "3  NaN                 0                        NaN                0   \n",
       "4  NaN                 0                        NaN                0   \n",
       "\n",
       "  backlog_content_templates  backlog_files backlog_files_templates  \\\n",
       "0                       NaN              0                     NaN   \n",
       "1                       NaN              0                     NaN   \n",
       "2                       NaN              0                     NaN   \n",
       "3                       NaN              0                     NaN   \n",
       "4                       NaN              0                     NaN   \n",
       "\n",
       "   backlog_links backlog_links_templates  backlog_other  ...  templates  \\\n",
       "0              0                     NaN              0  ...        266   \n",
       "1              0                     NaN              0  ...         54   \n",
       "2              0                     NaN              0  ...        115   \n",
       "3              0                     NaN              0  ...        259   \n",
       "4              0                     NaN              0  ...        191   \n",
       "\n",
       "   templates_per_word             timestamp                  title  \\\n",
       "0            0.056059  2015-04-25T23:51:42Z               Astatine   \n",
       "1            0.003383  2011-03-27T00:14:12Z  John, King of England   \n",
       "2            0.023829  2015-10-19T02:51:50Z         Maniac Mansion   \n",
       "3            0.032086  2010-12-20T05:10:11Z         Speed of light   \n",
       "4            0.023259  2012-01-18T04:42:08Z             Psilocybin   \n",
       "\n",
       "             user    userid  wikilinks wikilinks_per_word  words  wp10  \n",
       "0       GermanJoe  12935443        221           0.046575   4745    FA  \n",
       "1        GimmeBot   3188459        514           0.032197  15964    FA  \n",
       "2  JimmyBlackwing    490055        285           0.059055   4826    FA  \n",
       "3        GimmeBot   3188459        489           0.060580   8072    FA  \n",
       "4        GimmeBot   3188459        523           0.063687   8212    FA  \n",
       "\n",
       "[5 rows x 51 columns]"
      ]
     },
     "execution_count": 6,
     "metadata": {},
     "output_type": "execute_result"
    }
   ],
   "source": [
    "revisions.head()"
   ]
  },
  {
   "cell_type": "code",
   "execution_count": 7,
   "metadata": {},
   "outputs": [],
   "source": [
    "from sklearn.model_selection import train_test_split"
   ]
  },
  {
   "cell_type": "code",
   "execution_count": 8,
   "metadata": {},
   "outputs": [],
   "source": [
    "from wikidit.models import RevisionPreprocessor"
   ]
  },
  {
   "cell_type": "code",
   "execution_count": 9,
   "metadata": {},
   "outputs": [],
   "source": [
    "import pandas as pd\n",
    "import numpy as np\n",
    "\n",
    "from sklearn.pipeline import Pipeline\n",
    "import xgboost as xgb\n",
    "import dill\n",
    "import itertools\n",
    "\n",
    "response_col = ['wp10']\n",
    "\n",
    "xgb_params = {\n",
    "  'silent': True,\n",
    "  'booster': 'gbtree',\n",
    "  'objective': 'binary:logistic',\n",
    "  'random_state': 12345,\n",
    "  'learning_rate': 0.1,\n",
    "  'n_estimators': 100,\n",
    "  'min_child_weight': 1,\n",
    "  'gamma': 0,\n",
    "  'subsample': 1,\n",
    "  'colsample_bytree': 1,\n",
    "  'max_depth': 3,\n",
    "  'nthread': 4\n",
    "}\n",
    "\n",
    "clf = xgb.XGBClassifier(**xgb_params)\n",
    "\n",
    "X = RevisionPreprocessor().fit_transform(revisions)\n",
    "y = revisions['wp10'].values.codes"
   ]
  },
  {
   "cell_type": "markdown",
   "metadata": {},
   "source": [
    "# Parameter Tuning"
   ]
  },
  {
   "cell_type": "code",
   "execution_count": 10,
   "metadata": {},
   "outputs": [],
   "source": [
    "X_train, X_test, y_train, y_test = train_test_split(X, y, train_size=0.8, test_size=0.2, stratify=y)"
   ]
  },
  {
   "cell_type": "code",
   "execution_count": 11,
   "metadata": {},
   "outputs": [],
   "source": [
    "from scipy.stats.distributions import randint\n",
    "\n",
    "rnd_search_pars = {'n_iter': 10, 'n_jobs': 4, 'cv': 5}\n",
    "\n",
    "xgb_param_grid = {\n",
    "    'n_estimators': [50, 100, 200],\n",
    "    'learning_rate': [0.1, 0.05, 0.2],\n",
    "    'min_child_weight': randint(1, 5),\n",
    "    'gamma': [0, 0.125, 0.25, 0.5, 1, 2],\n",
    "    'subsample': [0.8, 0.9, 0.95, 0.99, 1],\n",
    "    'colsample_bytree': [0.8, 0.9, 0.95, 0.99, 1],\n",
    "    'max_depth': randint(2, 8)\n",
    "}\n",
    "\n",
    "rnd_search = RandomizedSearchCV(clf, xgb_param_grid, scoring='neg_log_loss',\n",
    "                                random_state=1234,\n",
    "                                **rnd_search_pars)\n",
    "rnd_results = rnd_search.fit(X_train, y_train)"
   ]
  },
  {
   "cell_type": "code",
   "execution_count": 12,
   "metadata": {},
   "outputs": [
    {
     "data": {
      "text/plain": [
       "RandomizedSearchCV(cv=5, error_score='raise-deprecating',\n",
       "          estimator=XGBClassifier(base_score=0.5, booster='gbtree', colsample_bylevel=1,\n",
       "       colsample_bytree=1, gamma=0, learning_rate=0.1, max_delta_step=0,\n",
       "       max_depth=3, min_child_weight=1, missing=None, n_estimators=100,\n",
       "       n_jobs=1, nthread=4, objective='binary:logistic',\n",
       "       random_state=12345, reg_alpha=0, reg_lambda=1, scale_pos_weight=1,\n",
       "       seed=None, silent=True, subsample=1),\n",
       "          fit_params=None, iid='warn', n_iter=10, n_jobs=4,\n",
       "          param_distributions={'n_estimators': [50, 100, 200], 'learning_rate': [0.1, 0.05, 0.2], 'min_child_weight': <scipy.stats._distn_infrastructure.rv_frozen object at 0x12012f470>, 'gamma': [0, 0.125, 0.25, 0.5, 1, 2], 'subsample': [0.8, 0.9, 0.95, 0.99, 1], 'colsample_bytree': [0.8, 0.9, 0.95, 0.99, 1], 'max_depth': <scipy.stats._distn_infrastructure.rv_frozen object at 0x12012f5c0>},\n",
       "          pre_dispatch='2*n_jobs', random_state=1234, refit=True,\n",
       "          return_train_score='warn', scoring='neg_log_loss', verbose=0)"
      ]
     },
     "execution_count": 12,
     "metadata": {},
     "output_type": "execute_result"
    }
   ],
   "source": [
    "rnd_search"
   ]
  },
  {
   "cell_type": "code",
   "execution_count": 13,
   "metadata": {},
   "outputs": [],
   "source": [
    "y_pred = rnd_results.predict(X_test)\n",
    "prob_pred = rnd_results.predict_proba(X_test)"
   ]
  },
  {
   "cell_type": "markdown",
   "metadata": {},
   "source": [
    "To account for the accuracy, average the number of correct binary classifications each observation, then average over all observations."
   ]
  },
  {
   "cell_type": "code",
   "execution_count": 82,
   "metadata": {},
   "outputs": [],
   "source": [
    "from sklearn.preprocessing import LabelBinarizer"
   ]
  },
  {
   "cell_type": "code",
   "execution_count": 128,
   "metadata": {},
   "outputs": [],
   "source": [
    "y_pred_onehot = LabelBinarizer().fit_transform(y_pred)\n",
    "y_test_onehot = LabelBinarizer().fit_transform(y_test)"
   ]
  },
  {
   "cell_type": "code",
   "execution_count": 129,
   "metadata": {},
   "outputs": [],
   "source": [
    "correct = y_pred_onehot == y_test_onehot\n",
    "correct_ord = y_pred_onehot.cumsum(axis=1) == y_test_onehot.cumsum(axis=1)"
   ]
  },
  {
   "cell_type": "code",
   "execution_count": 195,
   "metadata": {},
   "outputs": [
    {
     "data": {
      "text/plain": [
       "0.9180546987456303"
      ]
     },
     "execution_count": 195,
     "metadata": {},
     "output_type": "execute_result"
    }
   ],
   "source": [
    "correct_ord[1:].mean()"
   ]
  },
  {
   "cell_type": "code",
   "execution_count": 194,
   "metadata": {},
   "outputs": [
    {
     "data": {
      "text/plain": [
       "0.8719095348239527"
      ]
     },
     "execution_count": 194,
     "metadata": {},
     "output_type": "execute_result"
    }
   ],
   "source": [
    "correct.mean()"
   ]
  },
  {
   "cell_type": "code",
   "execution_count": 196,
   "metadata": {},
   "outputs": [
    {
     "name": "stdout",
     "output_type": "stream",
     "text": [
      "[0.99872495 0.93479452 0.86308113 0.83500456 0.90409463 0.93933934]\n"
     ]
    },
    {
     "data": {
      "text/plain": [
       "0.8952628359222216"
      ]
     },
     "execution_count": 196,
     "metadata": {},
     "output_type": "execute_result"
    }
   ],
   "source": [
    "recall_ord = np.zeros(6)\n",
    "for i in range(6):\n",
    "    recall_ord[i] = correct_ord[y_test == i, 1:].mean()\n",
    "print(recall_ord)\n",
    "recall_ord[1:].mean()"
   ]
  },
  {
   "cell_type": "code",
   "execution_count": 140,
   "metadata": {},
   "outputs": [
    {
     "name": "stdout",
     "output_type": "stream",
     "text": [
      "[0.84608379 0.63561644 0.4721969  0.37556974 0.61510464 0.76276276]\n"
     ]
    },
    {
     "data": {
      "text/plain": [
       "0.6178890444481301"
      ]
     },
     "execution_count": 140,
     "metadata": {},
     "output_type": "execute_result"
    }
   ],
   "source": [
    "recall = np.zeros(6)\n",
    "for i in range(6):\n",
    "    recall[i] = correct[y_test == i, i].mean()\n",
    "print(recall)\n",
    "recall.mean()"
   ]
  },
  {
   "cell_type": "code",
   "execution_count": 149,
   "metadata": {},
   "outputs": [
    {
     "name": "stdout",
     "output_type": "stream",
     "text": [
      "[0.994      0.91391162 0.88199234 0.87185185 0.88576214 0.91497758]\n"
     ]
    },
    {
     "data": {
      "text/plain": [
       "0.8936991063680277"
      ]
     },
     "execution_count": 149,
     "metadata": {},
     "output_type": "execute_result"
    }
   ],
   "source": [
    "precision_ord = np.zeros(6)\n",
    "for i in range(6):\n",
    "    precision_ord[i] = correct_ord[y_pred == i, 1:].mean()\n",
    "print(precision_ord)\n",
    "precision_ord[1:].mean()"
   ]
  },
  {
   "cell_type": "code",
   "execution_count": 144,
   "metadata": {},
   "outputs": [
    {
     "name": "stdout",
     "output_type": "stream",
     "text": [
      "[0.84454545 0.5695581  0.49616858 0.50864198 0.56616415 0.68340807]\n"
     ]
    },
    {
     "data": {
      "text/plain": [
       "0.6114143899258837"
      ]
     },
     "execution_count": 144,
     "metadata": {},
     "output_type": "execute_result"
    }
   ],
   "source": [
    "precision = np.zeros(6)\n",
    "for i in range(6):\n",
    "    precision[i] = correct[y_pred == i, i].mean()\n",
    "print(precision)\n",
    "precision.mean()"
   ]
  },
  {
   "cell_type": "markdown",
   "metadata": {},
   "source": [
    "The $F1$ score"
   ]
  },
  {
   "cell_type": "code",
   "execution_count": 147,
   "metadata": {},
   "outputs": [
    {
     "data": {
      "text/plain": [
       "0.9071417474558915"
      ]
     },
     "execution_count": 147,
     "metadata": {},
     "output_type": "execute_result"
    }
   ],
   "source": [
    "2 * (precision_ord[1:].mean() * recall_ord[1:].mean()) / (precision_ord[1:].mean() + recall_ord[1:].mean())"
   ]
  },
  {
   "cell_type": "code",
   "execution_count": 148,
   "metadata": {},
   "outputs": [
    {
     "data": {
      "text/plain": [
       "0.6146346664125559"
      ]
     },
     "execution_count": 148,
     "metadata": {},
     "output_type": "execute_result"
    }
   ],
   "source": [
    "2 * (precision.mean() * recall.mean()) / (precision.mean() + recall.mean())"
   ]
  },
  {
   "cell_type": "code",
   "execution_count": 117,
   "metadata": {},
   "outputs": [
    {
     "data": {
      "text/html": [
       "<div>\n",
       "<style scoped>\n",
       "    .dataframe tbody tr th:only-of-type {\n",
       "        vertical-align: middle;\n",
       "    }\n",
       "\n",
       "    .dataframe tbody tr th {\n",
       "        vertical-align: top;\n",
       "    }\n",
       "\n",
       "    .dataframe thead th {\n",
       "        text-align: right;\n",
       "    }\n",
       "</style>\n",
       "<table border=\"1\" class=\"dataframe\">\n",
       "  <thead>\n",
       "    <tr style=\"text-align: right;\">\n",
       "      <th></th>\n",
       "      <th>n</th>\n",
       "      <th>precision</th>\n",
       "      <th>precision_exact</th>\n",
       "      <th>recall</th>\n",
       "      <th>recall_exact</th>\n",
       "    </tr>\n",
       "  </thead>\n",
       "  <tbody>\n",
       "    <tr>\n",
       "      <th>0</th>\n",
       "      <td>1098</td>\n",
       "      <td>0.969091</td>\n",
       "      <td>0.844545</td>\n",
       "      <td>0.973285</td>\n",
       "      <td>0.846084</td>\n",
       "    </tr>\n",
       "    <tr>\n",
       "      <th>1</th>\n",
       "      <td>1095</td>\n",
       "      <td>0.906028</td>\n",
       "      <td>0.702946</td>\n",
       "      <td>0.922983</td>\n",
       "      <td>0.771689</td>\n",
       "    </tr>\n",
       "    <tr>\n",
       "      <th>2</th>\n",
       "      <td>1097</td>\n",
       "      <td>0.900862</td>\n",
       "      <td>0.655172</td>\n",
       "      <td>0.883774</td>\n",
       "      <td>0.680036</td>\n",
       "    </tr>\n",
       "    <tr>\n",
       "      <th>3</th>\n",
       "      <td>1097</td>\n",
       "      <td>0.893004</td>\n",
       "      <td>0.844444</td>\n",
       "      <td>0.861744</td>\n",
       "      <td>0.756609</td>\n",
       "    </tr>\n",
       "    <tr>\n",
       "      <th>4</th>\n",
       "      <td>1099</td>\n",
       "      <td>0.904802</td>\n",
       "      <td>0.848409</td>\n",
       "      <td>0.919624</td>\n",
       "      <td>0.768881</td>\n",
       "    </tr>\n",
       "    <tr>\n",
       "      <th>5</th>\n",
       "      <td>999</td>\n",
       "      <td>0.929148</td>\n",
       "      <td>1.000000</td>\n",
       "      <td>0.949449</td>\n",
       "      <td>1.000000</td>\n",
       "    </tr>\n",
       "  </tbody>\n",
       "</table>\n",
       "</div>"
      ],
      "text/plain": [
       "      n  precision  precision_exact    recall  recall_exact\n",
       "0  1098   0.969091         0.844545  0.973285      0.846084\n",
       "1  1095   0.906028         0.702946  0.922983      0.771689\n",
       "2  1097   0.900862         0.655172  0.883774      0.680036\n",
       "3  1097   0.893004         0.844444  0.861744      0.756609\n",
       "4  1099   0.904802         0.848409  0.919624      0.768881\n",
       "5   999   0.929148         1.000000  0.949449      1.000000"
      ]
     },
     "execution_count": 117,
     "metadata": {},
     "output_type": "execute_result"
    }
   ],
   "source": [
    "pd.DataFrame(\n",
    "    {'n': np.bincount(y_test),\n",
    "     'precision': precision,\n",
    "     'precision_exact': precision_exact,\n",
    "     'recall': recall,\n",
    "     'recall_exact': recall_exact\n",
    "    })"
   ]
  },
  {
   "cell_type": "code",
   "execution_count": 114,
   "metadata": {},
   "outputs": [],
   "source": [
    "predictions = pd.DataFrame({'actual': y_test, 'pred': y_pred})\n",
    "for c in ('actual', 'pred'):\n",
    "    predictions[c] = pd.Categorical.from_codes(predictions[c], WP10_LABELS)"
   ]
  },
  {
   "cell_type": "code",
   "execution_count": 153,
   "metadata": {},
   "outputs": [],
   "source": [
    "import seaborn as sns\n",
    "import matplotlib.pyplot as plt"
   ]
  },
  {
   "cell_type": "code",
   "execution_count": 154,
   "metadata": {},
   "outputs": [],
   "source": [
    "confusion = predictions.groupby(['actual', 'pred']).aggregate(len).reset_index()\n",
    "confusion = confusion.rename(columns={0: 'n'})\n",
    "confusion['p'] = confusion['n'] / confusion['n'].sum()\n",
    "actual_totals = confusion.groupby(['actual'])['n'].transform('sum')\n",
    "confusion['p_actual'] = confusion['n'] / actual_totals"
   ]
  },
  {
   "cell_type": "code",
   "execution_count": 172,
   "metadata": {},
   "outputs": [],
   "source": [
    "confusion_table = confusion.pivot(index='actual', columns='pred', values='p_actual').fillna(0)"
   ]
  },
  {
   "cell_type": "code",
   "execution_count": 193,
   "metadata": {},
   "outputs": [
    {
     "data": {
      "image/png": "[encoded data removed]",
      "text/plain": [
       "<Figure size 432x288 with 2 Axes>"
      ]
     },
     "metadata": {
      "needs_background": "light"
     },
     "output_type": "display_data"
    }
   ],
   "source": [
    "sns.heatmap(confusion_table, vmin=0, vmax=1, square=True, annot=True, fmt=\"0.2f\")\n",
    "plt.suptitle(\"Confusion Matrix for Heldout 20% Sample\")\n",
    "plt.ylabel('Actual')\n",
    "plt.xlabel('Predicted')\n",
    "plt.figtext(0.4, -0.1, 'Note: Rows sum to 1', wrap=True, horizontalalignment='right')\n",
    "plt.savefig('confusion-matrix.png')\n",
    "plt.show()"
   ]
  },
  {
   "cell_type": "markdown",
   "metadata": {},
   "source": [
    "# Fit Final model"
   ]
  },
  {
   "cell_type": "code",
   "execution_count": 59,
   "metadata": {},
   "outputs": [],
   "source": [
    "pipeline = Pipeline([('preprocessor', RevisionPreprocessor()), ('clf', clone(rnd_results.best_estimator_))])"
   ]
  },
  {
   "cell_type": "code",
   "execution_count": 60,
   "metadata": {},
   "outputs": [
    {
     "data": {
      "text/plain": [
       "Pipeline(memory=None,\n",
       "     steps=[('preprocessor', RevisionPreprocessor()), ('clf', XGBClassifier(base_score=0.5, booster='gbtree', colsample_bylevel=1,\n",
       "       colsample_bytree=1, gamma=0.125, learning_rate=0.1,\n",
       "       max_delta_step=0, max_depth=7, min_child_weight=1, missing=None,\n",
       "       n_estimators=100, n_jobs=1, nthread=4, objective='multi:softprob',\n",
       "       random_state=12345, reg_alpha=0, reg_lambda=1, scale_pos_weight=1,\n",
       "       seed=None, silent=True, subsample=0.8))])"
      ]
     },
     "execution_count": 60,
     "metadata": {},
     "output_type": "execute_result"
    }
   ],
   "source": [
    "pipeline.fit(revisions, y)"
   ]
  },
  {
   "cell_type": "code",
   "execution_count": 61,
   "metadata": {},
   "outputs": [],
   "source": [
    "with open(\"../wikidit/xgboost-sequential.pkl\", \"wb\") as f:\n",
    "    dill.dump(pipeline, f)"
   ]
  },
  {
   "cell_type": "markdown",
   "metadata": {},
   "source": [
    "# Tree of the Ordinal Model"
   ]
  },
  {
   "cell_type": "markdown",
   "metadata": {},
   "source": [
    "Graphic of the tree of the ordinal model used in training."
   ]
  },
  {
   "cell_type": "code",
   "execution_count": 198,
   "metadata": {},
   "outputs": [],
   "source": [
    "from graphviz import Digraph"
   ]
  },
  {
   "cell_type": "code",
   "execution_count": 204,
   "metadata": {},
   "outputs": [
    {
     "name": "stdout",
     "output_type": "stream",
     "text": [
      "digraph {\n",
      "\troot [label=\"P(c > Stub)\"]\n",
      "\tstub [label=\"P(Stub)\" shape=rectangle]\n",
      "\tgtstub [label=\"P(c > Start | c > Stub)\"]\n",
      "\tstart [label=\"P(Start)\" shape=rectangle]\n",
      "\tgtstart [label=\"\"]\n",
      "\tc [label=\"P(C)\" shape=rectangle]\n",
      "\tgtc [label=\"\"]\n",
      "\tb [label=\"P(B)\" shape=rectangle]\n",
      "\tgtb [label=\"\"]\n",
      "\tga [label=\"P(GA)\" shape=rectangle]\n",
      "\tfa [label=\"P(FA)\" shape=rectangle]\n",
      "\troot -> stub [label=\"\"]\n",
      "\troot -> gtstub [label=\"\"]\n",
      "\tgtstub -> start [label=\"\"]\n",
      "\tgtstub -> gtstart [label=\"\"]\n",
      "\tgtstart -> c [label=\"\"]\n",
      "\tgtstart -> gtc [label=\"\"]\n",
      "\tgtc -> b [label=\"\"]\n",
      "\tgtc -> gtb [label=\"\"]\n",
      "\tgtb -> ga [label=\"\"]\n",
      "\tgtb -> fa [label=\"\"]\n",
      "}\n"
     ]
    }
   ],
   "source": [
    "dot = Digraph(format='png')\n",
    "dot.node('root', \"P(c > Stub)\")\n",
    "dot.node('stub', 'P(Stub)', shape=\"rectangle\")\n",
    "dot.node('gtstub', \"P(c > Start | c > Stub)\")\n",
    "dot.node('start', \"P(Start)\", shape=\"rectangle\")\n",
    "dot.node('gtstart', \"P(c > Start | c > Stub)\", )\n",
    "dot.node('c', 'P(C)', shape=\"rectangle\")\n",
    "dot.node('gtc', \"P(c > C | c > Start)\")\n",
    "dot.node('b', 'P(B)', shape=\"rectangle\")\n",
    "dot.node('gtb', \"P(c > GA | c > B)\")\n",
    "dot.node('ga', 'P(GA)', shape=\"rectangle\")\n",
    "dot.node('fa', 'P(FA)', shape=\"rectangle\")\n",
    "dot.edge(\"root\", \"stub\", label=\"\")\n",
    "dot.edge(\"root\", \"gtstub\", label=\"\")\n",
    "dot.edge('gtstub', 'start', label=\"\")\n",
    "dot.edge('gtstub', 'gtstart', label=\"\")\n",
    "dot.edge('gtstart', 'c', label=\"\")\n",
    "dot.edge('gtstart', 'gtc', label=\"\")\n",
    "dot.edge('gtc', 'b', label=\"\")\n",
    "dot.edge('gtc', 'gtb', label=\"\")\n",
    "dot.edge('gtb', 'ga', label=\"\")\n",
    "dot.edge('gtb', 'fa', label=\"\")\n",
    "print(dot.source)"
   ]
  },
  {
   "cell_type": "code",
   "execution_count": 205,
   "metadata": {},
   "outputs": [
    {
     "data": {
      "text/plain": [
       "'model.gv.png'"
      ]
     },
     "execution_count": 205,
     "metadata": {},
     "output_type": "execute_result"
    }
   ],
   "source": [
    "dot.render('model.gv', view=True)"
   ]
  },
  {
   "cell_type": "markdown",
   "metadata": {},
   "source": [
    "# Information on Training Set"
   ]
  },
  {
   "cell_type": "code",
   "execution_count": null,
   "metadata": {},
   "outputs": [],
   "source": [
    "revisions.groupby('wp10')['wp10'].count()"
   ]
  },
  {
   "cell_type": "markdown",
   "metadata": {},
   "source": [
    "# Check one page"
   ]
  },
  {
   "cell_type": "code",
   "execution_count": 62,
   "metadata": {},
   "outputs": [],
   "source": [
    "from wikidit.mw import get_page, Session"
   ]
  },
  {
   "cell_type": "code",
   "execution_count": 84,
   "metadata": {},
   "outputs": [],
   "source": [
    "session = Session()\n",
    "page = get_page(\"xgboost\")"
   ]
  },
  {
   "cell_type": "code",
   "execution_count": 85,
   "metadata": {},
   "outputs": [],
   "source": [
    "from wikidit.preprocessing import Featurizer\n",
    "featurizer = Featurizer()"
   ]
  },
  {
   "cell_type": "code",
   "execution_count": 86,
   "metadata": {},
   "outputs": [],
   "source": [
    "featurized = featurizer.featurize(page)"
   ]
  },
  {
   "cell_type": "code",
   "execution_count": 87,
   "metadata": {},
   "outputs": [],
   "source": [
    "from wikidit.models import predict_page_edits"
   ]
  },
  {
   "cell_type": "code",
   "execution_count": 88,
   "metadata": {},
   "outputs": [],
   "source": [
    "import dill\n",
    "with open(\"../models/xgboost-sequential.pkl\", \"rb\") as f:\n",
    "    MODEL = dill.load(f) "
   ]
  },
  {
   "cell_type": "code",
   "execution_count": 89,
   "metadata": {},
   "outputs": [],
   "source": [
    "edits = predict_page_edits(page['content'], featurizer, MODEL)"
   ]
  },
  {
   "cell_type": "code",
   "execution_count": 98,
   "metadata": {},
   "outputs": [
    {
     "name": "stdout",
     "output_type": "stream",
     "text": [
      "paragraph\n",
      "   words  images  ref\n",
      "0    466       0   14\n",
      "images\n",
      "   words  images  ref\n",
      "0    316       1   14\n",
      "ref\n",
      "   words  images  ref\n",
      "0    331       0   15\n",
      "paragraph 1.85\n",
      "images 1.67\n",
      "ref 1.53\n"
     ]
    }
   ],
   "source": [
    "for k, __, data in edits['edits']:\n",
    "    if k in ('paragraph', 'images', 'ref'):\n",
    "        print(k)\n",
    "        print(data[['words', 'images', 'ref']])\n",
    "\n",
    "for k, __, data in edits['edit_scores']:\n",
    "    if k in ('paragraph', 'images', 'ref'):\n",
    "        print(k, np.round(data, 2))"
   ]
  },
  {
   "cell_type": "code",
   "execution_count": 99,
   "metadata": {},
   "outputs": [
    {
     "data": {
      "text/plain": [
       "1.4"
      ]
     },
     "execution_count": 99,
     "metadata": {},
     "output_type": "execute_result"
    }
   ],
   "source": [
    "np.round(edits['score'], 2)"
   ]
  }
 ],
 "metadata": {
  "kernelspec": {
   "display_name": "Python 3",
   "language": "python",
   "name": "python3"
  },
  "language_info": {
   "codemirror_mode": {
    "name": "ipython",
    "version": 3
   },
   "file_extension": ".py",
   "mimetype": "text/x-python",
   "name": "python",
   "nbconvert_exporter": "python",
   "pygments_lexer": "ipython3",
   "version": "3.6.6"
  }
 },
 "nbformat": 4,
 "nbformat_minor": 2
}
