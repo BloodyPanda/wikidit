{
 "cells": [
  {
   "cell_type": "code",
   "execution_count": 144,
   "metadata": {},
   "outputs": [],
   "source": [
    "import pandas as pd\n",
    "from sklearn_pandas import cross_val_score\n",
    "from pandas import Categorical"
   ]
  },
  {
   "cell_type": "markdown",
   "metadata": {},
   "source": [
    "# Load data"
   ]
  },
  {
   "cell_type": "code",
   "execution_count": 145,
   "metadata": {},
   "outputs": [],
   "source": [
    "QUALITY_LABELS = ('Stub', 'Start', \"C\", \"B\", \"GA\", \"FA\")"
   ]
  },
  {
   "cell_type": "code",
   "execution_count": 146,
   "metadata": {},
   "outputs": [],
   "source": [
    "input_file = \"../data/labelled.enwiki.w_features.csv.gz\"\n",
    "revisions = pd.read_csv(input_file, index_col='revid')"
   ]
  },
  {
   "cell_type": "code",
   "execution_count": 147,
   "metadata": {},
   "outputs": [
    {
     "name": "stdout",
     "output_type": "stream",
     "text": [
      "<class 'pandas.core.frame.DataFrame'>\n",
      "Int64Index: 32427 entries, 416299010 to 415876698\n",
      "Data columns (total 37 columns):\n",
      "anon               0 non-null float64\n",
      "categories         32427 non-null int64\n",
      "chars              32427 non-null int64\n",
      "citation_needed    32427 non-null int64\n",
      "cite_templates     32427 non-null int64\n",
      "comment            29203 non-null object\n",
      "content_chars      32427 non-null int64\n",
      "coordinates        32427 non-null bool\n",
      "external_links     32427 non-null int64\n",
      "headings           32427 non-null int64\n",
      "images             32427 non-null int64\n",
      "infoboxes          32427 non-null int64\n",
      "lead_char          32427 non-null int64\n",
      "lead_paras         32427 non-null int64\n",
      "main_templates     32427 non-null int64\n",
      "minor              0 non-null float64\n",
      "non_lead_paras     32427 non-null int64\n",
      "non_ref_paras      32427 non-null int64\n",
      "ns                 32427 non-null int64\n",
      "other_templates    32427 non-null int64\n",
      "pageid             32427 non-null int64\n",
      "parentid           32427 non-null int64\n",
      "ref                32427 non-null int64\n",
      "sha1               32424 non-null object\n",
      "sha1hidden         0 non-null float64\n",
      "size               32427 non-null int64\n",
      "smartlists         32427 non-null int64\n",
      "sub_headings       32427 non-null int64\n",
      "tags               32427 non-null object\n",
      "text               32422 non-null object\n",
      "timestamp          32427 non-null object\n",
      "title              32427 non-null object\n",
      "user               32427 non-null object\n",
      "userid             32427 non-null int64\n",
      "who_templates      32427 non-null int64\n",
      "wikilinks          32427 non-null int64\n",
      "wp10               32427 non-null object\n",
      "dtypes: bool(1), float64(3), int64(25), object(8)\n",
      "memory usage: 9.2+ MB\n"
     ]
    }
   ],
   "source": [
    "revisions.info()"
   ]
  },
  {
   "cell_type": "markdown",
   "metadata": {},
   "source": [
    "# Create a pipeline"
   ]
  },
  {
   "cell_type": "code",
   "execution_count": 153,
   "metadata": {},
   "outputs": [],
   "source": [
    "import pandas as pd\n",
    "import numpy as np\n",
    "from sklearn.pipeline import Pipeline, FeatureUnion\n",
    "from sklearn.preprocessing import FunctionTransformer"
   ]
  },
  {
   "cell_type": "code",
   "execution_count": 154,
   "metadata": {},
   "outputs": [],
   "source": [
    "from sklearn_pandas import DataFrameMapper"
   ]
  },
  {
   "cell_type": "code",
   "execution_count": 165,
   "metadata": {},
   "outputs": [],
   "source": [
    "revisions['wp10'] = Categorical(revisions['wp10'])\n",
    "\n",
    "sqrt_cols = [\n",
    "             'chars',\n",
    "             'content_chars',\n",
    "             \n",
    "             'main_templates',\n",
    "             'who_templates',\n",
    "             'cite_templates',\n",
    "             'citation_needed',\n",
    "             'infoboxes',\n",
    "             'other_templates',\n",
    "             \n",
    "             'headings', \n",
    "             'sub_headings',\n",
    "             \n",
    "             'categories',\n",
    "             'wikilinks',\n",
    "             'images',\n",
    "             'smartlists',\n",
    "             \n",
    "             'lead_char', \n",
    "             'lead_paras',\n",
    "             \n",
    "             'non_lead_paras',\n",
    "             'non_ref_paras'\n",
    "            ]\n",
    "\n",
    "def gt0(x):\n",
    "    return x > 0\n",
    "\n",
    "mapper = DataFrameMapper([\n",
    "    (sqrt_cols, FunctionTransformer(func=np.sqrt)),\n",
    "    (['coordinates', 'infoboxes'], FunctionTransformer(func=gt0))\n",
    "])\n",
    "\n",
    "\n",
    "from sklearn.linear_model import LogisticRegressionCV\n",
    "clf = LogisticRegressionCV(multi_class='multinomial', random_state=1234)\n",
    "\n",
    "pipe = Pipeline([\n",
    "    ('mapper', mapper),\n",
    "    ('clf', clf)\n",
    "])\n"
   ]
  },
  {
   "cell_type": "code",
   "execution_count": 166,
   "metadata": {},
   "outputs": [
    {
     "name": "stderr",
     "output_type": "stream",
     "text": [
      "/opt/conda/lib/python3.6/site-packages/sklearn/externals/joblib/parallel.py:547: UserWarning: Multiprocessing-backed parallel loops cannot be nested, setting n_jobs=1\n",
      "  **self._backend_args)\n",
      "/opt/conda/lib/python3.6/site-packages/sklearn/externals/joblib/parallel.py:547: UserWarning: Multiprocessing-backed parallel loops cannot be nested, setting n_jobs=1\n",
      "  **self._backend_args)\n",
      "/opt/conda/lib/python3.6/site-packages/sklearn/externals/joblib/parallel.py:547: UserWarning: Multiprocessing-backed parallel loops cannot be nested, setting n_jobs=1\n",
      "  **self._backend_args)\n",
      "/opt/conda/lib/python3.6/site-packages/sklearn/externals/joblib/parallel.py:547: UserWarning: Multiprocessing-backed parallel loops cannot be nested, setting n_jobs=1\n",
      "  **self._backend_args)\n",
      "/opt/conda/lib/python3.6/site-packages/sklearn/externals/joblib/parallel.py:547: UserWarning: Multiprocessing-backed parallel loops cannot be nested, setting n_jobs=1\n",
      "  **self._backend_args)\n"
     ]
    }
   ],
   "source": [
    "cvresults = cross_val_score(pipe, X=revisions.copy(), y=y, cv=5, n_jobs=-1)"
   ]
  },
  {
   "cell_type": "code",
   "execution_count": 160,
   "metadata": {},
   "outputs": [
    {
     "data": {
      "text/plain": [
       "array([0.57473178, 0.56786012, 0.56311309])"
      ]
     },
     "execution_count": 160,
     "metadata": {},
     "output_type": "execute_result"
    }
   ],
   "source": [
    "cvresults"
   ]
  },
  {
   "cell_type": "code",
   "execution_count": 161,
   "metadata": {},
   "outputs": [],
   "source": [
    "?cross_val_score"
   ]
  },
  {
   "cell_type": "code",
   "execution_count": 162,
   "metadata": {},
   "outputs": [],
   "source": [
    "??cross_val_score"
   ]
  },
  {
   "cell_type": "code",
   "execution_count": null,
   "metadata": {},
   "outputs": [],
   "source": []
  }
 ],
 "metadata": {
  "kernelspec": {
   "display_name": "Python 3",
   "language": "python",
   "name": "python3"
  },
  "language_info": {
   "codemirror_mode": {
    "name": "ipython",
    "version": 3
   },
   "file_extension": ".py",
   "mimetype": "text/x-python",
   "name": "python",
   "nbconvert_exporter": "python",
   "pygments_lexer": "ipython3",
   "version": "3.6.3"
  }
 },
 "nbformat": 4,
 "nbformat_minor": 2
}
