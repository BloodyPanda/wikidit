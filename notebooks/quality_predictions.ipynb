{
 "cells": [
  {
   "cell_type": "markdown",
   "metadata": {},
   "source": [
    "# Train Model"
   ]
  },
  {
   "cell_type": "code",
   "execution_count": 13,
   "metadata": {},
   "outputs": [],
   "source": [
    "import sys\n",
    "sys.path.append(\"..\")\n",
    "%reload_ext autoreload\n",
    "%autoreload 1"
   ]
  },
  {
   "cell_type": "code",
   "execution_count": 14,
   "metadata": {},
   "outputs": [],
   "source": [
    "import pandas as pd\n",
    "from sklearn_pandas import cross_val_score, DataFrameMapper\n",
    "from pandas import Categorical\n",
    "from sklearn.ensemble import RandomForestClassifier"
   ]
  },
  {
   "cell_type": "code",
   "execution_count": 15,
   "metadata": {},
   "outputs": [],
   "source": [
    "from ares.models import featurize"
   ]
  },
  {
   "cell_type": "code",
   "execution_count": 16,
   "metadata": {},
   "outputs": [],
   "source": [
    "\n",
    "input_file = \"../data/enwiki.labeling_revisions.w_features.nettrom_30k.csv.gz\"\n",
    "revisions = load_revisions(input_file)"
   ]
  },
  {
   "cell_type": "markdown",
   "metadata": {},
   "source": [
    "# Create a pipeline"
   ]
  },
  {
   "cell_type": "code",
   "execution_count": 17,
   "metadata": {},
   "outputs": [],
   "source": [
    "import pandas as pd\n",
    "import numpy as np\n",
    "from sklearn.pipeline import Pipeline, FeatureUnion\n",
    "from sklearn.preprocessing import FunctionTransformer, PolynomialFeatures"
   ]
  },
  {
   "cell_type": "code",
   "execution_count": 18,
   "metadata": {},
   "outputs": [],
   "source": [
    "from sklearn.decomposition import PCA\n",
    "from sklearn.linear_model import LogisticRegressionCV\n",
    "from sklearn.base import BaseEstimator, TransformerMixin\n",
    "\n",
    "\n",
    "sqrt_cols = ['words',\n",
    "             'headings',\n",
    "             'sub_headings',\n",
    "             'images',\n",
    "             'categories',\n",
    "             'wikilinks',\n",
    "\n",
    "             'who_templates',\n",
    "             'main_templates',\n",
    "             'cite_templates',\n",
    "             # infobox as a binary\n",
    "             'citation_needed',\n",
    "             'other_templates',\n",
    "\n",
    "             'ref',\n",
    "             'smartlists',\n",
    "             # coordinates\n",
    "             'coordinates']\n",
    "\n",
    "binarized_cols = ['coordinates', 'infoboxes']\n",
    "\n",
    "mapper = DataFrameMapper([\n",
    "    (sqrt_cols, FunctionTransformer(func=np.sqrt)),\n",
    "    (binarized_cols, FunctionTransformer(func=lambda x: x.astype(bool)))\n",
    "])\n",
    "\n",
    "clf = LogisticRegressionCV(multi_class='multinomial', \n",
    "                           random_state=1234, \n",
    "                           penalty='l2',\n",
    "                           fit_intercept=True, n_jobs=-1)\n",
    "\n",
    "#clf = RandomForestClassifier(n_estimators=200, max_depth=None,\n",
    "#                            random_state=1234, bootstrap=True,\n",
    "#                            n_jobs = -1, oob_score=True)"
   ]
  },
  {
   "cell_type": "code",
   "execution_count": null,
   "metadata": {},
   "outputs": [],
   "source": []
  },
  {
   "cell_type": "code",
   "execution_count": 19,
   "metadata": {},
   "outputs": [],
   "source": [
    "pipe = Pipeline([\n",
    "    ('mapper', mapper),\n",
    "    ('poly', PolynomialFeatures(degree=2)),\n",
    "    ('PCA', PCA(whiten=True)),\n",
    "    ('clf', clf)\n",
    "])"
   ]
  },
  {
   "cell_type": "code",
   "execution_count": 20,
   "metadata": {},
   "outputs": [],
   "source": [
    "fitted = pipe.fit(X=revisions.copy(), y=revisions['wp10'])"
   ]
  },
  {
   "cell_type": "code",
   "execution_count": 21,
   "metadata": {},
   "outputs": [],
   "source": [
    "import dill\n"
   ]
  },
  {
   "cell_type": "code",
   "execution_count": 22,
   "metadata": {},
   "outputs": [],
   "source": [
    "import mwapi\n",
    "session = mwapi.Session(\"https://en.wikipedia.org/\", user_agent=\"<jeffrey.arnold@gmail.com>\")\n",
    "\n",
    "def get_current_page(session: mwapi.Session, title: str) -> dict:\n",
    "    params = {'action': 'query', 'titles': title, 'prop': \"revisions\",\n",
    "              'rvprop': 'ids|content', \"rvslots\": \"main\"}\n",
    "    r = session.get(**params)\n",
    "    page = list(r['query']['pages'].values())[0]\n",
    "    rev = page['revisions'][0]\n",
    "    rev['content'] = rev['slots']['main']['*']\n",
    "    del rev['slots']\n",
    "    return rev\n",
    "    "
   ]
  },
  {
   "cell_type": "markdown",
   "metadata": {},
   "source": [
    "- Add paragraph of text\n",
    "- Add an external link (ignore character contribution)\n",
    "- Add an internal link (ignore character contribution)\n",
    "- Add image\n",
    "- Add headings\n",
    "- Add subheadings"
   ]
  },
  {
   "cell_type": "code",
   "execution_count": 23,
   "metadata": {},
   "outputs": [],
   "source": [
    "class WikiPage:\n",
    "    \n",
    "    def __init__(self, content):\n",
    "        self.data = pd.DataFrame.from_records([featurize(content)])\n",
    "        \n",
    "    def add_count(self, variable, value):\n",
    "        \"\"\"Add value to count number to ensure that it is not greater than \"\"\"\n",
    "        df = self.data.copy()\n",
    "        df[variable] = df[variable] + value\n",
    "        df.loc[df[variable] < 0] = 0\n",
    "        return df\n",
    "    \n",
    "    def set_value(self, variable, value):\n",
    "        \"\"\"Set all values of a column to the same value\"\"\"\n",
    "        df = self.data.copy()\n",
    "        df[variable] = value\n",
    "        return df    \n",
    "   "
   ]
  },
  {
   "cell_type": "code",
   "execution_count": 24,
   "metadata": {},
   "outputs": [],
   "source": [
    "page = WikiPage(get_current_page(session, \"Ahvaz_military_parade_attack\"))"
   ]
  },
  {
   "cell_type": "code",
   "execution_count": 25,
   "metadata": {},
   "outputs": [
    {
     "data": {
      "text/plain": [
       "array(['Stub'], dtype=object)"
      ]
     },
     "execution_count": 25,
     "metadata": {},
     "output_type": "execute_result"
    }
   ],
   "source": [
    "pipe.predict(page.data)"
   ]
  },
  {
   "cell_type": "code",
   "execution_count": 26,
   "metadata": {},
   "outputs": [],
   "source": [
    "count_variables = ((\"words\", 50),\n",
    "             (\"headings\", 1),\n",
    "             (\"sub_headings\", 1),\n",
    "             (\"images\", 1),\n",
    "             (\"categories\", 1),\n",
    "             (\"wikilinks\", 1),\n",
    "             (\"cite_templates\", 1),\n",
    "             (\"citation_needed\", -1),\n",
    "             (\"who_templates\", -1),\n",
    "             (\"smartlists\", 1),\n",
    "             (\"ref\", 1),\n",
    "             (\"coordinates\", 1))\n",
    "\n",
    "binary_variables = ((\"coordinates\", 1), (\"infobox\", 1))\n",
    "\n",
    "for x in count_variables:\n",
    "    pipe.predict(page.add_count(*x))\n",
    "for x in binary_variables:\n",
    "    pipe.predict(page.set_value(*x))"
   ]
  },
  {
   "cell_type": "code",
   "execution_count": 27,
   "metadata": {},
   "outputs": [
    {
     "data": {
      "text/plain": [
       "Index(['categories', 'citation_needed', 'cite_templates', 'coordinates',\n",
       "       'external_links', 'headings', 'images', 'infoboxes', 'main_templates',\n",
       "       'other_templates', 'ref', 'smartlists', 'sub_headings', 'text',\n",
       "       'who_templates', 'wikilinks', 'words'],\n",
       "      dtype='object')"
      ]
     },
     "execution_count": 27,
     "metadata": {},
     "output_type": "execute_result"
    }
   ],
   "source": [
    "page.data.columns"
   ]
  },
  {
   "cell_type": "code",
   "execution_count": null,
   "metadata": {},
   "outputs": [],
   "source": []
  }
 ],
 "metadata": {
  "kernelspec": {
   "display_name": "Python 3",
   "language": "python",
   "name": "python3"
  },
  "language_info": {
   "codemirror_mode": {
    "name": "ipython",
    "version": 3
   },
   "file_extension": ".py",
   "mimetype": "text/x-python",
   "name": "python",
   "nbconvert_exporter": "python",
   "pygments_lexer": "ipython3",
   "version": "3.6.3"
  }
 },
 "nbformat": 4,
 "nbformat_minor": 2
}
