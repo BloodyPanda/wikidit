{
 "cells": [
  {
   "cell_type": "markdown",
   "metadata": {},
   "source": [
    "# Downloading Text for WP10 Quality Predictions"
   ]
  },
  {
   "cell_type": "markdown",
   "metadata": {},
   "source": [
    "For training the quality model I'll use the evaluation of https://github.com/wikimedia/articlequality/blob/master/datasets/enwiki.labeling_revisions.nettrom_30k.json"
   ]
  },
  {
   "cell_type": "code",
   "execution_count": 62,
   "metadata": {},
   "outputs": [],
   "source": [
    "import mwapi\n",
    "import json\n",
    "import itertools\n",
    "import pandas as pd\n",
    "import gzip\n",
    "import os.path"
   ]
  },
  {
   "cell_type": "code",
   "execution_count": 23,
   "metadata": {},
   "outputs": [],
   "source": [
    "input_file = \"../rawdata/enwiki.labeling_revisions.nettrom_30k.json\""
   ]
  },
  {
   "cell_type": "code",
   "execution_count": 24,
   "metadata": {},
   "outputs": [],
   "source": [
    "user_agent = \"<jeffrey.arnold@gmail.com>\"\n",
    "session = mwapi.Session('https://en.wikipedia.org', user_agent=user_agent)"
   ]
  },
  {
   "cell_type": "code",
   "execution_count": 25,
   "metadata": {},
   "outputs": [],
   "source": [
    "with open(input_file, \"r\") as f:\n",
    "    revisions = {x['rev_id']: x['wp10'] for x in [json.loads(line) for line in f]}"
   ]
  },
  {
   "cell_type": "code",
   "execution_count": 26,
   "metadata": {},
   "outputs": [],
   "source": [
    "def split_seq(iterable, size):\n",
    "    it = iter(iterable)\n",
    "    item = list(itertools.islice(it, size))\n",
    "    while item:\n",
    "        yield item\n",
    "        item = list(itertools.islice(it, size))\n",
    "    "
   ]
  },
  {
   "cell_type": "markdown",
   "metadata": {},
   "source": [
    "- ids: Get the revid and, from 1.16 onward, the parentid. 1.11+\n",
    "- roles: List content slot roles that exist in the revision. 1.32+\n",
    "- flags: Whether the revision was a minor edit. 1.11+\n",
    "- timestamp: The date and time the revision was made, in ISO 8601 combined date and time format.\n",
    "- user: The user who made the revision, and if applicable, the flags: userhidden if revision deleted and/or anon if unregistered.\n",
    "- userid: User id of revision creator, as well as userhidden and anon flags. 1.17+\n",
    "- size: The size of the revision text in bytes. 1.11+\n",
    "- sha1: SHA-1 (base 16) of the revision. 1.19+\n",
    "- contentmodel: Content model id of the revision. 1.21+\n",
    "- comment: The edit comment.\n",
    "- parsedcomment: The edit/log comment in HTML format with wikilinks and section references expanded into hyperlinks 1.16+\n",
    "- content: The revision content. If set, the maximum limit will be 10 times as low. (Note: If you want HTML rather than wikitext, use action=parse instead.)\n",
    "- tags: Any tags for this revision, such as those added by AbuseFilter. 1.16+\n"
   ]
  },
  {
   "cell_type": "code",
   "execution_count": 64,
   "metadata": {},
   "outputs": [
    {
     "ename": "NameError",
     "evalue": "name 'stop' is not defined",
     "output_type": "error",
     "traceback": [
      "\u001b[0;31m---------------------------------------------------------------------------\u001b[0m",
      "\u001b[0;31mNameError\u001b[0m                                 Traceback (most recent call last)",
      "\u001b[0;32m<ipython-input-64-ddc6f092744b>\u001b[0m in \u001b[0;36m<module>\u001b[0;34m()\u001b[0m\n\u001b[1;32m      5\u001b[0m \u001b[0moutput_file\u001b[0m \u001b[0;34m=\u001b[0m \u001b[0;34m\"../data/enwiki.labeling_revisions.w_text.nettrom_30k.json\"\u001b[0m\u001b[0;34m\u001b[0m\u001b[0m\n\u001b[1;32m      6\u001b[0m \u001b[0;32mif\u001b[0m \u001b[0mos\u001b[0m\u001b[0;34m.\u001b[0m\u001b[0mpath\u001b[0m\u001b[0;34m.\u001b[0m\u001b[0mexists\u001b[0m\u001b[0;34m(\u001b[0m\u001b[0moutput_file\u001b[0m\u001b[0;34m)\u001b[0m\u001b[0;34m:\u001b[0m\u001b[0;34m\u001b[0m\u001b[0m\n\u001b[0;32m----> 7\u001b[0;31m     \u001b[0mstop\u001b[0m\u001b[0;34m(\u001b[0m\u001b[0;34mf\"{output_file} exists\"\u001b[0m\u001b[0;34m)\u001b[0m\u001b[0;34m\u001b[0m\u001b[0m\n\u001b[0m\u001b[1;32m      8\u001b[0m \u001b[0;34m\u001b[0m\u001b[0m\n\u001b[1;32m      9\u001b[0m \u001b[0;32mwith\u001b[0m \u001b[0mgzip\u001b[0m\u001b[0;34m.\u001b[0m\u001b[0mopen\u001b[0m\u001b[0;34m(\u001b[0m\u001b[0moutput_file\u001b[0m\u001b[0;34m,\u001b[0m \u001b[0;34m\"wt\"\u001b[0m\u001b[0;34m)\u001b[0m \u001b[0;32mas\u001b[0m \u001b[0mf\u001b[0m\u001b[0;34m:\u001b[0m\u001b[0;34m\u001b[0m\u001b[0m\n",
      "\u001b[0;31mNameError\u001b[0m: name 'stop' is not defined"
     ]
    }
   ],
   "source": [
    "newdata = []\n",
    "chunksize = 50\n",
    "rvprop='content|comment|sha1|size|userid|user|timestamp|flags|ids'\n",
    "\n",
    "output_file = \"../data/enwiki.labeling_revisions.w_text.nettrom_30k.ndjson.gz\"\n",
    "if os.path.exists(output_file):\n",
    "    raise FileExistsError(f\"{output_file} exists\")\n",
    "\n",
    "with gzip.open(output_file, \"wt\") as f:\n",
    "    for i, rev_id in enumerate(split_seq(revisions, chunksize)):\n",
    "        print(f\"downloading chunk {i}\")\n",
    "        revids = '|'.join(str(x) for x in rev_id)\n",
    "        r = session.get(action=\"query\", revids=revids, prop='revisions', rvprop=rvprop, rvslots='main')\n",
    "        pages = r['query']['pages']\n",
    "        for page in pages.values():\n",
    "            for revision in page['revisions']:\n",
    "                # A few of these revisions have had their content removed\n",
    "                try:\n",
    "                    revision['wikitext'] = revision['slots']['main']['*']\n",
    "                except KeyError:\n",
    "                    print(revision)\n",
    "                    continue\n",
    "                del revision['slots']\n",
    "                for k in ('pageid', 'ns', 'title'):\n",
    "                    revision[k] = page[k]\n",
    "                f.write(json.dumps(revision) + \"\\n\")\n"
   ]
  }
 ],
 "metadata": {
  "kernelspec": {
   "display_name": "Python 3",
   "language": "python",
   "name": "python3"
  },
  "language_info": {
   "codemirror_mode": {
    "name": "ipython",
    "version": 3
   },
   "file_extension": ".py",
   "mimetype": "text/x-python",
   "name": "python",
   "nbconvert_exporter": "python",
   "pygments_lexer": "ipython3",
   "version": "3.6.3"
  }
 },
 "nbformat": 4,
 "nbformat_minor": 2
}
